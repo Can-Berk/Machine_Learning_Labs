{
  "cells": [
    {
      "cell_type": "code",
      "execution_count": null,
      "metadata": {
        "id": "VUy2uE-y3q7r"
      },
      "outputs": [],
      "source": [
        "import pandas as pd\n",
        "import numpy as np\n",
        "import math\n",
        "from matplotlib import pyplot as plt\n",
        "%matplotlib inline"
      ]
    },
    {
      "cell_type": "markdown",
      "metadata": {
        "id": "EIdjjQ-x3q7v"
      },
      "source": [
        "# **Exercise 1: Exploratory Analysis on Rossman GmbH data**"
      ]
    },
    {
      "cell_type": "markdown",
      "metadata": {
        "id": "2u4oNW1a3q7w"
      },
      "source": [
        "## **Part A: Interesting**"
      ]
    },
    {
      "cell_type": "code",
      "execution_count": null,
      "metadata": {
        "id": "AGE4ZR663q7w",
        "outputId": "275a1d5b-32c4-4b34-92a6-b8be6c985dfd"
      },
      "outputs": [
        {
          "data": {
            "text/html": [
              "<div>\n",
              "<style scoped>\n",
              "    .dataframe tbody tr th:only-of-type {\n",
              "        vertical-align: middle;\n",
              "    }\n",
              "\n",
              "    .dataframe tbody tr th {\n",
              "        vertical-align: top;\n",
              "    }\n",
              "\n",
              "    .dataframe thead th {\n",
              "        text-align: right;\n",
              "    }\n",
              "</style>\n",
              "<table border=\"1\" class=\"dataframe\">\n",
              "  <thead>\n",
              "    <tr style=\"text-align: right;\">\n",
              "      <th></th>\n",
              "      <th>Store</th>\n",
              "      <th>DayOfWeek</th>\n",
              "      <th>Date</th>\n",
              "      <th>Sales</th>\n",
              "      <th>Customers</th>\n",
              "      <th>Open</th>\n",
              "      <th>Promo</th>\n",
              "      <th>StateHoliday</th>\n",
              "      <th>SchoolHoliday</th>\n",
              "    </tr>\n",
              "  </thead>\n",
              "  <tbody>\n",
              "    <tr>\n",
              "      <th>0</th>\n",
              "      <td>1</td>\n",
              "      <td>5</td>\n",
              "      <td>2015-07-31</td>\n",
              "      <td>5263</td>\n",
              "      <td>555</td>\n",
              "      <td>1</td>\n",
              "      <td>1</td>\n",
              "      <td>0</td>\n",
              "      <td>1</td>\n",
              "    </tr>\n",
              "    <tr>\n",
              "      <th>1</th>\n",
              "      <td>2</td>\n",
              "      <td>5</td>\n",
              "      <td>2015-07-31</td>\n",
              "      <td>6064</td>\n",
              "      <td>625</td>\n",
              "      <td>1</td>\n",
              "      <td>1</td>\n",
              "      <td>0</td>\n",
              "      <td>1</td>\n",
              "    </tr>\n",
              "    <tr>\n",
              "      <th>2</th>\n",
              "      <td>3</td>\n",
              "      <td>5</td>\n",
              "      <td>2015-07-31</td>\n",
              "      <td>8314</td>\n",
              "      <td>821</td>\n",
              "      <td>1</td>\n",
              "      <td>1</td>\n",
              "      <td>0</td>\n",
              "      <td>1</td>\n",
              "    </tr>\n",
              "    <tr>\n",
              "      <th>3</th>\n",
              "      <td>4</td>\n",
              "      <td>5</td>\n",
              "      <td>2015-07-31</td>\n",
              "      <td>13995</td>\n",
              "      <td>1498</td>\n",
              "      <td>1</td>\n",
              "      <td>1</td>\n",
              "      <td>0</td>\n",
              "      <td>1</td>\n",
              "    </tr>\n",
              "    <tr>\n",
              "      <th>4</th>\n",
              "      <td>5</td>\n",
              "      <td>5</td>\n",
              "      <td>2015-07-31</td>\n",
              "      <td>4822</td>\n",
              "      <td>559</td>\n",
              "      <td>1</td>\n",
              "      <td>1</td>\n",
              "      <td>0</td>\n",
              "      <td>1</td>\n",
              "    </tr>\n",
              "  </tbody>\n",
              "</table>\n",
              "</div>"
            ],
            "text/plain": [
              "   Store  DayOfWeek        Date  Sales  Customers  Open  Promo StateHoliday  \\\n",
              "0      1          5  2015-07-31   5263        555     1      1            0   \n",
              "1      2          5  2015-07-31   6064        625     1      1            0   \n",
              "2      3          5  2015-07-31   8314        821     1      1            0   \n",
              "3      4          5  2015-07-31  13995       1498     1      1            0   \n",
              "4      5          5  2015-07-31   4822        559     1      1            0   \n",
              "\n",
              "   SchoolHoliday  \n",
              "0              1  \n",
              "1              1  \n",
              "2              1  \n",
              "3              1  \n",
              "4              1  "
            ]
          },
          "execution_count": 2,
          "metadata": {},
          "output_type": "execute_result"
        }
      ],
      "source": [
        "data = pd.read_csv('https://raw.githubusercontent.com/Can-Berk/Machine_Learning_Labs/main/Datasets/train_rossman.csv', engine='python', sep=\",\")\n",
        "data.head()"
      ]
    },
    {
      "cell_type": "markdown",
      "source": [
        "### *Store that has the maximum sale recorded*"
      ],
      "metadata": {
        "id": "xRbpuEsY2EF-"
      }
    },
    {
      "cell_type": "code",
      "execution_count": null,
      "metadata": {
        "id": "i7G2m7oR3q70",
        "outputId": "54635994-15be-4635-8093-ce2670ba4fbe"
      },
      "outputs": [
        {
          "name": "stdout",
          "output_type": "stream",
          "text": [
            "Store                   909\n",
            "DayOfWeek                 1\n",
            "Date             2015-06-22\n",
            "Sales                 41551\n",
            "Customers              1721\n",
            "Open                      1\n",
            "Promo                     0\n",
            "StateHoliday              0\n",
            "SchoolHoliday             0\n",
            "Name: 44393, dtype: object\n"
          ]
        }
      ],
      "source": [
        "max_sales=data.loc[data['Sales'].idxmax()]\n",
        "print(data.loc[data['Sales'].idxmax()])"
      ]
    },
    {
      "cell_type": "code",
      "execution_count": null,
      "metadata": {
        "id": "umHOVzcS3q71",
        "outputId": "0bab494e-8695-4f97-8ee6-e4145aedab32"
      },
      "outputs": [
        {
          "name": "stdout",
          "output_type": "stream",
          "text": [
            "Sale record Store info:\n",
            " Store           909\n",
            "Date     2015-06-22\n",
            "Sales         41551\n",
            "Name: 44393, dtype: object\n"
          ]
        }
      ],
      "source": [
        "print(\"Sale record Store info:\\n\",max_sales[[\"Store\", \"Date\", \"Sales\"]])"
      ]
    },
    {
      "cell_type": "markdown",
      "source": [
        "### *Store that has the maximum sale recorded*"
      ],
      "metadata": {
        "id": "oRlBpECg306s"
      }
    },
    {
      "cell_type": "code",
      "execution_count": null,
      "metadata": {
        "id": "r_eTB7-x3q72",
        "outputId": "b470ef8f-6983-4cda-8d25-867b20c9ca0b"
      },
      "outputs": [
        {
          "data": {
            "text/html": [
              "<div>\n",
              "<style scoped>\n",
              "    .dataframe tbody tr th:only-of-type {\n",
              "        vertical-align: middle;\n",
              "    }\n",
              "\n",
              "    .dataframe tbody tr th {\n",
              "        vertical-align: top;\n",
              "    }\n",
              "\n",
              "    .dataframe thead th {\n",
              "        text-align: right;\n",
              "    }\n",
              "</style>\n",
              "<table border=\"1\" class=\"dataframe\">\n",
              "  <thead>\n",
              "    <tr style=\"text-align: right;\">\n",
              "      <th></th>\n",
              "      <th>Store</th>\n",
              "      <th>StoreType</th>\n",
              "      <th>Assortment</th>\n",
              "      <th>CompetitionDistance</th>\n",
              "      <th>CompetitionOpenSinceMonth</th>\n",
              "      <th>CompetitionOpenSinceYear</th>\n",
              "      <th>Promo2</th>\n",
              "      <th>Promo2SinceWeek</th>\n",
              "      <th>Promo2SinceYear</th>\n",
              "      <th>PromoInterval</th>\n",
              "    </tr>\n",
              "  </thead>\n",
              "  <tbody>\n",
              "    <tr>\n",
              "      <th>0</th>\n",
              "      <td>1</td>\n",
              "      <td>c</td>\n",
              "      <td>a</td>\n",
              "      <td>1270.0</td>\n",
              "      <td>9.0</td>\n",
              "      <td>2008.0</td>\n",
              "      <td>0</td>\n",
              "      <td>NaN</td>\n",
              "      <td>NaN</td>\n",
              "      <td>NaN</td>\n",
              "    </tr>\n",
              "    <tr>\n",
              "      <th>1</th>\n",
              "      <td>2</td>\n",
              "      <td>a</td>\n",
              "      <td>a</td>\n",
              "      <td>570.0</td>\n",
              "      <td>11.0</td>\n",
              "      <td>2007.0</td>\n",
              "      <td>1</td>\n",
              "      <td>13.0</td>\n",
              "      <td>2010.0</td>\n",
              "      <td>Jan,Apr,Jul,Oct</td>\n",
              "    </tr>\n",
              "    <tr>\n",
              "      <th>2</th>\n",
              "      <td>3</td>\n",
              "      <td>a</td>\n",
              "      <td>a</td>\n",
              "      <td>14130.0</td>\n",
              "      <td>12.0</td>\n",
              "      <td>2006.0</td>\n",
              "      <td>1</td>\n",
              "      <td>14.0</td>\n",
              "      <td>2011.0</td>\n",
              "      <td>Jan,Apr,Jul,Oct</td>\n",
              "    </tr>\n",
              "    <tr>\n",
              "      <th>3</th>\n",
              "      <td>4</td>\n",
              "      <td>c</td>\n",
              "      <td>c</td>\n",
              "      <td>620.0</td>\n",
              "      <td>9.0</td>\n",
              "      <td>2009.0</td>\n",
              "      <td>0</td>\n",
              "      <td>NaN</td>\n",
              "      <td>NaN</td>\n",
              "      <td>NaN</td>\n",
              "    </tr>\n",
              "    <tr>\n",
              "      <th>4</th>\n",
              "      <td>5</td>\n",
              "      <td>a</td>\n",
              "      <td>a</td>\n",
              "      <td>29910.0</td>\n",
              "      <td>4.0</td>\n",
              "      <td>2015.0</td>\n",
              "      <td>0</td>\n",
              "      <td>NaN</td>\n",
              "      <td>NaN</td>\n",
              "      <td>NaN</td>\n",
              "    </tr>\n",
              "  </tbody>\n",
              "</table>\n",
              "</div>"
            ],
            "text/plain": [
              "   Store StoreType Assortment  CompetitionDistance  CompetitionOpenSinceMonth  \\\n",
              "0      1         c          a               1270.0                        9.0   \n",
              "1      2         a          a                570.0                       11.0   \n",
              "2      3         a          a              14130.0                       12.0   \n",
              "3      4         c          c                620.0                        9.0   \n",
              "4      5         a          a              29910.0                        4.0   \n",
              "\n",
              "   CompetitionOpenSinceYear  Promo2  Promo2SinceWeek  Promo2SinceYear  \\\n",
              "0                    2008.0       0              NaN              NaN   \n",
              "1                    2007.0       1             13.0           2010.0   \n",
              "2                    2006.0       1             14.0           2011.0   \n",
              "3                    2009.0       0              NaN              NaN   \n",
              "4                    2015.0       0              NaN              NaN   \n",
              "\n",
              "     PromoInterval  \n",
              "0              NaN  \n",
              "1  Jan,Apr,Jul,Oct  \n",
              "2  Jan,Apr,Jul,Oct  \n",
              "3              NaN  \n",
              "4              NaN  "
            ]
          },
          "execution_count": 5,
          "metadata": {},
          "output_type": "execute_result"
        }
      ],
      "source": [
        "data2 = pd.read_csv('https://raw.githubusercontent.com/Can-Berk/Machine_Learning_Labs/main/Datasets/store_rossman.csv', engine='python', sep=\",\")\n",
        "data2.head()"
      ]
    },
    {
      "cell_type": "code",
      "execution_count": null,
      "metadata": {
        "id": "4WafcR9w3q73",
        "outputId": "a6cb517f-0bd0-43ec-d6c8-3af4272633a0"
      },
      "outputs": [
        {
          "name": "stdout",
          "output_type": "stream",
          "text": [
            "max    75860.0\n",
            "min       20.0\n",
            "Name: CompetitionDistance, dtype: float64\n"
          ]
        }
      ],
      "source": [
        "print(data2[\"CompetitionDistance\"].agg(['max', 'min']))"
      ]
    },
    {
      "cell_type": "code",
      "execution_count": null,
      "metadata": {
        "id": "qTO2MVF83q74",
        "outputId": "63103b48-a078-4679-e6da-771939e6d7f7"
      },
      "outputs": [
        {
          "data": {
            "text/plain": [
              "Store                          453\n",
              "StoreType                        a\n",
              "Assortment                       c\n",
              "CompetitionDistance          75860\n",
              "CompetitionOpenSinceMonth      NaN\n",
              "CompetitionOpenSinceYear       NaN\n",
              "Promo2                           0\n",
              "Promo2SinceWeek                NaN\n",
              "Promo2SinceYear                NaN\n",
              "PromoInterval                  NaN\n",
              "Name: 452, dtype: object"
            ]
          },
          "execution_count": 7,
          "metadata": {},
          "output_type": "execute_result"
        }
      ],
      "source": [
        "data2.loc[data2['CompetitionDistance'].idxmax()]"
      ]
    },
    {
      "cell_type": "code",
      "execution_count": null,
      "metadata": {
        "id": "9eSQUYWJ3q75",
        "outputId": "4415a53d-7c69-41f0-edfd-6c801cc993c3"
      },
      "outputs": [
        {
          "name": "stdout",
          "output_type": "stream",
          "text": [
            "     Store StoreType Assortment  CompetitionDistance  \\\n",
            "452    453         a          c              75860.0   \n",
            "\n",
            "     CompetitionOpenSinceMonth  CompetitionOpenSinceYear  Promo2  \\\n",
            "452                        NaN                       NaN       0   \n",
            "\n",
            "     Promo2SinceWeek  Promo2SinceYear PromoInterval  \n",
            "452              NaN              NaN           NaN  \n"
          ]
        }
      ],
      "source": [
        "least_cd=data2[data2['CompetitionDistance']==data2['CompetitionDistance'].max()]\n",
        "print(least_cd)"
      ]
    },
    {
      "cell_type": "code",
      "execution_count": null,
      "metadata": {
        "id": "P6WG9RSi3q76",
        "outputId": "dd03ac2b-24f9-4f6e-9ac1-96f04d4b89a0"
      },
      "outputs": [
        {
          "data": {
            "text/html": [
              "<div>\n",
              "<style scoped>\n",
              "    .dataframe tbody tr th:only-of-type {\n",
              "        vertical-align: middle;\n",
              "    }\n",
              "\n",
              "    .dataframe tbody tr th {\n",
              "        vertical-align: top;\n",
              "    }\n",
              "\n",
              "    .dataframe thead th {\n",
              "        text-align: right;\n",
              "    }\n",
              "</style>\n",
              "<table border=\"1\" class=\"dataframe\">\n",
              "  <thead>\n",
              "    <tr style=\"text-align: right;\">\n",
              "      <th></th>\n",
              "      <th>Store</th>\n",
              "      <th>StoreType</th>\n",
              "      <th>Assortment</th>\n",
              "      <th>CompetitionDistance</th>\n",
              "      <th>CompetitionOpenSinceMonth</th>\n",
              "      <th>CompetitionOpenSinceYear</th>\n",
              "      <th>Promo2</th>\n",
              "      <th>Promo2SinceWeek</th>\n",
              "      <th>Promo2SinceYear</th>\n",
              "      <th>PromoInterval</th>\n",
              "    </tr>\n",
              "  </thead>\n",
              "  <tbody>\n",
              "    <tr>\n",
              "      <th>515</th>\n",
              "      <td>516</td>\n",
              "      <td>a</td>\n",
              "      <td>c</td>\n",
              "      <td>20.0</td>\n",
              "      <td>NaN</td>\n",
              "      <td>NaN</td>\n",
              "      <td>1</td>\n",
              "      <td>35.0</td>\n",
              "      <td>2010.0</td>\n",
              "      <td>Mar,Jun,Sept,Dec</td>\n",
              "    </tr>\n",
              "  </tbody>\n",
              "</table>\n",
              "</div>"
            ],
            "text/plain": [
              "     Store StoreType Assortment  CompetitionDistance  \\\n",
              "515    516         a          c                 20.0   \n",
              "\n",
              "     CompetitionOpenSinceMonth  CompetitionOpenSinceYear  Promo2  \\\n",
              "515                        NaN                       NaN       1   \n",
              "\n",
              "     Promo2SinceWeek  Promo2SinceYear     PromoInterval  \n",
              "515             35.0           2010.0  Mar,Jun,Sept,Dec  "
            ]
          },
          "execution_count": 9,
          "metadata": {},
          "output_type": "execute_result"
        }
      ],
      "source": [
        "data2[data2['CompetitionDistance']==data2['CompetitionDistance'].min()]"
      ]
    },
    {
      "cell_type": "code",
      "execution_count": null,
      "metadata": {
        "id": "Dku1QXpk3q77"
      },
      "outputs": [],
      "source": [
        "# Store 453 has the max Competition distance with 75860 units and Store 516 has the least Competition distance with 20 units."
      ]
    },
    {
      "cell_type": "markdown",
      "source": [
        "### *Store that has the maximum sale recorded*"
      ],
      "metadata": {
        "id": "emXqNJi835Zy"
      }
    },
    {
      "cell_type": "code",
      "execution_count": null,
      "metadata": {
        "id": "TaDXqVBm3q78"
      },
      "outputs": [],
      "source": [
        "#data.loc[(data['Promo'].count().max ) & (data['Promo'] == 1)]\n",
        "#interval"
      ]
    },
    {
      "cell_type": "code",
      "execution_count": null,
      "metadata": {
        "id": "ZJAE6_jD3q78",
        "outputId": "167a6d8a-849e-47c1-fb61-2dd575be9732"
      },
      "outputs": [
        {
          "name": "stdout",
          "output_type": "stream",
          "text": [
            "Promo\n",
            "0    4406.050805\n",
            "1    7991.152046\n",
            "Name: Sales, dtype: float64\n"
          ]
        }
      ],
      "source": [
        "promos=data.groupby('Promo')['Sales'].mean()\n",
        "print(promos)"
      ]
    },
    {
      "cell_type": "code",
      "execution_count": null,
      "metadata": {
        "id": "dkAodLf53q79",
        "outputId": "65d46883-3eab-4cc3-b6c7-8bb629354ed6"
      },
      "outputs": [
        {
          "name": "stdout",
          "output_type": "stream",
          "text": [
            "Mean difference between in sales when having promo and no promo is= 3585.1012408091174\n"
          ]
        }
      ],
      "source": [
        "no_promo=promos[0]\n",
        "have_promo=promos[1]\n",
        "print(\"Mean difference between in sales when having promo and no promo is=\",have_promo-no_promo)"
      ]
    },
    {
      "cell_type": "markdown",
      "source": [
        "### *Store that has the maximum sale recorded*"
      ],
      "metadata": {
        "id": "YYuvKLgQ39r_"
      }
    },
    {
      "cell_type": "code",
      "execution_count": null,
      "metadata": {
        "id": "TOT9t0m33q7-",
        "outputId": "ef0b112c-635a-427e-d941-4e18e064662b"
      },
      "outputs": [
        {
          "name": "stdout",
          "output_type": "stream",
          "text": [
            "   Open   Sales\n",
            "0     0  172817\n",
            "1     1      54\n"
          ]
        }
      ],
      "source": [
        "Anomaly1=data[data.Sales == 0].groupby('Open').Sales.count().reset_index()\n",
        "print(Anomaly1)"
      ]
    },
    {
      "cell_type": "code",
      "execution_count": null,
      "metadata": {
        "id": "Bz7znFWL3q7_"
      },
      "outputs": [],
      "source": [
        "#Yes, 54 times sales havent made when Store was open"
      ]
    },
    {
      "cell_type": "code",
      "execution_count": null,
      "metadata": {
        "id": "hc3ZPrFa3q8A",
        "outputId": "8fbe7d6a-0e92-44bd-9df5-8386ce445703"
      },
      "outputs": [
        {
          "name": "stdout",
          "output_type": "stream",
          "text": [
            "   Open   Sales\n",
            "0     1  844338\n"
          ]
        }
      ],
      "source": [
        "Anomaly2=data[data.Sales != 0].groupby('Open').Sales.count().reset_index()\n",
        "print(Anomaly2)"
      ]
    },
    {
      "cell_type": "code",
      "execution_count": null,
      "metadata": {
        "id": "qmDI0xJz3q8B"
      },
      "outputs": [],
      "source": [
        "#No anomalies when sales made whether store was open or closed"
      ]
    },
    {
      "cell_type": "markdown",
      "source": [
        "### *Store that has the maximum sale recorded*"
      ],
      "metadata": {
        "id": "tcVHQxVu3_so"
      }
    },
    {
      "cell_type": "code",
      "execution_count": null,
      "metadata": {
        "id": "Xtqldy4V3q8C",
        "outputId": "0d4581af-853b-4225-ff1c-dbb48c923190"
      },
      "outputs": [
        {
          "name": "stdout",
          "output_type": "stream",
          "text": [
            "Lenght of Store_types= 1115\n"
          ]
        }
      ],
      "source": [
        "from itertools import cycle\n",
        "\n",
        "storetype_list=data2['StoreType']\n",
        "print(\"Lenght of Store_types=\",len(storetype_list))"
      ]
    },
    {
      "cell_type": "code",
      "execution_count": null,
      "metadata": {
        "id": "duILKwkj3q8D",
        "outputId": "07735bcb-bca6-40d5-ed84-bcd469ad1317"
      },
      "outputs": [
        {
          "data": {
            "text/html": [
              "<div>\n",
              "<style scoped>\n",
              "    .dataframe tbody tr th:only-of-type {\n",
              "        vertical-align: middle;\n",
              "    }\n",
              "\n",
              "    .dataframe tbody tr th {\n",
              "        vertical-align: top;\n",
              "    }\n",
              "\n",
              "    .dataframe thead th {\n",
              "        text-align: right;\n",
              "    }\n",
              "</style>\n",
              "<table border=\"1\" class=\"dataframe\">\n",
              "  <thead>\n",
              "    <tr style=\"text-align: right;\">\n",
              "      <th></th>\n",
              "      <th>Store</th>\n",
              "      <th>DayOfWeek</th>\n",
              "      <th>Date</th>\n",
              "      <th>Sales</th>\n",
              "      <th>Customers</th>\n",
              "      <th>Open</th>\n",
              "      <th>Promo</th>\n",
              "      <th>StateHoliday</th>\n",
              "      <th>SchoolHoliday</th>\n",
              "      <th>StoreType</th>\n",
              "    </tr>\n",
              "  </thead>\n",
              "  <tbody>\n",
              "    <tr>\n",
              "      <th>0</th>\n",
              "      <td>1</td>\n",
              "      <td>5</td>\n",
              "      <td>2015-07-31</td>\n",
              "      <td>5263</td>\n",
              "      <td>555</td>\n",
              "      <td>1</td>\n",
              "      <td>1</td>\n",
              "      <td>0</td>\n",
              "      <td>1</td>\n",
              "      <td>c</td>\n",
              "    </tr>\n",
              "    <tr>\n",
              "      <th>1</th>\n",
              "      <td>2</td>\n",
              "      <td>5</td>\n",
              "      <td>2015-07-31</td>\n",
              "      <td>6064</td>\n",
              "      <td>625</td>\n",
              "      <td>1</td>\n",
              "      <td>1</td>\n",
              "      <td>0</td>\n",
              "      <td>1</td>\n",
              "      <td>a</td>\n",
              "    </tr>\n",
              "    <tr>\n",
              "      <th>2</th>\n",
              "      <td>3</td>\n",
              "      <td>5</td>\n",
              "      <td>2015-07-31</td>\n",
              "      <td>8314</td>\n",
              "      <td>821</td>\n",
              "      <td>1</td>\n",
              "      <td>1</td>\n",
              "      <td>0</td>\n",
              "      <td>1</td>\n",
              "      <td>a</td>\n",
              "    </tr>\n",
              "    <tr>\n",
              "      <th>3</th>\n",
              "      <td>4</td>\n",
              "      <td>5</td>\n",
              "      <td>2015-07-31</td>\n",
              "      <td>13995</td>\n",
              "      <td>1498</td>\n",
              "      <td>1</td>\n",
              "      <td>1</td>\n",
              "      <td>0</td>\n",
              "      <td>1</td>\n",
              "      <td>c</td>\n",
              "    </tr>\n",
              "    <tr>\n",
              "      <th>4</th>\n",
              "      <td>5</td>\n",
              "      <td>5</td>\n",
              "      <td>2015-07-31</td>\n",
              "      <td>4822</td>\n",
              "      <td>559</td>\n",
              "      <td>1</td>\n",
              "      <td>1</td>\n",
              "      <td>0</td>\n",
              "      <td>1</td>\n",
              "      <td>a</td>\n",
              "    </tr>\n",
              "    <tr>\n",
              "      <th>...</th>\n",
              "      <td>...</td>\n",
              "      <td>...</td>\n",
              "      <td>...</td>\n",
              "      <td>...</td>\n",
              "      <td>...</td>\n",
              "      <td>...</td>\n",
              "      <td>...</td>\n",
              "      <td>...</td>\n",
              "      <td>...</td>\n",
              "      <td>...</td>\n",
              "    </tr>\n",
              "    <tr>\n",
              "      <th>1017204</th>\n",
              "      <td>1111</td>\n",
              "      <td>2</td>\n",
              "      <td>2013-01-01</td>\n",
              "      <td>0</td>\n",
              "      <td>0</td>\n",
              "      <td>0</td>\n",
              "      <td>0</td>\n",
              "      <td>a</td>\n",
              "      <td>1</td>\n",
              "      <td>a</td>\n",
              "    </tr>\n",
              "    <tr>\n",
              "      <th>1017205</th>\n",
              "      <td>1112</td>\n",
              "      <td>2</td>\n",
              "      <td>2013-01-01</td>\n",
              "      <td>0</td>\n",
              "      <td>0</td>\n",
              "      <td>0</td>\n",
              "      <td>0</td>\n",
              "      <td>a</td>\n",
              "      <td>1</td>\n",
              "      <td>d</td>\n",
              "    </tr>\n",
              "    <tr>\n",
              "      <th>1017206</th>\n",
              "      <td>1113</td>\n",
              "      <td>2</td>\n",
              "      <td>2013-01-01</td>\n",
              "      <td>0</td>\n",
              "      <td>0</td>\n",
              "      <td>0</td>\n",
              "      <td>0</td>\n",
              "      <td>a</td>\n",
              "      <td>1</td>\n",
              "      <td>c</td>\n",
              "    </tr>\n",
              "    <tr>\n",
              "      <th>1017207</th>\n",
              "      <td>1114</td>\n",
              "      <td>2</td>\n",
              "      <td>2013-01-01</td>\n",
              "      <td>0</td>\n",
              "      <td>0</td>\n",
              "      <td>0</td>\n",
              "      <td>0</td>\n",
              "      <td>a</td>\n",
              "      <td>1</td>\n",
              "      <td>a</td>\n",
              "    </tr>\n",
              "    <tr>\n",
              "      <th>1017208</th>\n",
              "      <td>1115</td>\n",
              "      <td>2</td>\n",
              "      <td>2013-01-01</td>\n",
              "      <td>0</td>\n",
              "      <td>0</td>\n",
              "      <td>0</td>\n",
              "      <td>0</td>\n",
              "      <td>a</td>\n",
              "      <td>1</td>\n",
              "      <td>a</td>\n",
              "    </tr>\n",
              "  </tbody>\n",
              "</table>\n",
              "<p>1017209 rows × 10 columns</p>\n",
              "</div>"
            ],
            "text/plain": [
              "         Store  DayOfWeek        Date  Sales  Customers  Open  Promo  \\\n",
              "0            1          5  2015-07-31   5263        555     1      1   \n",
              "1            2          5  2015-07-31   6064        625     1      1   \n",
              "2            3          5  2015-07-31   8314        821     1      1   \n",
              "3            4          5  2015-07-31  13995       1498     1      1   \n",
              "4            5          5  2015-07-31   4822        559     1      1   \n",
              "...        ...        ...         ...    ...        ...   ...    ...   \n",
              "1017204   1111          2  2013-01-01      0          0     0      0   \n",
              "1017205   1112          2  2013-01-01      0          0     0      0   \n",
              "1017206   1113          2  2013-01-01      0          0     0      0   \n",
              "1017207   1114          2  2013-01-01      0          0     0      0   \n",
              "1017208   1115          2  2013-01-01      0          0     0      0   \n",
              "\n",
              "        StateHoliday  SchoolHoliday StoreType  \n",
              "0                  0              1         c  \n",
              "1                  0              1         a  \n",
              "2                  0              1         a  \n",
              "3                  0              1         c  \n",
              "4                  0              1         a  \n",
              "...              ...            ...       ...  \n",
              "1017204            a              1         a  \n",
              "1017205            a              1         d  \n",
              "1017206            a              1         c  \n",
              "1017207            a              1         a  \n",
              "1017208            a              1         a  \n",
              "\n",
              "[1017209 rows x 10 columns]"
            ]
          },
          "execution_count": 19,
          "metadata": {},
          "output_type": "execute_result"
        }
      ],
      "source": [
        "storetype_list = cycle(storetype_list)                      #To have repeating StoreTypes for corresponding store\n",
        "data.head()\n",
        "data['StoreType'] = [next(storetype_list) for i in range(len(data))]\n",
        "data"
      ]
    },
    {
      "cell_type": "code",
      "execution_count": null,
      "metadata": {
        "id": "lC50Dgyk3q8E",
        "outputId": "e590c651-dc12-494f-fbe2-5f4f7e06db40"
      },
      "outputs": [
        {
          "data": {
            "text/html": [
              "<div>\n",
              "<style scoped>\n",
              "    .dataframe tbody tr th:only-of-type {\n",
              "        vertical-align: middle;\n",
              "    }\n",
              "\n",
              "    .dataframe tbody tr th {\n",
              "        vertical-align: top;\n",
              "    }\n",
              "\n",
              "    .dataframe thead th {\n",
              "        text-align: right;\n",
              "    }\n",
              "</style>\n",
              "<table border=\"1\" class=\"dataframe\">\n",
              "  <thead>\n",
              "    <tr style=\"text-align: right;\">\n",
              "      <th></th>\n",
              "      <th>StoreType</th>\n",
              "      <th>Sales</th>\n",
              "    </tr>\n",
              "  </thead>\n",
              "  <tbody>\n",
              "    <tr>\n",
              "      <th>0</th>\n",
              "      <td>a</td>\n",
              "      <td>549205</td>\n",
              "    </tr>\n",
              "    <tr>\n",
              "      <th>1</th>\n",
              "      <td>d</td>\n",
              "      <td>317486</td>\n",
              "    </tr>\n",
              "    <tr>\n",
              "      <th>2</th>\n",
              "      <td>c</td>\n",
              "      <td>135010</td>\n",
              "    </tr>\n",
              "    <tr>\n",
              "      <th>3</th>\n",
              "      <td>b</td>\n",
              "      <td>15508</td>\n",
              "    </tr>\n",
              "  </tbody>\n",
              "</table>\n",
              "</div>"
            ],
            "text/plain": [
              "  StoreType   Sales\n",
              "0         a  549205\n",
              "1         d  317486\n",
              "2         c  135010\n",
              "3         b   15508"
            ]
          },
          "execution_count": 20,
          "metadata": {},
          "output_type": "execute_result"
        }
      ],
      "source": [
        "data.groupby('StoreType').Sales.agg('count').sort_values(ascending=False).reset_index()"
      ]
    },
    {
      "cell_type": "code",
      "execution_count": null,
      "metadata": {
        "id": "5VU4SyEr3q8F"
      },
      "outputs": [],
      "source": [
        "# A type stores have the most sales. B type store sales are significantly low."
      ]
    },
    {
      "cell_type": "markdown",
      "metadata": {
        "id": "Cr-PwQ-c3q8G"
      },
      "source": [
        "## **Part B: Details on Stats Plots**"
      ]
    },
    {
      "cell_type": "markdown",
      "source": [
        "### *On a monthly basis how do the mean of sales vary (across all stores)?*"
      ],
      "metadata": {
        "id": "Axk05Fj04Jr_"
      }
    },
    {
      "cell_type": "code",
      "execution_count": null,
      "metadata": {
        "id": "i27WiiG03q8H"
      },
      "outputs": [],
      "source": [
        "data['Date'] = pd.to_datetime(data['Date'])"
      ]
    },
    {
      "cell_type": "code",
      "execution_count": null,
      "metadata": {
        "id": "mgKXOtu93q8I",
        "outputId": "d391fbcf-b0ea-44a9-ca4b-81be4caa3520"
      },
      "outputs": [
        {
          "name": "stdout",
          "output_type": "stream",
          "text": [
            "        Date      Sales\n",
            "0 2013-01-31  180132207\n",
            "1 2013-02-28  171534275\n",
            "2 2013-03-31  201180369\n",
            "3 2013-04-30  183431432\n",
            "4 2013-05-31  185411063\n"
          ]
        }
      ],
      "source": [
        "monthly=data.groupby(pd.Grouper(key='Date', freq='1M'))['Sales'].sum().reset_index()\n",
        "print(monthly.head())"
      ]
    },
    {
      "cell_type": "code",
      "execution_count": null,
      "metadata": {
        "id": "M9EjdKzR3q8I",
        "outputId": "3b953499-2c3d-49f5-c572-70f82e2261a7"
      },
      "outputs": [
        {
          "data": {
            "image/png": "[encoded data removed]",
            "text/plain": [
              "<Figure size 576x360 with 1 Axes>"
            ]
          },
          "metadata": {
            "needs_background": "light"
          },
          "output_type": "display_data"
        }
      ],
      "source": [
        "fig, ax = plt.subplots(figsize=(8, 5))\n",
        "plt.plot(monthly['Date'], monthly['Sales'])\n",
        "plt.xticks(rotation='vertical')\n",
        "plt.title('Monthly mean of sales')\n",
        "plt.xlabel('Months')\n",
        "plt.ylabel('Sales')         #\n",
        "plt.show()"
      ]
    },
    {
      "cell_type": "code",
      "execution_count": null,
      "metadata": {
        "id": "_9nHT9cJ3q8J"
      },
      "outputs": [],
      "source": [
        "#35% difference between most and least sales made in a month."
      ]
    },
    {
      "cell_type": "markdown",
      "source": [
        "### *On a daily basis how do the mean of sales vary (across all stores)?*"
      ],
      "metadata": {
        "id": "hVaxI9SF4OrI"
      }
    },
    {
      "cell_type": "code",
      "execution_count": null,
      "metadata": {
        "id": "ilKSJSOA3q8J",
        "outputId": "9fac4749-3ad6-487b-ba13-59cd390318d5"
      },
      "outputs": [
        {
          "name": "stdout",
          "output_type": "stream",
          "text": [
            "        Date        Sales\n",
            "0 2013-01-01    87.284560\n",
            "1 2013-01-02  6233.030493\n",
            "2 2013-01-03  5693.112108\n",
            "3 2013-01-04  5954.218834\n",
            "4 2013-01-05  5337.751570\n"
          ]
        }
      ],
      "source": [
        "daily=data.groupby(pd.Grouper(key='Date', freq='1D'))['Sales'].mean().reset_index()\n",
        "print(daily.head())"
      ]
    },
    {
      "cell_type": "code",
      "execution_count": null,
      "metadata": {
        "id": "MRGPP0IU3q8K",
        "outputId": "dc196a85-2241-4f13-c1d8-c9e34a23878d"
      },
      "outputs": [
        {
          "data": {
            "image/png": "[encoded data removed]",
            "text/plain": [
              "<Figure size 576x360 with 1 Axes>"
            ]
          },
          "metadata": {
            "needs_background": "light"
          },
          "output_type": "display_data"
        }
      ],
      "source": [
        "fig, ax = plt.subplots(figsize=(8, 5))\n",
        "plt.plot(daily['Date'], daily['Sales'])\n",
        "plt.xticks(rotation='vertical')\n",
        "plt.title('Daily mean of sales')\n",
        "plt.xlabel('Day of Week')\n",
        "plt.ylabel('Sales')         #\n",
        "plt.show()"
      ]
    },
    {
      "cell_type": "code",
      "execution_count": null,
      "metadata": {
        "id": "8ucWeAQK3q8L",
        "outputId": "6e964c87-e173-4b67-f816-678df8eccb32"
      },
      "outputs": [
        {
          "data": {
            "text/html": [
              "<div>\n",
              "<style scoped>\n",
              "    .dataframe tbody tr th:only-of-type {\n",
              "        vertical-align: middle;\n",
              "    }\n",
              "\n",
              "    .dataframe tbody tr th {\n",
              "        vertical-align: top;\n",
              "    }\n",
              "\n",
              "    .dataframe thead th {\n",
              "        text-align: right;\n",
              "    }\n",
              "</style>\n",
              "<table border=\"1\" class=\"dataframe\">\n",
              "  <thead>\n",
              "    <tr style=\"text-align: right;\">\n",
              "      <th></th>\n",
              "      <th>DayOfWeek</th>\n",
              "      <th>Sales</th>\n",
              "    </tr>\n",
              "  </thead>\n",
              "  <tbody>\n",
              "    <tr>\n",
              "      <th>0</th>\n",
              "      <td>1</td>\n",
              "      <td>7809.044510</td>\n",
              "    </tr>\n",
              "    <tr>\n",
              "      <th>1</th>\n",
              "      <td>2</td>\n",
              "      <td>7005.244467</td>\n",
              "    </tr>\n",
              "    <tr>\n",
              "      <th>2</th>\n",
              "      <td>3</td>\n",
              "      <td>6555.884138</td>\n",
              "    </tr>\n",
              "    <tr>\n",
              "      <th>3</th>\n",
              "      <td>4</td>\n",
              "      <td>6247.575913</td>\n",
              "    </tr>\n",
              "    <tr>\n",
              "      <th>4</th>\n",
              "      <td>5</td>\n",
              "      <td>6723.274305</td>\n",
              "    </tr>\n",
              "    <tr>\n",
              "      <th>5</th>\n",
              "      <td>6</td>\n",
              "      <td>5847.562599</td>\n",
              "    </tr>\n",
              "    <tr>\n",
              "      <th>6</th>\n",
              "      <td>7</td>\n",
              "      <td>204.183189</td>\n",
              "    </tr>\n",
              "  </tbody>\n",
              "</table>\n",
              "</div>"
            ],
            "text/plain": [
              "   DayOfWeek        Sales\n",
              "0          1  7809.044510\n",
              "1          2  7005.244467\n",
              "2          3  6555.884138\n",
              "3          4  6247.575913\n",
              "4          5  6723.274305\n",
              "5          6  5847.562599\n",
              "6          7   204.183189"
            ]
          },
          "execution_count": 27,
          "metadata": {},
          "output_type": "execute_result"
        }
      ],
      "source": [
        "da=data.groupby(\"DayOfWeek\")[\"Sales\"].mean().reset_index()\n",
        "da"
      ]
    },
    {
      "cell_type": "code",
      "execution_count": null,
      "metadata": {
        "id": "smW74JpC3q8L",
        "outputId": "1308d6fb-8e0e-4b6f-a3dd-a16769be14be"
      },
      "outputs": [
        {
          "data": {
            "image/png": "[encoded data removed]",
            "text/plain": [
              "<Figure size 576x360 with 1 Axes>"
            ]
          },
          "metadata": {
            "needs_background": "light"
          },
          "output_type": "display_data"
        }
      ],
      "source": [
        "fig, ax = plt.subplots(figsize=(8, 5))\n",
        "plt.plot(da['DayOfWeek'], da['Sales'])\n",
        "plt.xticks(rotation='vertical')\n",
        "plt.title('Day of week - mean of sales')\n",
        "plt.xlabel('Day of Week')\n",
        "plt.ylabel('Sales')         #\n",
        "plt.show()"
      ]
    },
    {
      "cell_type": "code",
      "execution_count": null,
      "metadata": {
        "id": "YJfY2RKz3q8M"
      },
      "outputs": [],
      "source": [
        "#At the start of the day there are more sales. It might be caused by the fact that store is closed on Sunday and people need items more than usual on mondays."
      ]
    },
    {
      "cell_type": "code",
      "execution_count": null,
      "metadata": {
        "id": "l9AN1CUy3q8M",
        "outputId": "8bf5425a-da9b-4797-a6bd-dddf12591b10"
      },
      "outputs": [
        {
          "name": "stdout",
          "output_type": "stream",
          "text": [
            "          Date  Sales\n",
            "577 2014-08-01   5038\n",
            "578 2014-08-02   4731\n",
            "579 2014-08-03      0\n",
            "580 2014-08-04   5655\n",
            "581 2014-08-05   5433\n",
            "..         ...    ...\n",
            "937 2015-07-27   6102\n",
            "938 2015-07-28   5011\n",
            "939 2015-07-29   4782\n",
            "940 2015-07-30   5020\n",
            "941 2015-07-31   5263\n",
            "\n",
            "[365 rows x 2 columns]\n"
          ]
        }
      ],
      "source": [
        "Store1=data[data.Store == 1].groupby('Date').Sales.sum().reset_index()\n",
        "Store1=Store1.iloc[-365:]          #1 year period\n",
        "print(Store1)"
      ]
    },
    {
      "cell_type": "markdown",
      "source": [
        "### *For the first store id, plot it’s cumulative sales for the first year*"
      ],
      "metadata": {
        "id": "3MMNbgtZ4d7f"
      }
    },
    {
      "cell_type": "code",
      "execution_count": null,
      "metadata": {
        "id": "i3KOuzHu3q8N",
        "outputId": "bc3e8854-8a74-48cf-d63d-0c122bd8f934"
      },
      "outputs": [
        {
          "data": {
            "text/html": [
              "<div>\n",
              "<style scoped>\n",
              "    .dataframe tbody tr th:only-of-type {\n",
              "        vertical-align: middle;\n",
              "    }\n",
              "\n",
              "    .dataframe tbody tr th {\n",
              "        vertical-align: top;\n",
              "    }\n",
              "\n",
              "    .dataframe thead th {\n",
              "        text-align: right;\n",
              "    }\n",
              "</style>\n",
              "<table border=\"1\" class=\"dataframe\">\n",
              "  <thead>\n",
              "    <tr style=\"text-align: right;\">\n",
              "      <th></th>\n",
              "      <th>index</th>\n",
              "      <th>Sales</th>\n",
              "    </tr>\n",
              "  </thead>\n",
              "  <tbody>\n",
              "    <tr>\n",
              "      <th>0</th>\n",
              "      <td>577</td>\n",
              "      <td>5038</td>\n",
              "    </tr>\n",
              "    <tr>\n",
              "      <th>1</th>\n",
              "      <td>578</td>\n",
              "      <td>9769</td>\n",
              "    </tr>\n",
              "    <tr>\n",
              "      <th>2</th>\n",
              "      <td>579</td>\n",
              "      <td>9769</td>\n",
              "    </tr>\n",
              "    <tr>\n",
              "      <th>3</th>\n",
              "      <td>580</td>\n",
              "      <td>15424</td>\n",
              "    </tr>\n",
              "    <tr>\n",
              "      <th>4</th>\n",
              "      <td>581</td>\n",
              "      <td>20857</td>\n",
              "    </tr>\n",
              "    <tr>\n",
              "      <th>...</th>\n",
              "      <td>...</td>\n",
              "      <td>...</td>\n",
              "    </tr>\n",
              "    <tr>\n",
              "      <th>360</th>\n",
              "      <td>937</td>\n",
              "      <td>1396407</td>\n",
              "    </tr>\n",
              "    <tr>\n",
              "      <th>361</th>\n",
              "      <td>938</td>\n",
              "      <td>1401418</td>\n",
              "    </tr>\n",
              "    <tr>\n",
              "      <th>362</th>\n",
              "      <td>939</td>\n",
              "      <td>1406200</td>\n",
              "    </tr>\n",
              "    <tr>\n",
              "      <th>363</th>\n",
              "      <td>940</td>\n",
              "      <td>1411220</td>\n",
              "    </tr>\n",
              "    <tr>\n",
              "      <th>364</th>\n",
              "      <td>941</td>\n",
              "      <td>1416483</td>\n",
              "    </tr>\n",
              "  </tbody>\n",
              "</table>\n",
              "<p>365 rows × 2 columns</p>\n",
              "</div>"
            ],
            "text/plain": [
              "     index    Sales\n",
              "0      577     5038\n",
              "1      578     9769\n",
              "2      579     9769\n",
              "3      580    15424\n",
              "4      581    20857\n",
              "..     ...      ...\n",
              "360    937  1396407\n",
              "361    938  1401418\n",
              "362    939  1406200\n",
              "363    940  1411220\n",
              "364    941  1416483\n",
              "\n",
              "[365 rows x 2 columns]"
            ]
          },
          "execution_count": 32,
          "metadata": {},
          "output_type": "execute_result"
        }
      ],
      "source": [
        "Store1_cumulative=np.cumsum(Store1[\"Sales\"]).reset_index()\n",
        "Store1_cumulative"
      ]
    },
    {
      "cell_type": "code",
      "execution_count": null,
      "metadata": {
        "id": "zjvcbKKD3q8O",
        "outputId": "b60ec644-4834-486d-94c9-d356fc4ef176"
      },
      "outputs": [
        {
          "data": {
            "image/png": "[encoded data removed]",
            "text/plain": [
              "<Figure size 576x360 with 1 Axes>"
            ]
          },
          "metadata": {
            "needs_background": "light"
          },
          "output_type": "display_data"
        }
      ],
      "source": [
        "fig, ax = plt.subplots(figsize=(8, 5))\n",
        "plt.plot(Store1_cumulative['Sales'])\n",
        "plt.title('Store1 cumulative number of sales')\n",
        "plt.xlabel('Days')\n",
        "plt.ylabel('Sales')\n",
        "plt.show()"
      ]
    },
    {
      "cell_type": "code",
      "execution_count": null,
      "metadata": {
        "id": "V7MFL2PT3q8P"
      },
      "outputs": [],
      "source": [
        "#Sales for store 1 grows linearly"
      ]
    },
    {
      "cell_type": "markdown",
      "source": [
        "Plot and comment on the following relationships\n",
        "\n",
        "1.   Customers(x-axis) vs. sales(y-axis)\n",
        "2.   Competitiondistance(x-axis) vs. sales(y-axis)\n",
        "\n"
      ],
      "metadata": {
        "id": "AGNq2nYU4o-y"
      }
    },
    {
      "cell_type": "code",
      "execution_count": null,
      "metadata": {
        "id": "zOcJSmq03q8Q"
      },
      "outputs": [],
      "source": [
        "Sales_d=data.groupby('Date')['Sales'].sum()         #Sales by days"
      ]
    },
    {
      "cell_type": "code",
      "execution_count": null,
      "metadata": {
        "id": "gsOE3khG3q8Q"
      },
      "outputs": [],
      "source": [
        "Customers_d=data.groupby('Date')['Customers'].sum()   #Customer numbers by days"
      ]
    },
    {
      "cell_type": "code",
      "execution_count": null,
      "metadata": {
        "id": "hjCwzSog3q8R",
        "outputId": "dd5c8047-a3bc-4c37-d2c3-5ca76f659350"
      },
      "outputs": [
        {
          "data": {
            "image/png": "[encoded data removed]",
            "text/plain": [
              "<Figure size 576x360 with 1 Axes>"
            ]
          },
          "metadata": {
            "needs_background": "light"
          },
          "output_type": "display_data"
        }
      ],
      "source": [
        "fig, ax = plt.subplots(figsize=(8, 5))\n",
        "plt.scatter(Customers_d,Sales_d)\n",
        "plt.title('Regression basic scatter')\n",
        "plt.xticks(rotation='vertical')\n",
        "plt.title('Customer-Sales comparison')\n",
        "plt.xlabel('Customers')\n",
        "plt.ylabel('Sales')         #\n",
        "plt.show()"
      ]
    },
    {
      "cell_type": "code",
      "execution_count": null,
      "metadata": {
        "id": "1Av6GhDK3q8U"
      },
      "outputs": [],
      "source": [
        "#Sales are increasing as customer number increases as expected."
      ]
    },
    {
      "cell_type": "code",
      "execution_count": null,
      "metadata": {
        "id": "E-R_8Q0y3q8V",
        "outputId": "74e0644f-1ab1-4832-f79e-6ade735af307"
      },
      "outputs": [
        {
          "data": {
            "text/html": [
              "<div>\n",
              "<style scoped>\n",
              "    .dataframe tbody tr th:only-of-type {\n",
              "        vertical-align: middle;\n",
              "    }\n",
              "\n",
              "    .dataframe tbody tr th {\n",
              "        vertical-align: top;\n",
              "    }\n",
              "\n",
              "    .dataframe thead th {\n",
              "        text-align: right;\n",
              "    }\n",
              "</style>\n",
              "<table border=\"1\" class=\"dataframe\">\n",
              "  <thead>\n",
              "    <tr style=\"text-align: right;\">\n",
              "      <th></th>\n",
              "      <th>Store</th>\n",
              "      <th>DayOfWeek</th>\n",
              "      <th>Date</th>\n",
              "      <th>Sales</th>\n",
              "      <th>Customers</th>\n",
              "      <th>Open</th>\n",
              "      <th>Promo</th>\n",
              "      <th>StateHoliday</th>\n",
              "      <th>SchoolHoliday</th>\n",
              "      <th>StoreType</th>\n",
              "      <th>CompetitionDistance</th>\n",
              "    </tr>\n",
              "  </thead>\n",
              "  <tbody>\n",
              "    <tr>\n",
              "      <th>0</th>\n",
              "      <td>1</td>\n",
              "      <td>5</td>\n",
              "      <td>2015-07-31</td>\n",
              "      <td>5263</td>\n",
              "      <td>555</td>\n",
              "      <td>1</td>\n",
              "      <td>1</td>\n",
              "      <td>0</td>\n",
              "      <td>1</td>\n",
              "      <td>c</td>\n",
              "      <td>1270.0</td>\n",
              "    </tr>\n",
              "    <tr>\n",
              "      <th>1</th>\n",
              "      <td>2</td>\n",
              "      <td>5</td>\n",
              "      <td>2015-07-31</td>\n",
              "      <td>6064</td>\n",
              "      <td>625</td>\n",
              "      <td>1</td>\n",
              "      <td>1</td>\n",
              "      <td>0</td>\n",
              "      <td>1</td>\n",
              "      <td>a</td>\n",
              "      <td>570.0</td>\n",
              "    </tr>\n",
              "    <tr>\n",
              "      <th>2</th>\n",
              "      <td>3</td>\n",
              "      <td>5</td>\n",
              "      <td>2015-07-31</td>\n",
              "      <td>8314</td>\n",
              "      <td>821</td>\n",
              "      <td>1</td>\n",
              "      <td>1</td>\n",
              "      <td>0</td>\n",
              "      <td>1</td>\n",
              "      <td>a</td>\n",
              "      <td>14130.0</td>\n",
              "    </tr>\n",
              "    <tr>\n",
              "      <th>3</th>\n",
              "      <td>4</td>\n",
              "      <td>5</td>\n",
              "      <td>2015-07-31</td>\n",
              "      <td>13995</td>\n",
              "      <td>1498</td>\n",
              "      <td>1</td>\n",
              "      <td>1</td>\n",
              "      <td>0</td>\n",
              "      <td>1</td>\n",
              "      <td>c</td>\n",
              "      <td>620.0</td>\n",
              "    </tr>\n",
              "    <tr>\n",
              "      <th>4</th>\n",
              "      <td>5</td>\n",
              "      <td>5</td>\n",
              "      <td>2015-07-31</td>\n",
              "      <td>4822</td>\n",
              "      <td>559</td>\n",
              "      <td>1</td>\n",
              "      <td>1</td>\n",
              "      <td>0</td>\n",
              "      <td>1</td>\n",
              "      <td>a</td>\n",
              "      <td>29910.0</td>\n",
              "    </tr>\n",
              "  </tbody>\n",
              "</table>\n",
              "</div>"
            ],
            "text/plain": [
              "   Store  DayOfWeek       Date  Sales  Customers  Open  Promo StateHoliday  \\\n",
              "0      1          5 2015-07-31   5263        555     1      1            0   \n",
              "1      2          5 2015-07-31   6064        625     1      1            0   \n",
              "2      3          5 2015-07-31   8314        821     1      1            0   \n",
              "3      4          5 2015-07-31  13995       1498     1      1            0   \n",
              "4      5          5 2015-07-31   4822        559     1      1            0   \n",
              "\n",
              "   SchoolHoliday StoreType  CompetitionDistance  \n",
              "0              1         c               1270.0  \n",
              "1              1         a                570.0  \n",
              "2              1         a              14130.0  \n",
              "3              1         c                620.0  \n",
              "4              1         a              29910.0  "
            ]
          },
          "execution_count": 39,
          "metadata": {},
          "output_type": "execute_result"
        }
      ],
      "source": [
        "data[\"CompetitionDistance\"]=data2[\"CompetitionDistance\"]         #To have repeating CompetitionDistance for corresponding store\n",
        "data.head()"
      ]
    },
    {
      "cell_type": "code",
      "execution_count": null,
      "metadata": {
        "id": "rHHQK3tV3q8W",
        "outputId": "ffa031f9-8e4d-4312-fff1-edf1b1a8dc7b"
      },
      "outputs": [
        {
          "name": "stdout",
          "output_type": "stream",
          "text": [
            "1115\n"
          ]
        }
      ],
      "source": [
        "compdist_list=data2['CompetitionDistance']\n",
        "print(len(compdist_list))"
      ]
    },
    {
      "cell_type": "code",
      "execution_count": null,
      "metadata": {
        "id": "bYGo6WFE3q8W",
        "outputId": "497f2400-7502-49d8-958c-f26e98d3325e"
      },
      "outputs": [
        {
          "data": {
            "text/html": [
              "<div>\n",
              "<style scoped>\n",
              "    .dataframe tbody tr th:only-of-type {\n",
              "        vertical-align: middle;\n",
              "    }\n",
              "\n",
              "    .dataframe tbody tr th {\n",
              "        vertical-align: top;\n",
              "    }\n",
              "\n",
              "    .dataframe thead th {\n",
              "        text-align: right;\n",
              "    }\n",
              "</style>\n",
              "<table border=\"1\" class=\"dataframe\">\n",
              "  <thead>\n",
              "    <tr style=\"text-align: right;\">\n",
              "      <th></th>\n",
              "      <th>Store</th>\n",
              "      <th>DayOfWeek</th>\n",
              "      <th>Date</th>\n",
              "      <th>Sales</th>\n",
              "      <th>Customers</th>\n",
              "      <th>Open</th>\n",
              "      <th>Promo</th>\n",
              "      <th>StateHoliday</th>\n",
              "      <th>SchoolHoliday</th>\n",
              "      <th>StoreType</th>\n",
              "      <th>CompetitionDistance</th>\n",
              "      <th>compdist_list</th>\n",
              "    </tr>\n",
              "  </thead>\n",
              "  <tbody>\n",
              "    <tr>\n",
              "      <th>0</th>\n",
              "      <td>1</td>\n",
              "      <td>5</td>\n",
              "      <td>2015-07-31</td>\n",
              "      <td>5263</td>\n",
              "      <td>555</td>\n",
              "      <td>1</td>\n",
              "      <td>1</td>\n",
              "      <td>0</td>\n",
              "      <td>1</td>\n",
              "      <td>c</td>\n",
              "      <td>1270.0</td>\n",
              "      <td>1270.0</td>\n",
              "    </tr>\n",
              "    <tr>\n",
              "      <th>1</th>\n",
              "      <td>2</td>\n",
              "      <td>5</td>\n",
              "      <td>2015-07-31</td>\n",
              "      <td>6064</td>\n",
              "      <td>625</td>\n",
              "      <td>1</td>\n",
              "      <td>1</td>\n",
              "      <td>0</td>\n",
              "      <td>1</td>\n",
              "      <td>a</td>\n",
              "      <td>570.0</td>\n",
              "      <td>570.0</td>\n",
              "    </tr>\n",
              "    <tr>\n",
              "      <th>2</th>\n",
              "      <td>3</td>\n",
              "      <td>5</td>\n",
              "      <td>2015-07-31</td>\n",
              "      <td>8314</td>\n",
              "      <td>821</td>\n",
              "      <td>1</td>\n",
              "      <td>1</td>\n",
              "      <td>0</td>\n",
              "      <td>1</td>\n",
              "      <td>a</td>\n",
              "      <td>14130.0</td>\n",
              "      <td>14130.0</td>\n",
              "    </tr>\n",
              "    <tr>\n",
              "      <th>3</th>\n",
              "      <td>4</td>\n",
              "      <td>5</td>\n",
              "      <td>2015-07-31</td>\n",
              "      <td>13995</td>\n",
              "      <td>1498</td>\n",
              "      <td>1</td>\n",
              "      <td>1</td>\n",
              "      <td>0</td>\n",
              "      <td>1</td>\n",
              "      <td>c</td>\n",
              "      <td>620.0</td>\n",
              "      <td>620.0</td>\n",
              "    </tr>\n",
              "    <tr>\n",
              "      <th>4</th>\n",
              "      <td>5</td>\n",
              "      <td>5</td>\n",
              "      <td>2015-07-31</td>\n",
              "      <td>4822</td>\n",
              "      <td>559</td>\n",
              "      <td>1</td>\n",
              "      <td>1</td>\n",
              "      <td>0</td>\n",
              "      <td>1</td>\n",
              "      <td>a</td>\n",
              "      <td>29910.0</td>\n",
              "      <td>29910.0</td>\n",
              "    </tr>\n",
              "    <tr>\n",
              "      <th>...</th>\n",
              "      <td>...</td>\n",
              "      <td>...</td>\n",
              "      <td>...</td>\n",
              "      <td>...</td>\n",
              "      <td>...</td>\n",
              "      <td>...</td>\n",
              "      <td>...</td>\n",
              "      <td>...</td>\n",
              "      <td>...</td>\n",
              "      <td>...</td>\n",
              "      <td>...</td>\n",
              "      <td>...</td>\n",
              "    </tr>\n",
              "    <tr>\n",
              "      <th>1017204</th>\n",
              "      <td>1111</td>\n",
              "      <td>2</td>\n",
              "      <td>2013-01-01</td>\n",
              "      <td>0</td>\n",
              "      <td>0</td>\n",
              "      <td>0</td>\n",
              "      <td>0</td>\n",
              "      <td>a</td>\n",
              "      <td>1</td>\n",
              "      <td>a</td>\n",
              "      <td>NaN</td>\n",
              "      <td>350.0</td>\n",
              "    </tr>\n",
              "    <tr>\n",
              "      <th>1017205</th>\n",
              "      <td>1112</td>\n",
              "      <td>2</td>\n",
              "      <td>2013-01-01</td>\n",
              "      <td>0</td>\n",
              "      <td>0</td>\n",
              "      <td>0</td>\n",
              "      <td>0</td>\n",
              "      <td>a</td>\n",
              "      <td>1</td>\n",
              "      <td>d</td>\n",
              "      <td>NaN</td>\n",
              "      <td>10070.0</td>\n",
              "    </tr>\n",
              "    <tr>\n",
              "      <th>1017206</th>\n",
              "      <td>1113</td>\n",
              "      <td>2</td>\n",
              "      <td>2013-01-01</td>\n",
              "      <td>0</td>\n",
              "      <td>0</td>\n",
              "      <td>0</td>\n",
              "      <td>0</td>\n",
              "      <td>a</td>\n",
              "      <td>1</td>\n",
              "      <td>c</td>\n",
              "      <td>NaN</td>\n",
              "      <td>1390.0</td>\n",
              "    </tr>\n",
              "    <tr>\n",
              "      <th>1017207</th>\n",
              "      <td>1114</td>\n",
              "      <td>2</td>\n",
              "      <td>2013-01-01</td>\n",
              "      <td>0</td>\n",
              "      <td>0</td>\n",
              "      <td>0</td>\n",
              "      <td>0</td>\n",
              "      <td>a</td>\n",
              "      <td>1</td>\n",
              "      <td>a</td>\n",
              "      <td>NaN</td>\n",
              "      <td>3130.0</td>\n",
              "    </tr>\n",
              "    <tr>\n",
              "      <th>1017208</th>\n",
              "      <td>1115</td>\n",
              "      <td>2</td>\n",
              "      <td>2013-01-01</td>\n",
              "      <td>0</td>\n",
              "      <td>0</td>\n",
              "      <td>0</td>\n",
              "      <td>0</td>\n",
              "      <td>a</td>\n",
              "      <td>1</td>\n",
              "      <td>a</td>\n",
              "      <td>NaN</td>\n",
              "      <td>1310.0</td>\n",
              "    </tr>\n",
              "  </tbody>\n",
              "</table>\n",
              "<p>1017209 rows × 12 columns</p>\n",
              "</div>"
            ],
            "text/plain": [
              "         Store  DayOfWeek       Date  Sales  Customers  Open  Promo  \\\n",
              "0            1          5 2015-07-31   5263        555     1      1   \n",
              "1            2          5 2015-07-31   6064        625     1      1   \n",
              "2            3          5 2015-07-31   8314        821     1      1   \n",
              "3            4          5 2015-07-31  13995       1498     1      1   \n",
              "4            5          5 2015-07-31   4822        559     1      1   \n",
              "...        ...        ...        ...    ...        ...   ...    ...   \n",
              "1017204   1111          2 2013-01-01      0          0     0      0   \n",
              "1017205   1112          2 2013-01-01      0          0     0      0   \n",
              "1017206   1113          2 2013-01-01      0          0     0      0   \n",
              "1017207   1114          2 2013-01-01      0          0     0      0   \n",
              "1017208   1115          2 2013-01-01      0          0     0      0   \n",
              "\n",
              "        StateHoliday  SchoolHoliday StoreType  CompetitionDistance  \\\n",
              "0                  0              1         c               1270.0   \n",
              "1                  0              1         a                570.0   \n",
              "2                  0              1         a              14130.0   \n",
              "3                  0              1         c                620.0   \n",
              "4                  0              1         a              29910.0   \n",
              "...              ...            ...       ...                  ...   \n",
              "1017204            a              1         a                  NaN   \n",
              "1017205            a              1         d                  NaN   \n",
              "1017206            a              1         c                  NaN   \n",
              "1017207            a              1         a                  NaN   \n",
              "1017208            a              1         a                  NaN   \n",
              "\n",
              "         compdist_list  \n",
              "0               1270.0  \n",
              "1                570.0  \n",
              "2              14130.0  \n",
              "3                620.0  \n",
              "4              29910.0  \n",
              "...                ...  \n",
              "1017204          350.0  \n",
              "1017205        10070.0  \n",
              "1017206         1390.0  \n",
              "1017207         3130.0  \n",
              "1017208         1310.0  \n",
              "\n",
              "[1017209 rows x 12 columns]"
            ]
          },
          "execution_count": 41,
          "metadata": {},
          "output_type": "execute_result"
        }
      ],
      "source": [
        "compdist_list = cycle(compdist_list)\n",
        "data['compdist_list'] = [next(compdist_list) for i in range(len(data))]\n",
        "data"
      ]
    },
    {
      "cell_type": "code",
      "execution_count": null,
      "metadata": {
        "id": "DBYGkqWo3q8X",
        "outputId": "408c7d76-169a-4e47-b6e4-7f4be6a2eae3"
      },
      "outputs": [
        {
          "data": {
            "text/plain": [
              "0        1270.0\n",
              "1         570.0\n",
              "2       14130.0\n",
              "3         620.0\n",
              "4       29910.0\n",
              "         ...   \n",
              "1110     1900.0\n",
              "1111     1880.0\n",
              "1112     9260.0\n",
              "1113      870.0\n",
              "1114     5350.0\n",
              "Name: compdist_list, Length: 1115, dtype: float64"
            ]
          },
          "execution_count": 42,
          "metadata": {},
          "output_type": "execute_result"
        }
      ],
      "source": [
        "#Compdist_d=data.groupby('Store')['compdist_list']\n",
        "Compdist_d=data[\"compdist_list\"][:1115]              #Store competition distances choosen for one time. No need loop\n",
        "Compdist_d"
      ]
    },
    {
      "cell_type": "code",
      "execution_count": null,
      "metadata": {
        "id": "tyMuNVh23q8Y",
        "outputId": "a6a85f8b-91ae-4c18-cf64-011a0f845eba"
      },
      "outputs": [
        {
          "name": "stdout",
          "output_type": "stream",
          "text": [
            "Store\n",
            "1    3716854\n",
            "2    3883858\n",
            "3    5408261\n",
            "4    7556507\n",
            "5    3642818\n",
            "Name: Sales, dtype: int64\n"
          ]
        }
      ],
      "source": [
        "Sales_d2=data.groupby('Store')['Sales'].sum()\n",
        "print(Sales_d2.head())"
      ]
    },
    {
      "cell_type": "code",
      "execution_count": null,
      "metadata": {
        "id": "4UIpycOq3q8Y",
        "outputId": "613a80d2-9096-4db5-ace5-453e9201d6ed"
      },
      "outputs": [
        {
          "data": {
            "image/png": "[encoded data removed]",
            "text/plain": [
              "<Figure size 576x360 with 1 Axes>"
            ]
          },
          "metadata": {
            "needs_background": "light"
          },
          "output_type": "display_data"
        }
      ],
      "source": [
        "fig, ax = plt.subplots(figsize=(8, 5))\n",
        "plt.scatter(Compdist_d,Sales_d2)\n",
        "plt.title('Regression basic scatter')\n",
        "plt.xticks(rotation='vertical')\n",
        "plt.title('Customer-Sales comparison')\n",
        "plt.xlabel('Competition Distance')\n",
        "plt.ylabel('Sales')\n",
        "plt.show()"
      ]
    },
    {
      "cell_type": "code",
      "execution_count": null,
      "metadata": {
        "id": "xvfMAXJ03q8Z"
      },
      "outputs": [],
      "source": [
        "# Even though it is not obvious, it seems like lower competition distance leads to more sales."
      ]
    },
    {
      "cell_type": "code",
      "execution_count": null,
      "metadata": {
        "id": "-UMp1mmK3q8Z",
        "outputId": "d4fcc6a9-1e8a-42ee-e988-d2c9f16f1f5e"
      },
      "outputs": [
        {
          "data": {
            "image/png": "[encoded data removed]",
            "text/plain": [
              "<Figure size 720x360 with 1 Axes>"
            ]
          },
          "metadata": {
            "needs_background": "light"
          },
          "output_type": "display_data"
        }
      ],
      "source": [
        "fig, ax = plt.subplots(figsize=(10, 5))       #2 plots together\n",
        "plt.scatter(Compdist_d,Sales_d2)\n",
        "plt.scatter(Customers_d,Sales_d)\n",
        "plt.title('Regression basic scatter')\n",
        "plt.xticks(rotation='vertical')\n",
        "plt.title('Customer-Sales comparison')\n",
        "plt.xlabel('Competition Distance')\n",
        "plt.ylabel('Sales')\n",
        "plt.show()"
      ]
    },
    {
      "cell_type": "markdown",
      "source": [
        "### *Plot an array of Pearson correlations between all features*"
      ],
      "metadata": {
        "id": "N91k-qdX40YW"
      }
    },
    {
      "cell_type": "code",
      "execution_count": null,
      "metadata": {
        "id": "odsgkd_U3q8a",
        "outputId": "8ef98e06-5f8c-40e7-c562-7e6bf8f35cbb"
      },
      "outputs": [
        {
          "data": {
            "text/html": [
              "<div>\n",
              "<style scoped>\n",
              "    .dataframe tbody tr th:only-of-type {\n",
              "        vertical-align: middle;\n",
              "    }\n",
              "\n",
              "    .dataframe tbody tr th {\n",
              "        vertical-align: top;\n",
              "    }\n",
              "\n",
              "    .dataframe thead th {\n",
              "        text-align: right;\n",
              "    }\n",
              "</style>\n",
              "<table border=\"1\" class=\"dataframe\">\n",
              "  <thead>\n",
              "    <tr style=\"text-align: right;\">\n",
              "      <th></th>\n",
              "      <th>Store</th>\n",
              "      <th>DayOfWeek</th>\n",
              "      <th>Date</th>\n",
              "      <th>Sales</th>\n",
              "      <th>Customers</th>\n",
              "      <th>Open</th>\n",
              "      <th>Promo</th>\n",
              "      <th>StateHoliday</th>\n",
              "      <th>SchoolHoliday</th>\n",
              "      <th>StoreType</th>\n",
              "      <th>Assortment</th>\n",
              "      <th>CompetitionDistance</th>\n",
              "      <th>CompetitionOpenSinceMonth</th>\n",
              "      <th>CompetitionOpenSinceYear</th>\n",
              "      <th>Promo2</th>\n",
              "      <th>Promo2SinceWeek</th>\n",
              "      <th>Promo2SinceYear</th>\n",
              "      <th>PromoInterval</th>\n",
              "    </tr>\n",
              "  </thead>\n",
              "  <tbody>\n",
              "    <tr>\n",
              "      <th>0</th>\n",
              "      <td>1</td>\n",
              "      <td>5</td>\n",
              "      <td>2015-07-31</td>\n",
              "      <td>5263</td>\n",
              "      <td>555</td>\n",
              "      <td>1</td>\n",
              "      <td>1</td>\n",
              "      <td>0</td>\n",
              "      <td>1</td>\n",
              "      <td>c</td>\n",
              "      <td>a</td>\n",
              "      <td>1270.0</td>\n",
              "      <td>9.0</td>\n",
              "      <td>2008.0</td>\n",
              "      <td>0</td>\n",
              "      <td>NaN</td>\n",
              "      <td>NaN</td>\n",
              "      <td>NaN</td>\n",
              "    </tr>\n",
              "    <tr>\n",
              "      <th>1</th>\n",
              "      <td>1</td>\n",
              "      <td>4</td>\n",
              "      <td>2015-07-30</td>\n",
              "      <td>5020</td>\n",
              "      <td>546</td>\n",
              "      <td>1</td>\n",
              "      <td>1</td>\n",
              "      <td>0</td>\n",
              "      <td>1</td>\n",
              "      <td>c</td>\n",
              "      <td>a</td>\n",
              "      <td>1270.0</td>\n",
              "      <td>9.0</td>\n",
              "      <td>2008.0</td>\n",
              "      <td>0</td>\n",
              "      <td>NaN</td>\n",
              "      <td>NaN</td>\n",
              "      <td>NaN</td>\n",
              "    </tr>\n",
              "    <tr>\n",
              "      <th>2</th>\n",
              "      <td>1</td>\n",
              "      <td>3</td>\n",
              "      <td>2015-07-29</td>\n",
              "      <td>4782</td>\n",
              "      <td>523</td>\n",
              "      <td>1</td>\n",
              "      <td>1</td>\n",
              "      <td>0</td>\n",
              "      <td>1</td>\n",
              "      <td>c</td>\n",
              "      <td>a</td>\n",
              "      <td>1270.0</td>\n",
              "      <td>9.0</td>\n",
              "      <td>2008.0</td>\n",
              "      <td>0</td>\n",
              "      <td>NaN</td>\n",
              "      <td>NaN</td>\n",
              "      <td>NaN</td>\n",
              "    </tr>\n",
              "    <tr>\n",
              "      <th>3</th>\n",
              "      <td>1</td>\n",
              "      <td>2</td>\n",
              "      <td>2015-07-28</td>\n",
              "      <td>5011</td>\n",
              "      <td>560</td>\n",
              "      <td>1</td>\n",
              "      <td>1</td>\n",
              "      <td>0</td>\n",
              "      <td>1</td>\n",
              "      <td>c</td>\n",
              "      <td>a</td>\n",
              "      <td>1270.0</td>\n",
              "      <td>9.0</td>\n",
              "      <td>2008.0</td>\n",
              "      <td>0</td>\n",
              "      <td>NaN</td>\n",
              "      <td>NaN</td>\n",
              "      <td>NaN</td>\n",
              "    </tr>\n",
              "    <tr>\n",
              "      <th>4</th>\n",
              "      <td>1</td>\n",
              "      <td>1</td>\n",
              "      <td>2015-07-27</td>\n",
              "      <td>6102</td>\n",
              "      <td>612</td>\n",
              "      <td>1</td>\n",
              "      <td>1</td>\n",
              "      <td>0</td>\n",
              "      <td>1</td>\n",
              "      <td>c</td>\n",
              "      <td>a</td>\n",
              "      <td>1270.0</td>\n",
              "      <td>9.0</td>\n",
              "      <td>2008.0</td>\n",
              "      <td>0</td>\n",
              "      <td>NaN</td>\n",
              "      <td>NaN</td>\n",
              "      <td>NaN</td>\n",
              "    </tr>\n",
              "    <tr>\n",
              "      <th>...</th>\n",
              "      <td>...</td>\n",
              "      <td>...</td>\n",
              "      <td>...</td>\n",
              "      <td>...</td>\n",
              "      <td>...</td>\n",
              "      <td>...</td>\n",
              "      <td>...</td>\n",
              "      <td>...</td>\n",
              "      <td>...</td>\n",
              "      <td>...</td>\n",
              "      <td>...</td>\n",
              "      <td>...</td>\n",
              "      <td>...</td>\n",
              "      <td>...</td>\n",
              "      <td>...</td>\n",
              "      <td>...</td>\n",
              "      <td>...</td>\n",
              "      <td>...</td>\n",
              "    </tr>\n",
              "    <tr>\n",
              "      <th>295</th>\n",
              "      <td>1</td>\n",
              "      <td>4</td>\n",
              "      <td>2014-10-09</td>\n",
              "      <td>4654</td>\n",
              "      <td>527</td>\n",
              "      <td>1</td>\n",
              "      <td>1</td>\n",
              "      <td>0</td>\n",
              "      <td>0</td>\n",
              "      <td>c</td>\n",
              "      <td>a</td>\n",
              "      <td>1270.0</td>\n",
              "      <td>9.0</td>\n",
              "      <td>2008.0</td>\n",
              "      <td>0</td>\n",
              "      <td>NaN</td>\n",
              "      <td>NaN</td>\n",
              "      <td>NaN</td>\n",
              "    </tr>\n",
              "    <tr>\n",
              "      <th>296</th>\n",
              "      <td>1</td>\n",
              "      <td>3</td>\n",
              "      <td>2014-10-08</td>\n",
              "      <td>4944</td>\n",
              "      <td>518</td>\n",
              "      <td>1</td>\n",
              "      <td>1</td>\n",
              "      <td>0</td>\n",
              "      <td>0</td>\n",
              "      <td>c</td>\n",
              "      <td>a</td>\n",
              "      <td>1270.0</td>\n",
              "      <td>9.0</td>\n",
              "      <td>2008.0</td>\n",
              "      <td>0</td>\n",
              "      <td>NaN</td>\n",
              "      <td>NaN</td>\n",
              "      <td>NaN</td>\n",
              "    </tr>\n",
              "    <tr>\n",
              "      <th>297</th>\n",
              "      <td>1</td>\n",
              "      <td>2</td>\n",
              "      <td>2014-10-07</td>\n",
              "      <td>5439</td>\n",
              "      <td>556</td>\n",
              "      <td>1</td>\n",
              "      <td>1</td>\n",
              "      <td>0</td>\n",
              "      <td>0</td>\n",
              "      <td>c</td>\n",
              "      <td>a</td>\n",
              "      <td>1270.0</td>\n",
              "      <td>9.0</td>\n",
              "      <td>2008.0</td>\n",
              "      <td>0</td>\n",
              "      <td>NaN</td>\n",
              "      <td>NaN</td>\n",
              "      <td>NaN</td>\n",
              "    </tr>\n",
              "    <tr>\n",
              "      <th>298</th>\n",
              "      <td>1</td>\n",
              "      <td>1</td>\n",
              "      <td>2014-10-06</td>\n",
              "      <td>5402</td>\n",
              "      <td>608</td>\n",
              "      <td>1</td>\n",
              "      <td>1</td>\n",
              "      <td>0</td>\n",
              "      <td>0</td>\n",
              "      <td>c</td>\n",
              "      <td>a</td>\n",
              "      <td>1270.0</td>\n",
              "      <td>9.0</td>\n",
              "      <td>2008.0</td>\n",
              "      <td>0</td>\n",
              "      <td>NaN</td>\n",
              "      <td>NaN</td>\n",
              "      <td>NaN</td>\n",
              "    </tr>\n",
              "    <tr>\n",
              "      <th>299</th>\n",
              "      <td>1</td>\n",
              "      <td>7</td>\n",
              "      <td>2014-10-05</td>\n",
              "      <td>0</td>\n",
              "      <td>0</td>\n",
              "      <td>0</td>\n",
              "      <td>0</td>\n",
              "      <td>0</td>\n",
              "      <td>0</td>\n",
              "      <td>c</td>\n",
              "      <td>a</td>\n",
              "      <td>1270.0</td>\n",
              "      <td>9.0</td>\n",
              "      <td>2008.0</td>\n",
              "      <td>0</td>\n",
              "      <td>NaN</td>\n",
              "      <td>NaN</td>\n",
              "      <td>NaN</td>\n",
              "    </tr>\n",
              "  </tbody>\n",
              "</table>\n",
              "<p>300 rows × 18 columns</p>\n",
              "</div>"
            ],
            "text/plain": [
              "     Store  DayOfWeek        Date  Sales  Customers  Open  Promo StateHoliday  \\\n",
              "0        1          5  2015-07-31   5263        555     1      1            0   \n",
              "1        1          4  2015-07-30   5020        546     1      1            0   \n",
              "2        1          3  2015-07-29   4782        523     1      1            0   \n",
              "3        1          2  2015-07-28   5011        560     1      1            0   \n",
              "4        1          1  2015-07-27   6102        612     1      1            0   \n",
              "..     ...        ...         ...    ...        ...   ...    ...          ...   \n",
              "295      1          4  2014-10-09   4654        527     1      1            0   \n",
              "296      1          3  2014-10-08   4944        518     1      1            0   \n",
              "297      1          2  2014-10-07   5439        556     1      1            0   \n",
              "298      1          1  2014-10-06   5402        608     1      1            0   \n",
              "299      1          7  2014-10-05      0          0     0      0            0   \n",
              "\n",
              "     SchoolHoliday StoreType Assortment  CompetitionDistance  \\\n",
              "0                1         c          a               1270.0   \n",
              "1                1         c          a               1270.0   \n",
              "2                1         c          a               1270.0   \n",
              "3                1         c          a               1270.0   \n",
              "4                1         c          a               1270.0   \n",
              "..             ...       ...        ...                  ...   \n",
              "295              0         c          a               1270.0   \n",
              "296              0         c          a               1270.0   \n",
              "297              0         c          a               1270.0   \n",
              "298              0         c          a               1270.0   \n",
              "299              0         c          a               1270.0   \n",
              "\n",
              "     CompetitionOpenSinceMonth  CompetitionOpenSinceYear  Promo2  \\\n",
              "0                          9.0                    2008.0       0   \n",
              "1                          9.0                    2008.0       0   \n",
              "2                          9.0                    2008.0       0   \n",
              "3                          9.0                    2008.0       0   \n",
              "4                          9.0                    2008.0       0   \n",
              "..                         ...                       ...     ...   \n",
              "295                        9.0                    2008.0       0   \n",
              "296                        9.0                    2008.0       0   \n",
              "297                        9.0                    2008.0       0   \n",
              "298                        9.0                    2008.0       0   \n",
              "299                        9.0                    2008.0       0   \n",
              "\n",
              "     Promo2SinceWeek  Promo2SinceYear PromoInterval  \n",
              "0                NaN              NaN           NaN  \n",
              "1                NaN              NaN           NaN  \n",
              "2                NaN              NaN           NaN  \n",
              "3                NaN              NaN           NaN  \n",
              "4                NaN              NaN           NaN  \n",
              "..               ...              ...           ...  \n",
              "295              NaN              NaN           NaN  \n",
              "296              NaN              NaN           NaN  \n",
              "297              NaN              NaN           NaN  \n",
              "298              NaN              NaN           NaN  \n",
              "299              NaN              NaN           NaN  \n",
              "\n",
              "[300 rows x 18 columns]"
            ]
          },
          "execution_count": 95,
          "metadata": {},
          "output_type": "execute_result"
        }
      ],
      "source": [
        "data_merged=data.merge(data2, on='Store')        #train and store datasets are merged\n",
        "data_merged[:300]"
      ]
    },
    {
      "cell_type": "code",
      "execution_count": null,
      "metadata": {
        "id": "xxSVEq_c3q8a",
        "outputId": "2182b7af-aa25-4d9b-e657-5e506bce586b"
      },
      "outputs": [
        {
          "data": {
            "text/html": [
              "<div>\n",
              "<style scoped>\n",
              "    .dataframe tbody tr th:only-of-type {\n",
              "        vertical-align: middle;\n",
              "    }\n",
              "\n",
              "    .dataframe tbody tr th {\n",
              "        vertical-align: top;\n",
              "    }\n",
              "\n",
              "    .dataframe thead th {\n",
              "        text-align: right;\n",
              "    }\n",
              "</style>\n",
              "<table border=\"1\" class=\"dataframe\">\n",
              "  <thead>\n",
              "    <tr style=\"text-align: right;\">\n",
              "      <th></th>\n",
              "      <th>Store</th>\n",
              "      <th>DayOfWeek</th>\n",
              "      <th>Sales</th>\n",
              "      <th>Customers</th>\n",
              "      <th>Open</th>\n",
              "      <th>Promo</th>\n",
              "      <th>SchoolHoliday</th>\n",
              "      <th>CompetitionDistance</th>\n",
              "      <th>CompetitionOpenSinceMonth</th>\n",
              "      <th>CompetitionOpenSinceYear</th>\n",
              "      <th>Promo2</th>\n",
              "      <th>Promo2SinceWeek</th>\n",
              "      <th>Promo2SinceYear</th>\n",
              "    </tr>\n",
              "  </thead>\n",
              "  <tbody>\n",
              "    <tr>\n",
              "      <th>Store</th>\n",
              "      <td>1.000000</td>\n",
              "      <td>-0.000008</td>\n",
              "      <td>0.005126</td>\n",
              "      <td>0.024325</td>\n",
              "      <td>-0.000047</td>\n",
              "      <td>0.000058</td>\n",
              "      <td>0.000641</td>\n",
              "      <td>-0.026413</td>\n",
              "      <td>-0.050746</td>\n",
              "      <td>-0.004592</td>\n",
              "      <td>0.008488</td>\n",
              "      <td>0.009865</td>\n",
              "      <td>0.038928</td>\n",
              "    </tr>\n",
              "    <tr>\n",
              "      <th>DayOfWeek</th>\n",
              "      <td>-0.000008</td>\n",
              "      <td>1.000000</td>\n",
              "      <td>-0.462125</td>\n",
              "      <td>-0.386445</td>\n",
              "      <td>-0.528963</td>\n",
              "      <td>-0.392925</td>\n",
              "      <td>-0.205388</td>\n",
              "      <td>-0.000025</td>\n",
              "      <td>0.000006</td>\n",
              "      <td>-0.000025</td>\n",
              "      <td>0.000168</td>\n",
              "      <td>0.000174</td>\n",
              "      <td>0.000049</td>\n",
              "    </tr>\n",
              "    <tr>\n",
              "      <th>Sales</th>\n",
              "      <td>0.005126</td>\n",
              "      <td>-0.462125</td>\n",
              "      <td>1.000000</td>\n",
              "      <td>0.894711</td>\n",
              "      <td>0.678472</td>\n",
              "      <td>0.452345</td>\n",
              "      <td>0.085124</td>\n",
              "      <td>-0.019229</td>\n",
              "      <td>-0.028257</td>\n",
              "      <td>0.012659</td>\n",
              "      <td>-0.091040</td>\n",
              "      <td>0.059558</td>\n",
              "      <td>-0.021127</td>\n",
              "    </tr>\n",
              "    <tr>\n",
              "      <th>Customers</th>\n",
              "      <td>0.024325</td>\n",
              "      <td>-0.386445</td>\n",
              "      <td>0.894711</td>\n",
              "      <td>1.000000</td>\n",
              "      <td>0.616768</td>\n",
              "      <td>0.316169</td>\n",
              "      <td>0.071568</td>\n",
              "      <td>-0.102861</td>\n",
              "      <td>-0.030954</td>\n",
              "      <td>0.008931</td>\n",
              "      <td>-0.150159</td>\n",
              "      <td>0.040531</td>\n",
              "      <td>0.028974</td>\n",
              "    </tr>\n",
              "    <tr>\n",
              "      <th>Open</th>\n",
              "      <td>-0.000047</td>\n",
              "      <td>-0.528963</td>\n",
              "      <td>0.678472</td>\n",
              "      <td>0.616768</td>\n",
              "      <td>1.000000</td>\n",
              "      <td>0.295042</td>\n",
              "      <td>0.086171</td>\n",
              "      <td>0.007992</td>\n",
              "      <td>0.001384</td>\n",
              "      <td>0.002771</td>\n",
              "      <td>-0.008309</td>\n",
              "      <td>-0.002430</td>\n",
              "      <td>0.001637</td>\n",
              "    </tr>\n",
              "    <tr>\n",
              "      <th>Promo</th>\n",
              "      <td>0.000058</td>\n",
              "      <td>-0.392925</td>\n",
              "      <td>0.452345</td>\n",
              "      <td>0.316169</td>\n",
              "      <td>0.295042</td>\n",
              "      <td>1.000000</td>\n",
              "      <td>0.067483</td>\n",
              "      <td>0.000138</td>\n",
              "      <td>-0.000023</td>\n",
              "      <td>0.000152</td>\n",
              "      <td>-0.000983</td>\n",
              "      <td>-0.001008</td>\n",
              "      <td>-0.000283</td>\n",
              "    </tr>\n",
              "    <tr>\n",
              "      <th>SchoolHoliday</th>\n",
              "      <td>0.000641</td>\n",
              "      <td>-0.205388</td>\n",
              "      <td>0.085124</td>\n",
              "      <td>0.071568</td>\n",
              "      <td>0.086171</td>\n",
              "      <td>0.067483</td>\n",
              "      <td>1.000000</td>\n",
              "      <td>-0.003689</td>\n",
              "      <td>-0.000526</td>\n",
              "      <td>0.001520</td>\n",
              "      <td>-0.006909</td>\n",
              "      <td>-0.003133</td>\n",
              "      <td>-0.003682</td>\n",
              "    </tr>\n",
              "    <tr>\n",
              "      <th>CompetitionDistance</th>\n",
              "      <td>-0.026413</td>\n",
              "      <td>-0.000025</td>\n",
              "      <td>-0.019229</td>\n",
              "      <td>-0.102861</td>\n",
              "      <td>0.007992</td>\n",
              "      <td>0.000138</td>\n",
              "      <td>-0.003689</td>\n",
              "      <td>1.000000</td>\n",
              "      <td>-0.061624</td>\n",
              "      <td>0.025397</td>\n",
              "      <td>-0.139886</td>\n",
              "      <td>-0.054384</td>\n",
              "      <td>-0.109695</td>\n",
              "    </tr>\n",
              "    <tr>\n",
              "      <th>CompetitionOpenSinceMonth</th>\n",
              "      <td>-0.050746</td>\n",
              "      <td>0.000006</td>\n",
              "      <td>-0.028257</td>\n",
              "      <td>-0.030954</td>\n",
              "      <td>0.001384</td>\n",
              "      <td>-0.000023</td>\n",
              "      <td>-0.000526</td>\n",
              "      <td>-0.061624</td>\n",
              "      <td>1.000000</td>\n",
              "      <td>-0.060594</td>\n",
              "      <td>-0.009383</td>\n",
              "      <td>-0.036251</td>\n",
              "      <td>0.050326</td>\n",
              "    </tr>\n",
              "    <tr>\n",
              "      <th>CompetitionOpenSinceYear</th>\n",
              "      <td>-0.004592</td>\n",
              "      <td>-0.000025</td>\n",
              "      <td>0.012659</td>\n",
              "      <td>0.008931</td>\n",
              "      <td>0.002771</td>\n",
              "      <td>0.000152</td>\n",
              "      <td>0.001520</td>\n",
              "      <td>0.025397</td>\n",
              "      <td>-0.060594</td>\n",
              "      <td>1.000000</td>\n",
              "      <td>-0.077336</td>\n",
              "      <td>-0.079784</td>\n",
              "      <td>0.012155</td>\n",
              "    </tr>\n",
              "    <tr>\n",
              "      <th>Promo2</th>\n",
              "      <td>0.008488</td>\n",
              "      <td>0.000168</td>\n",
              "      <td>-0.091040</td>\n",
              "      <td>-0.150159</td>\n",
              "      <td>-0.008309</td>\n",
              "      <td>-0.000983</td>\n",
              "      <td>-0.006909</td>\n",
              "      <td>-0.139886</td>\n",
              "      <td>-0.009383</td>\n",
              "      <td>-0.077336</td>\n",
              "      <td>1.000000</td>\n",
              "      <td>NaN</td>\n",
              "      <td>NaN</td>\n",
              "    </tr>\n",
              "    <tr>\n",
              "      <th>Promo2SinceWeek</th>\n",
              "      <td>0.009865</td>\n",
              "      <td>0.000174</td>\n",
              "      <td>0.059558</td>\n",
              "      <td>0.040531</td>\n",
              "      <td>-0.002430</td>\n",
              "      <td>-0.001008</td>\n",
              "      <td>-0.003133</td>\n",
              "      <td>-0.054384</td>\n",
              "      <td>-0.036251</td>\n",
              "      <td>-0.079784</td>\n",
              "      <td>NaN</td>\n",
              "      <td>1.000000</td>\n",
              "      <td>-0.244155</td>\n",
              "    </tr>\n",
              "    <tr>\n",
              "      <th>Promo2SinceYear</th>\n",
              "      <td>0.038928</td>\n",
              "      <td>0.000049</td>\n",
              "      <td>-0.021127</td>\n",
              "      <td>0.028974</td>\n",
              "      <td>0.001637</td>\n",
              "      <td>-0.000283</td>\n",
              "      <td>-0.003682</td>\n",
              "      <td>-0.109695</td>\n",
              "      <td>0.050326</td>\n",
              "      <td>0.012155</td>\n",
              "      <td>NaN</td>\n",
              "      <td>-0.244155</td>\n",
              "      <td>1.000000</td>\n",
              "    </tr>\n",
              "  </tbody>\n",
              "</table>\n",
              "</div>"
            ],
            "text/plain": [
              "                              Store  DayOfWeek     Sales  Customers      Open  \\\n",
              "Store                      1.000000  -0.000008  0.005126   0.024325 -0.000047   \n",
              "DayOfWeek                 -0.000008   1.000000 -0.462125  -0.386445 -0.528963   \n",
              "Sales                      0.005126  -0.462125  1.000000   0.894711  0.678472   \n",
              "Customers                  0.024325  -0.386445  0.894711   1.000000  0.616768   \n",
              "Open                      -0.000047  -0.528963  0.678472   0.616768  1.000000   \n",
              "Promo                      0.000058  -0.392925  0.452345   0.316169  0.295042   \n",
              "SchoolHoliday              0.000641  -0.205388  0.085124   0.071568  0.086171   \n",
              "CompetitionDistance       -0.026413  -0.000025 -0.019229  -0.102861  0.007992   \n",
              "CompetitionOpenSinceMonth -0.050746   0.000006 -0.028257  -0.030954  0.001384   \n",
              "CompetitionOpenSinceYear  -0.004592  -0.000025  0.012659   0.008931  0.002771   \n",
              "Promo2                     0.008488   0.000168 -0.091040  -0.150159 -0.008309   \n",
              "Promo2SinceWeek            0.009865   0.000174  0.059558   0.040531 -0.002430   \n",
              "Promo2SinceYear            0.038928   0.000049 -0.021127   0.028974  0.001637   \n",
              "\n",
              "                              Promo  SchoolHoliday  CompetitionDistance  \\\n",
              "Store                      0.000058       0.000641            -0.026413   \n",
              "DayOfWeek                 -0.392925      -0.205388            -0.000025   \n",
              "Sales                      0.452345       0.085124            -0.019229   \n",
              "Customers                  0.316169       0.071568            -0.102861   \n",
              "Open                       0.295042       0.086171             0.007992   \n",
              "Promo                      1.000000       0.067483             0.000138   \n",
              "SchoolHoliday              0.067483       1.000000            -0.003689   \n",
              "CompetitionDistance        0.000138      -0.003689             1.000000   \n",
              "CompetitionOpenSinceMonth -0.000023      -0.000526            -0.061624   \n",
              "CompetitionOpenSinceYear   0.000152       0.001520             0.025397   \n",
              "Promo2                    -0.000983      -0.006909            -0.139886   \n",
              "Promo2SinceWeek           -0.001008      -0.003133            -0.054384   \n",
              "Promo2SinceYear           -0.000283      -0.003682            -0.109695   \n",
              "\n",
              "                           CompetitionOpenSinceMonth  \\\n",
              "Store                                      -0.050746   \n",
              "DayOfWeek                                   0.000006   \n",
              "Sales                                      -0.028257   \n",
              "Customers                                  -0.030954   \n",
              "Open                                        0.001384   \n",
              "Promo                                      -0.000023   \n",
              "SchoolHoliday                              -0.000526   \n",
              "CompetitionDistance                        -0.061624   \n",
              "CompetitionOpenSinceMonth                   1.000000   \n",
              "CompetitionOpenSinceYear                   -0.060594   \n",
              "Promo2                                     -0.009383   \n",
              "Promo2SinceWeek                            -0.036251   \n",
              "Promo2SinceYear                             0.050326   \n",
              "\n",
              "                           CompetitionOpenSinceYear    Promo2  \\\n",
              "Store                                     -0.004592  0.008488   \n",
              "DayOfWeek                                 -0.000025  0.000168   \n",
              "Sales                                      0.012659 -0.091040   \n",
              "Customers                                  0.008931 -0.150159   \n",
              "Open                                       0.002771 -0.008309   \n",
              "Promo                                      0.000152 -0.000983   \n",
              "SchoolHoliday                              0.001520 -0.006909   \n",
              "CompetitionDistance                        0.025397 -0.139886   \n",
              "CompetitionOpenSinceMonth                 -0.060594 -0.009383   \n",
              "CompetitionOpenSinceYear                   1.000000 -0.077336   \n",
              "Promo2                                    -0.077336  1.000000   \n",
              "Promo2SinceWeek                           -0.079784       NaN   \n",
              "Promo2SinceYear                            0.012155       NaN   \n",
              "\n",
              "                           Promo2SinceWeek  Promo2SinceYear  \n",
              "Store                             0.009865         0.038928  \n",
              "DayOfWeek                         0.000174         0.000049  \n",
              "Sales                             0.059558        -0.021127  \n",
              "Customers                         0.040531         0.028974  \n",
              "Open                             -0.002430         0.001637  \n",
              "Promo                            -0.001008        -0.000283  \n",
              "SchoolHoliday                    -0.003133        -0.003682  \n",
              "CompetitionDistance              -0.054384        -0.109695  \n",
              "CompetitionOpenSinceMonth        -0.036251         0.050326  \n",
              "CompetitionOpenSinceYear         -0.079784         0.012155  \n",
              "Promo2                                 NaN              NaN  \n",
              "Promo2SinceWeek                   1.000000        -0.244155  \n",
              "Promo2SinceYear                  -0.244155         1.000000  "
            ]
          },
          "execution_count": 96,
          "metadata": {},
          "output_type": "execute_result"
        }
      ],
      "source": [
        "pearsoncorr = data_merged.corr(method='pearson')           #pearson correlation\n",
        "pearsoncorr"
      ]
    },
    {
      "cell_type": "code",
      "execution_count": null,
      "metadata": {
        "id": "bbCDj3ZM3q8a"
      },
      "outputs": [],
      "source": [
        "#High correlation between Customers and Sales 0.894711 as seen in the above scatter plot. CompetitionDistance and Sales are negatively correlated and not that important -0.019229. Promotion increases sales (0.452345 pcorr). "
      ]
    },
    {
      "cell_type": "markdown",
      "source": [
        "### *For the first 10 stores (id’ed) draw boxplots of their sales*"
      ],
      "metadata": {
        "id": "5ZxJlFhd44pI"
      }
    },
    {
      "cell_type": "code",
      "execution_count": null,
      "metadata": {
        "id": "0ba5GS1n3q8b",
        "outputId": "78749f7b-4dc5-4fee-a944-af60f14c4319"
      },
      "outputs": [
        {
          "name": "stdout",
          "output_type": "stream",
          "text": [
            "Store\n",
            "1     3716854\n",
            "2     3883858\n",
            "3     5408261\n",
            "4     7556507\n",
            "5     3642818\n",
            "6     4297758\n",
            "7     6930202\n",
            "8     4342857\n",
            "9     5112061\n",
            "10    4365642\n",
            "Name: Sales, dtype: int64\n"
          ]
        }
      ],
      "source": [
        "Sales10=data.groupby('Store')['Sales'].sum() \n",
        "Sales10=Sales10[:10]\n",
        "print(Sales10)"
      ]
    },
    {
      "cell_type": "code",
      "execution_count": null,
      "metadata": {
        "id": "ReeZd5Xr3q8c",
        "outputId": "ad70c307-887d-4178-d1ee-a1579b909213"
      },
      "outputs": [
        {
          "data": {
            "image/png": "[encoded data removed]",
            "text/plain": [
              "<Figure size 432x288 with 1 Axes>"
            ]
          },
          "metadata": {
            "needs_background": "light"
          },
          "output_type": "display_data"
        }
      ],
      "source": [
        "plt.figure()\n",
        "plt.boxplot(Sales10)\n",
        "plt.title('Boxplot of Sales of first 10 Stores')\n",
        "plt.show()"
      ]
    },
    {
      "cell_type": "code",
      "execution_count": null,
      "metadata": {
        "id": "0x1S_gmj3q8d"
      },
      "outputs": [],
      "source": [
        "# Median (Q2 / 50th percentile). Median of sales are both Store 8 and 10. Highest median is Store 10 with 4365642 sales. Among these 10 stores in the above graph, highest sales are belong to Store 4 with 7556507 sales which can be seen as circle (Outlier) on the upper part of boxplot."
      ]
    },
    {
      "cell_type": "markdown",
      "metadata": {
        "id": "w4xnOhcC3q8k"
      },
      "source": [
        "# **Exercise 2: Linear Regression Implementation**"
      ]
    },
    {
      "cell_type": "markdown",
      "metadata": {
        "id": "PyGHx1Pa3q8l"
      },
      "source": [
        "## **Part A: Implement (multiple) Linear regression algorithm for 10 features**"
      ]
    },
    {
      "cell_type": "markdown",
      "source": [
        "### *Generate a simple data i.e. a matrixX with dimensions 100x10 with normal distribution (2, 0.01) and  target vector a matrix Y with dimensions 100x1 with uniform distribution*"
      ],
      "metadata": {
        "id": "aVSKjpLN5Gvy"
      }
    },
    {
      "cell_type": "code",
      "execution_count": null,
      "metadata": {
        "id": "_31RWgbH3q8l"
      },
      "outputs": [],
      "source": [
        "x0=np.ones((100,1))\n",
        "x1=np.random.normal(2,0.01,(100,10))\n",
        "X=np.append(x0,x1,axis=1)"
      ]
    },
    {
      "cell_type": "code",
      "execution_count": null,
      "metadata": {
        "id": "rUlZiIfb3q8m"
      },
      "outputs": [],
      "source": [
        "Y=np.random.uniform(0,1,(100))"
      ]
    },
    {
      "cell_type": "code",
      "execution_count": null,
      "metadata": {
        "id": "albxXNYY3q8m"
      },
      "outputs": [],
      "source": [
        "#X_test, X_train = np.array_split(X, [int(.1*len(X))])\n",
        "#y_test, y_train = np.array_split(Y, [int(.1*len(Y))])"
      ]
    },
    {
      "cell_type": "code",
      "execution_count": null,
      "metadata": {
        "id": "L4LMRbq93q8n",
        "outputId": "2000707d-d149-4372-f2ee-17ad340f9bed"
      },
      "outputs": [
        {
          "name": "stdout",
          "output_type": "stream",
          "text": [
            "(100, 11) (100,)\n"
          ]
        }
      ],
      "source": [
        "print(X.shape ,Y.shape)"
      ]
    },
    {
      "cell_type": "markdown",
      "source": [
        "### *Implement linear regression algorithm with Gaussian Elemination  and learn parameter values*"
      ],
      "metadata": {
        "id": "gU7kmbQS5c5g"
      }
    },
    {
      "cell_type": "code",
      "execution_count": null,
      "metadata": {
        "id": "zGRdKL7J3q8o"
      },
      "outputs": [],
      "source": [
        "def learn_linreg(X, Y):          #Solve system of linear Equations\n",
        "\n",
        "    A = np.matmul(X.T, X)\n",
        "    B = np.matmul(X.T, Y)\n",
        "    Beta = np.linalg.solve(A, B)\n",
        "    return Beta, A, B"
      ]
    },
    {
      "cell_type": "code",
      "execution_count": null,
      "metadata": {
        "id": "Pl1z1ifz3q8o",
        "outputId": "8dcd5acc-38e3-4e28-b7d1-d6ea101ad611"
      },
      "outputs": [
        {
          "name": "stdout",
          "output_type": "stream",
          "text": [
            "SLE: [-6.26942401  1.17540777  2.93790132 -4.8197635  -0.71386205 -3.33983698\n",
            " -0.52509774  2.51446838  2.43323334  2.80542836  0.92532109]\n",
            "\n"
          ]
        }
      ],
      "source": [
        "Beta_learn,A,B = learn_linreg(X, Y)\n",
        "print(\"SLE: {}\\n\".format(Beta_learn))"
      ]
    },
    {
      "cell_type": "code",
      "execution_count": null,
      "metadata": {
        "id": "E0KprKq93q8p"
      },
      "outputs": [],
      "source": [
        "def gaussian(x, y):\n",
        "    \n",
        "    beta = np.zeros((len(x),1))\n",
        "    y = np.split(y,len(y))\n",
        "    x = np.append(x,y,axis = 1)\n",
        "    \n",
        "    for i in range (len(x)-1):                    #zero lower part of the matrix\n",
        "        for k in range (len(x)-1-i):\n",
        "            x[k+i+1,] = x[k+i+1,] - ((x[i,] * x[k+i+1, i])/x[i, i])\n",
        "    for i in reversed(range(1, len(x))):          #zero upper part of the matrix\n",
        "        for k in reversed(range (i)):\n",
        "            x[k,] = x[k,] - ((x[i] * x[k, i])/x[i, i])\n",
        "\n",
        "    x_part = x[:, :-1]\n",
        "    y_part = x[:, -1]\n",
        "    \n",
        "\n",
        "    for i in range (len(x)):         #get beta values\n",
        "        beta[i] = y_part[i] / x_part[i,i]\n",
        "    return beta"
      ]
    },
    {
      "cell_type": "code",
      "execution_count": null,
      "metadata": {
        "id": "ZhAIB_vp3q8q",
        "outputId": "0a6997c4-005e-4864-ae7c-2609a5ebb16f"
      },
      "outputs": [
        {
          "name": "stdout",
          "output_type": "stream",
          "text": [
            "Gaussian: [[-6.26942401  1.17540777  2.93790132 -4.8197635  -0.71386205 -3.33983698\n",
            "  -0.52509774  2.51446838  2.43323334  2.80542836  0.92532109]]\n",
            "\n"
          ]
        }
      ],
      "source": [
        "left = np.matmul(X.T, X)\n",
        "right = np.matmul(X.T, Y)\n",
        "\n",
        "Beta_G = gaussian(left, right)                #Gaussian Elimination method\n",
        "print(\"Gaussian: {}\\n\".format(Beta_G.T))"
      ]
    },
    {
      "cell_type": "markdown",
      "source": [
        "### *Implement the corresponding prediction algorithm and plot actual and predicted values from the training points*"
      ],
      "metadata": {
        "id": "nBdrvQuG59t_"
      }
    },
    {
      "cell_type": "code",
      "execution_count": null,
      "metadata": {
        "id": "NldbNb6m3q8r",
        "outputId": "435b4d48-8c3b-46f3-f13b-9bb5171c842f"
      },
      "outputs": [
        {
          "name": "stdout",
          "output_type": "stream",
          "text": [
            "Predicted y with SLE:[0.48454837 0.48488397 0.52547925 0.51992571 0.47168787 0.32145259\n",
            " 0.64542852 0.68762835 0.5989825  0.66414591 0.57122273 0.53836299\n",
            " 0.48783525 0.44151186 0.53068577 0.57517824 0.46416047 0.61469606\n",
            " 0.50798232 0.44614661 0.66147994 0.5215009  0.559117   0.37279191\n",
            " 0.43442951 0.47854923 0.46760706 0.32159004 0.51706468 0.48892583\n",
            " 0.42943129 0.60095218 0.51267892 0.56640326 0.5312771  0.61822208\n",
            " 0.42051634 0.57874769 0.4908256  0.54825205 0.40139981 0.62689247\n",
            " 0.57701333 0.44637195 0.61414384 0.68824138 0.54083675 0.45120134\n",
            " 0.56151708 0.52081997 0.40849243 0.55442569 0.65841563 0.47509158\n",
            " 0.6066959  0.36434702 0.438752   0.51375521 0.43269015 0.57988351\n",
            " 0.53233632 0.51656329 0.54205142 0.28836026 0.43326507 0.49923757\n",
            " 0.57075748 0.51974372 0.60609966 0.49931871 0.55870052 0.46276353\n",
            " 0.47081187 0.52745839 0.44306531 0.71624936 0.49893368 0.44567697\n",
            " 0.58813618 0.71475802 0.52667652 0.48236897 0.56668813 0.50282293\n",
            " 0.5695327  0.46090506 0.52247847 0.6908031  0.42382099 0.43056591\n",
            " 0.60602576 0.51234749 0.51579475 0.40425499 0.59337141 0.50024278\n",
            " 0.59031907 0.41693701 0.44548019 0.42844446]\n",
            "\n"
          ]
        }
      ],
      "source": [
        "y_pred = np.matmul(X, Beta_learn)\n",
        "print(\"Predicted y with SLE:{}\\n\".format(y_pred))"
      ]
    },
    {
      "cell_type": "code",
      "execution_count": null,
      "metadata": {
        "id": "RIpPTkRn3q8s",
        "outputId": "0c08ab9e-63eb-4d3e-f56b-5e421e66fcea"
      },
      "outputs": [
        {
          "name": "stdout",
          "output_type": "stream",
          "text": [
            "Gaussian method Y prediction:[0.48454837 0.48488397 0.52547925 0.51992571 0.47168787 0.32145259\n",
            " 0.64542852 0.68762835 0.5989825  0.66414591 0.57122273 0.53836299\n",
            " 0.48783525 0.44151186 0.53068577 0.57517824 0.46416047 0.61469606\n",
            " 0.50798232 0.44614661 0.66147994 0.5215009  0.559117   0.37279191\n",
            " 0.43442951 0.47854923 0.46760706 0.32159004 0.51706468 0.48892583\n",
            " 0.42943129 0.60095218 0.51267892 0.56640326 0.5312771  0.61822208\n",
            " 0.42051634 0.57874769 0.4908256  0.54825205 0.40139981 0.62689247\n",
            " 0.57701333 0.44637195 0.61414384 0.68824138 0.54083675 0.45120134\n",
            " 0.56151708 0.52081997 0.40849243 0.55442569 0.65841563 0.47509158\n",
            " 0.6066959  0.36434702 0.438752   0.51375521 0.43269015 0.57988351\n",
            " 0.53233632 0.51656329 0.54205142 0.28836026 0.43326507 0.49923757\n",
            " 0.57075748 0.51974372 0.60609966 0.49931871 0.55870052 0.46276353\n",
            " 0.47081187 0.52745839 0.44306531 0.71624936 0.49893368 0.44567697\n",
            " 0.58813618 0.71475802 0.52667652 0.48236897 0.56668813 0.50282293\n",
            " 0.5695327  0.46090506 0.52247847 0.6908031  0.42382099 0.43056591\n",
            " 0.60602576 0.51234749 0.51579475 0.40425499 0.59337141 0.50024278\n",
            " 0.59031907 0.41693701 0.44548019 0.42844446]\n",
            "\n"
          ]
        }
      ],
      "source": [
        "y_pred_G = np.matmul(X, Beta_G)\n",
        "y_pred_G = y_pred_G[:, 0]\n",
        "print(\"Gaussian method Y prediction:{}\\n\".format(y_pred_G.T))         #Prediction with Gaussian method gives same Y predictions"
      ]
    },
    {
      "cell_type": "code",
      "execution_count": null,
      "metadata": {
        "id": "6B0d_i8P3q8s",
        "outputId": "1c01bce9-ee3f-4954-a369-419f72df8f15"
      },
      "outputs": [
        {
          "data": {
            "image/png": "[encoded data removed]",
            "text/plain": [
              "<Figure size 432x288 with 1 Axes>"
            ]
          },
          "metadata": {
            "needs_background": "light"
          },
          "output_type": "display_data"
        }
      ],
      "source": [
        "#normal\n",
        "plt.scatter(Y, y_pred)                  #Basic - No need\n",
        "plt.title('Y test vs predicted Y')\n",
        "plt.xlabel('y_test')\n",
        "plt.ylabel('Y predicted')\n",
        "plt.show()"
      ]
    },
    {
      "cell_type": "code",
      "execution_count": null,
      "metadata": {
        "id": "dgzHY5Fe3q8t",
        "outputId": "f1b0778e-dc04-4536-99ed-39e52dff71b7"
      },
      "outputs": [
        {
          "data": {
            "image/png": "[encoded data removed]",
            "text/plain": [
              "<Figure size 576x360 with 1 Axes>"
            ]
          },
          "metadata": {
            "needs_background": "light"
          },
          "output_type": "display_data"
        }
      ],
      "source": [
        "fig, ax = plt.subplots(figsize=(8, 5))\n",
        "plt.scatter(range(len(Y)),Y)\n",
        "plt.scatter(range(len(Y)),y_pred, color=\"red\")\n",
        "plt.title('Y test vs predicted Y')\n",
        "plt.xlabel('y_test')\n",
        "plt.ylabel('Y predicted')\n",
        "plt.show()"
      ]
    },
    {
      "cell_type": "code",
      "execution_count": null,
      "metadata": {
        "id": "ROUH0IU23q8u"
      },
      "outputs": [],
      "source": [
        "#We have multiple parameters in this model and thats why this graph seems to get more information compared to simple linear regression which was basically a line to predict. Now model captures more details and fits better."
      ]
    },
    {
      "cell_type": "markdown",
      "source": [
        "### *Learn values of B0:10 with numpy.linalg lstsq*"
      ],
      "metadata": {
        "id": "wrrfZLey6W5d"
      }
    },
    {
      "cell_type": "code",
      "execution_count": null,
      "metadata": {
        "id": "G_eK7V1V3q8u",
        "outputId": "748bdfd7-8233-4390-8587-beb5e79d7b9c"
      },
      "outputs": [
        {
          "name": "stdout",
          "output_type": "stream",
          "text": [
            "(array([-6.26942401,  1.17540777,  2.93790132, -4.8197635 , -0.71386205,\n",
            "       -3.33983698, -0.52509774,  2.51446838,  2.43323334,  2.80542836,\n",
            "        0.92532109]), array([8.23181665]), 11, array([6.40243333e+01, 1.33513919e-01, 1.16887177e-01, 1.12195482e-01,\n",
            "       1.05545394e-01, 9.58440903e-02, 9.23414613e-02, 8.79592616e-02,\n",
            "       7.89812078e-02, 7.79217118e-02, 1.53307284e-02]))\n"
          ]
        }
      ],
      "source": [
        "Replace=np.linalg.lstsq(X,Y, rcond=1) # Use numpy.linalg lstsq to replace step 2 for learning Beta values\n",
        "print(Replace)"
      ]
    },
    {
      "cell_type": "markdown",
      "metadata": {
        "id": "_iM2Y3zr3q8v"
      },
      "source": [
        "## **Part B: Multiple Linear (Auto)Regression**"
      ]
    },
    {
      "cell_type": "code",
      "execution_count": null,
      "metadata": {
        "id": "J38ZrT4d3q8w",
        "outputId": "8ec652eb-20df-4d5e-af77-5fb554644af4"
      },
      "outputs": [
        {
          "data": {
            "text/html": [
              "<div>\n",
              "<style scoped>\n",
              "    .dataframe tbody tr th:only-of-type {\n",
              "        vertical-align: middle;\n",
              "    }\n",
              "\n",
              "    .dataframe tbody tr th {\n",
              "        vertical-align: top;\n",
              "    }\n",
              "\n",
              "    .dataframe thead th {\n",
              "        text-align: right;\n",
              "    }\n",
              "</style>\n",
              "<table border=\"1\" class=\"dataframe\">\n",
              "  <thead>\n",
              "    <tr style=\"text-align: right;\">\n",
              "      <th></th>\n",
              "      <th>Store</th>\n",
              "      <th>DayOfWeek</th>\n",
              "      <th>Date</th>\n",
              "      <th>Sales</th>\n",
              "      <th>Customers</th>\n",
              "      <th>Open</th>\n",
              "      <th>Promo</th>\n",
              "      <th>StateHoliday</th>\n",
              "      <th>SchoolHoliday</th>\n",
              "    </tr>\n",
              "  </thead>\n",
              "  <tbody>\n",
              "    <tr>\n",
              "      <th>0</th>\n",
              "      <td>1</td>\n",
              "      <td>5</td>\n",
              "      <td>2015-07-31</td>\n",
              "      <td>5263</td>\n",
              "      <td>555</td>\n",
              "      <td>1</td>\n",
              "      <td>1</td>\n",
              "      <td>0</td>\n",
              "      <td>1</td>\n",
              "    </tr>\n",
              "    <tr>\n",
              "      <th>1</th>\n",
              "      <td>2</td>\n",
              "      <td>5</td>\n",
              "      <td>2015-07-31</td>\n",
              "      <td>6064</td>\n",
              "      <td>625</td>\n",
              "      <td>1</td>\n",
              "      <td>1</td>\n",
              "      <td>0</td>\n",
              "      <td>1</td>\n",
              "    </tr>\n",
              "    <tr>\n",
              "      <th>2</th>\n",
              "      <td>3</td>\n",
              "      <td>5</td>\n",
              "      <td>2015-07-31</td>\n",
              "      <td>8314</td>\n",
              "      <td>821</td>\n",
              "      <td>1</td>\n",
              "      <td>1</td>\n",
              "      <td>0</td>\n",
              "      <td>1</td>\n",
              "    </tr>\n",
              "    <tr>\n",
              "      <th>3</th>\n",
              "      <td>4</td>\n",
              "      <td>5</td>\n",
              "      <td>2015-07-31</td>\n",
              "      <td>13995</td>\n",
              "      <td>1498</td>\n",
              "      <td>1</td>\n",
              "      <td>1</td>\n",
              "      <td>0</td>\n",
              "      <td>1</td>\n",
              "    </tr>\n",
              "    <tr>\n",
              "      <th>4</th>\n",
              "      <td>5</td>\n",
              "      <td>5</td>\n",
              "      <td>2015-07-31</td>\n",
              "      <td>4822</td>\n",
              "      <td>559</td>\n",
              "      <td>1</td>\n",
              "      <td>1</td>\n",
              "      <td>0</td>\n",
              "      <td>1</td>\n",
              "    </tr>\n",
              "  </tbody>\n",
              "</table>\n",
              "</div>"
            ],
            "text/plain": [
              "   Store  DayOfWeek        Date  Sales  Customers  Open  Promo StateHoliday  \\\n",
              "0      1          5  2015-07-31   5263        555     1      1            0   \n",
              "1      2          5  2015-07-31   6064        625     1      1            0   \n",
              "2      3          5  2015-07-31   8314        821     1      1            0   \n",
              "3      4          5  2015-07-31  13995       1498     1      1            0   \n",
              "4      5          5  2015-07-31   4822        559     1      1            0   \n",
              "\n",
              "   SchoolHoliday  \n",
              "0              1  \n",
              "1              1  \n",
              "2              1  \n",
              "3              1  \n",
              "4              1  "
            ]
          },
          "execution_count": 70,
          "metadata": {},
          "output_type": "execute_result"
        }
      ],
      "source": [
        "data = pd.read_csv('https://raw.githubusercontent.com/Can-Berk/Machine_Learning_Labs/main/Datasets/train_rossman.csv', engine='python', sep=\",\")\n",
        "data.head()"
      ]
    },
    {
      "cell_type": "markdown",
      "source": [
        "### *Initialize Xtrain, Ytrain, Xtest and Ytest. For the first 1000 stores place all but their last 42 Sales in Xtrain and place the last 42 into Ytrain. Accordingly test data.*"
      ],
      "metadata": {
        "id": "-8iEXLEO78vs"
      }
    },
    {
      "cell_type": "code",
      "execution_count": null,
      "metadata": {
        "id": "j44qMxoX3q8x"
      },
      "outputs": [],
      "source": [
        "a=data.sort_values(by=['Store',\"Date\"],ascending=[True, False])"
      ]
    },
    {
      "cell_type": "code",
      "execution_count": null,
      "metadata": {
        "id": "qRXwm3693q8x",
        "outputId": "6a981cc3-8e01-45dc-aaa9-45226639d4b0"
      },
      "outputs": [
        {
          "data": {
            "text/html": [
              "<div>\n",
              "<style scoped>\n",
              "    .dataframe tbody tr th:only-of-type {\n",
              "        vertical-align: middle;\n",
              "    }\n",
              "\n",
              "    .dataframe tbody tr th {\n",
              "        vertical-align: top;\n",
              "    }\n",
              "\n",
              "    .dataframe thead th {\n",
              "        text-align: right;\n",
              "    }\n",
              "</style>\n",
              "<table border=\"1\" class=\"dataframe\">\n",
              "  <thead>\n",
              "    <tr style=\"text-align: right;\">\n",
              "      <th>Date</th>\n",
              "      <th>2013-01-01</th>\n",
              "      <th>2013-01-02</th>\n",
              "      <th>2013-01-03</th>\n",
              "      <th>2013-01-04</th>\n",
              "      <th>2013-01-05</th>\n",
              "      <th>2013-01-06</th>\n",
              "      <th>2013-01-07</th>\n",
              "      <th>2013-01-08</th>\n",
              "      <th>2013-01-09</th>\n",
              "      <th>2013-01-10</th>\n",
              "      <th>...</th>\n",
              "      <th>2015-07-22</th>\n",
              "      <th>2015-07-23</th>\n",
              "      <th>2015-07-24</th>\n",
              "      <th>2015-07-25</th>\n",
              "      <th>2015-07-26</th>\n",
              "      <th>2015-07-27</th>\n",
              "      <th>2015-07-28</th>\n",
              "      <th>2015-07-29</th>\n",
              "      <th>2015-07-30</th>\n",
              "      <th>2015-07-31</th>\n",
              "    </tr>\n",
              "    <tr>\n",
              "      <th>Store</th>\n",
              "      <th></th>\n",
              "      <th></th>\n",
              "      <th></th>\n",
              "      <th></th>\n",
              "      <th></th>\n",
              "      <th></th>\n",
              "      <th></th>\n",
              "      <th></th>\n",
              "      <th></th>\n",
              "      <th></th>\n",
              "      <th></th>\n",
              "      <th></th>\n",
              "      <th></th>\n",
              "      <th></th>\n",
              "      <th></th>\n",
              "      <th></th>\n",
              "      <th></th>\n",
              "      <th></th>\n",
              "      <th></th>\n",
              "      <th></th>\n",
              "      <th></th>\n",
              "    </tr>\n",
              "  </thead>\n",
              "  <tbody>\n",
              "    <tr>\n",
              "      <th>1</th>\n",
              "      <td>0.0</td>\n",
              "      <td>5530.0</td>\n",
              "      <td>4327.0</td>\n",
              "      <td>4486.0</td>\n",
              "      <td>4997.0</td>\n",
              "      <td>0.0</td>\n",
              "      <td>7176.0</td>\n",
              "      <td>5580.0</td>\n",
              "      <td>5471.0</td>\n",
              "      <td>4892.0</td>\n",
              "      <td>...</td>\n",
              "      <td>3464.0</td>\n",
              "      <td>3769.0</td>\n",
              "      <td>3706.0</td>\n",
              "      <td>4364.0</td>\n",
              "      <td>0.0</td>\n",
              "      <td>6102.0</td>\n",
              "      <td>5011.0</td>\n",
              "      <td>4782.0</td>\n",
              "      <td>5020.0</td>\n",
              "      <td>5263.0</td>\n",
              "    </tr>\n",
              "    <tr>\n",
              "      <th>2</th>\n",
              "      <td>0.0</td>\n",
              "      <td>4422.0</td>\n",
              "      <td>4159.0</td>\n",
              "      <td>4484.0</td>\n",
              "      <td>2342.0</td>\n",
              "      <td>0.0</td>\n",
              "      <td>6775.0</td>\n",
              "      <td>6318.0</td>\n",
              "      <td>6763.0</td>\n",
              "      <td>5618.0</td>\n",
              "      <td>...</td>\n",
              "      <td>5093.0</td>\n",
              "      <td>4108.0</td>\n",
              "      <td>3854.0</td>\n",
              "      <td>2512.0</td>\n",
              "      <td>0.0</td>\n",
              "      <td>6627.0</td>\n",
              "      <td>5671.0</td>\n",
              "      <td>6402.0</td>\n",
              "      <td>5567.0</td>\n",
              "      <td>6064.0</td>\n",
              "    </tr>\n",
              "    <tr>\n",
              "      <th>3</th>\n",
              "      <td>0.0</td>\n",
              "      <td>6823.0</td>\n",
              "      <td>5902.0</td>\n",
              "      <td>6069.0</td>\n",
              "      <td>4523.0</td>\n",
              "      <td>0.0</td>\n",
              "      <td>12247.0</td>\n",
              "      <td>9800.0</td>\n",
              "      <td>8001.0</td>\n",
              "      <td>7772.0</td>\n",
              "      <td>...</td>\n",
              "      <td>5414.0</td>\n",
              "      <td>5702.0</td>\n",
              "      <td>5080.0</td>\n",
              "      <td>3878.0</td>\n",
              "      <td>0.0</td>\n",
              "      <td>8107.0</td>\n",
              "      <td>8864.0</td>\n",
              "      <td>7610.0</td>\n",
              "      <td>8977.0</td>\n",
              "      <td>8314.0</td>\n",
              "    </tr>\n",
              "    <tr>\n",
              "      <th>4</th>\n",
              "      <td>0.0</td>\n",
              "      <td>9941.0</td>\n",
              "      <td>8247.0</td>\n",
              "      <td>8290.0</td>\n",
              "      <td>10338.0</td>\n",
              "      <td>0.0</td>\n",
              "      <td>12112.0</td>\n",
              "      <td>10031.0</td>\n",
              "      <td>8857.0</td>\n",
              "      <td>9472.0</td>\n",
              "      <td>...</td>\n",
              "      <td>8503.0</td>\n",
              "      <td>7286.0</td>\n",
              "      <td>8322.0</td>\n",
              "      <td>9322.0</td>\n",
              "      <td>0.0</td>\n",
              "      <td>11812.0</td>\n",
              "      <td>10275.0</td>\n",
              "      <td>10514.0</td>\n",
              "      <td>10387.0</td>\n",
              "      <td>13995.0</td>\n",
              "    </tr>\n",
              "    <tr>\n",
              "      <th>5</th>\n",
              "      <td>0.0</td>\n",
              "      <td>4253.0</td>\n",
              "      <td>3465.0</td>\n",
              "      <td>4456.0</td>\n",
              "      <td>1590.0</td>\n",
              "      <td>0.0</td>\n",
              "      <td>6978.0</td>\n",
              "      <td>5718.0</td>\n",
              "      <td>5974.0</td>\n",
              "      <td>4999.0</td>\n",
              "      <td>...</td>\n",
              "      <td>3595.0</td>\n",
              "      <td>3713.0</td>\n",
              "      <td>3815.0</td>\n",
              "      <td>2030.0</td>\n",
              "      <td>0.0</td>\n",
              "      <td>7059.0</td>\n",
              "      <td>6083.0</td>\n",
              "      <td>5899.0</td>\n",
              "      <td>4943.0</td>\n",
              "      <td>4822.0</td>\n",
              "    </tr>\n",
              "    <tr>\n",
              "      <th>...</th>\n",
              "      <td>...</td>\n",
              "      <td>...</td>\n",
              "      <td>...</td>\n",
              "      <td>...</td>\n",
              "      <td>...</td>\n",
              "      <td>...</td>\n",
              "      <td>...</td>\n",
              "      <td>...</td>\n",
              "      <td>...</td>\n",
              "      <td>...</td>\n",
              "      <td>...</td>\n",
              "      <td>...</td>\n",
              "      <td>...</td>\n",
              "      <td>...</td>\n",
              "      <td>...</td>\n",
              "      <td>...</td>\n",
              "      <td>...</td>\n",
              "      <td>...</td>\n",
              "      <td>...</td>\n",
              "      <td>...</td>\n",
              "      <td>...</td>\n",
              "    </tr>\n",
              "    <tr>\n",
              "      <th>1111</th>\n",
              "      <td>0.0</td>\n",
              "      <td>5097.0</td>\n",
              "      <td>4579.0</td>\n",
              "      <td>4640.0</td>\n",
              "      <td>3325.0</td>\n",
              "      <td>0.0</td>\n",
              "      <td>9444.0</td>\n",
              "      <td>6472.0</td>\n",
              "      <td>5307.0</td>\n",
              "      <td>5887.0</td>\n",
              "      <td>...</td>\n",
              "      <td>4021.0</td>\n",
              "      <td>3587.0</td>\n",
              "      <td>3918.0</td>\n",
              "      <td>2177.0</td>\n",
              "      <td>0.0</td>\n",
              "      <td>7742.0</td>\n",
              "      <td>6793.0</td>\n",
              "      <td>4907.0</td>\n",
              "      <td>5263.0</td>\n",
              "      <td>5723.0</td>\n",
              "    </tr>\n",
              "    <tr>\n",
              "      <th>1112</th>\n",
              "      <td>0.0</td>\n",
              "      <td>10797.0</td>\n",
              "      <td>8716.0</td>\n",
              "      <td>9788.0</td>\n",
              "      <td>9513.0</td>\n",
              "      <td>0.0</td>\n",
              "      <td>25165.0</td>\n",
              "      <td>17058.0</td>\n",
              "      <td>14724.0</td>\n",
              "      <td>14366.0</td>\n",
              "      <td>...</td>\n",
              "      <td>6029.0</td>\n",
              "      <td>6730.0</td>\n",
              "      <td>6220.0</td>\n",
              "      <td>6216.0</td>\n",
              "      <td>0.0</td>\n",
              "      <td>14383.0</td>\n",
              "      <td>9583.0</td>\n",
              "      <td>9179.0</td>\n",
              "      <td>9652.0</td>\n",
              "      <td>9626.0</td>\n",
              "    </tr>\n",
              "    <tr>\n",
              "      <th>1113</th>\n",
              "      <td>0.0</td>\n",
              "      <td>6218.0</td>\n",
              "      <td>5563.0</td>\n",
              "      <td>5524.0</td>\n",
              "      <td>5194.0</td>\n",
              "      <td>0.0</td>\n",
              "      <td>8984.0</td>\n",
              "      <td>6866.0</td>\n",
              "      <td>6115.0</td>\n",
              "      <td>7508.0</td>\n",
              "      <td>...</td>\n",
              "      <td>4565.0</td>\n",
              "      <td>6410.0</td>\n",
              "      <td>6399.0</td>\n",
              "      <td>4784.0</td>\n",
              "      <td>0.0</td>\n",
              "      <td>7582.0</td>\n",
              "      <td>6468.0</td>\n",
              "      <td>6640.0</td>\n",
              "      <td>7491.0</td>\n",
              "      <td>7289.0</td>\n",
              "    </tr>\n",
              "    <tr>\n",
              "      <th>1114</th>\n",
              "      <td>0.0</td>\n",
              "      <td>20642.0</td>\n",
              "      <td>18463.0</td>\n",
              "      <td>18371.0</td>\n",
              "      <td>18856.0</td>\n",
              "      <td>0.0</td>\n",
              "      <td>21237.0</td>\n",
              "      <td>18816.0</td>\n",
              "      <td>17073.0</td>\n",
              "      <td>18075.0</td>\n",
              "      <td>...</td>\n",
              "      <td>20424.0</td>\n",
              "      <td>20564.0</td>\n",
              "      <td>19627.0</td>\n",
              "      <td>21312.0</td>\n",
              "      <td>0.0</td>\n",
              "      <td>26720.0</td>\n",
              "      <td>25518.0</td>\n",
              "      <td>25840.0</td>\n",
              "      <td>24395.0</td>\n",
              "      <td>27508.0</td>\n",
              "    </tr>\n",
              "    <tr>\n",
              "      <th>1115</th>\n",
              "      <td>0.0</td>\n",
              "      <td>3697.0</td>\n",
              "      <td>4297.0</td>\n",
              "      <td>4540.0</td>\n",
              "      <td>4771.0</td>\n",
              "      <td>0.0</td>\n",
              "      <td>6905.0</td>\n",
              "      <td>5243.0</td>\n",
              "      <td>4649.0</td>\n",
              "      <td>5007.0</td>\n",
              "      <td>...</td>\n",
              "      <td>5342.0</td>\n",
              "      <td>6150.0</td>\n",
              "      <td>5816.0</td>\n",
              "      <td>6897.0</td>\n",
              "      <td>0.0</td>\n",
              "      <td>10712.0</td>\n",
              "      <td>8093.0</td>\n",
              "      <td>7661.0</td>\n",
              "      <td>8405.0</td>\n",
              "      <td>8680.0</td>\n",
              "    </tr>\n",
              "  </tbody>\n",
              "</table>\n",
              "<p>1115 rows × 942 columns</p>\n",
              "</div>"
            ],
            "text/plain": [
              "Date   2013-01-01  2013-01-02  2013-01-03  2013-01-04  2013-01-05  2013-01-06  \\\n",
              "Store                                                                           \n",
              "1             0.0      5530.0      4327.0      4486.0      4997.0         0.0   \n",
              "2             0.0      4422.0      4159.0      4484.0      2342.0         0.0   \n",
              "3             0.0      6823.0      5902.0      6069.0      4523.0         0.0   \n",
              "4             0.0      9941.0      8247.0      8290.0     10338.0         0.0   \n",
              "5             0.0      4253.0      3465.0      4456.0      1590.0         0.0   \n",
              "...           ...         ...         ...         ...         ...         ...   \n",
              "1111          0.0      5097.0      4579.0      4640.0      3325.0         0.0   \n",
              "1112          0.0     10797.0      8716.0      9788.0      9513.0         0.0   \n",
              "1113          0.0      6218.0      5563.0      5524.0      5194.0         0.0   \n",
              "1114          0.0     20642.0     18463.0     18371.0     18856.0         0.0   \n",
              "1115          0.0      3697.0      4297.0      4540.0      4771.0         0.0   \n",
              "\n",
              "Date   2013-01-07  2013-01-08  2013-01-09  2013-01-10  ...  2015-07-22  \\\n",
              "Store                                                  ...               \n",
              "1          7176.0      5580.0      5471.0      4892.0  ...      3464.0   \n",
              "2          6775.0      6318.0      6763.0      5618.0  ...      5093.0   \n",
              "3         12247.0      9800.0      8001.0      7772.0  ...      5414.0   \n",
              "4         12112.0     10031.0      8857.0      9472.0  ...      8503.0   \n",
              "5          6978.0      5718.0      5974.0      4999.0  ...      3595.0   \n",
              "...           ...         ...         ...         ...  ...         ...   \n",
              "1111       9444.0      6472.0      5307.0      5887.0  ...      4021.0   \n",
              "1112      25165.0     17058.0     14724.0     14366.0  ...      6029.0   \n",
              "1113       8984.0      6866.0      6115.0      7508.0  ...      4565.0   \n",
              "1114      21237.0     18816.0     17073.0     18075.0  ...     20424.0   \n",
              "1115       6905.0      5243.0      4649.0      5007.0  ...      5342.0   \n",
              "\n",
              "Date   2015-07-23  2015-07-24  2015-07-25  2015-07-26  2015-07-27  2015-07-28  \\\n",
              "Store                                                                           \n",
              "1          3769.0      3706.0      4364.0         0.0      6102.0      5011.0   \n",
              "2          4108.0      3854.0      2512.0         0.0      6627.0      5671.0   \n",
              "3          5702.0      5080.0      3878.0         0.0      8107.0      8864.0   \n",
              "4          7286.0      8322.0      9322.0         0.0     11812.0     10275.0   \n",
              "5          3713.0      3815.0      2030.0         0.0      7059.0      6083.0   \n",
              "...           ...         ...         ...         ...         ...         ...   \n",
              "1111       3587.0      3918.0      2177.0         0.0      7742.0      6793.0   \n",
              "1112       6730.0      6220.0      6216.0         0.0     14383.0      9583.0   \n",
              "1113       6410.0      6399.0      4784.0         0.0      7582.0      6468.0   \n",
              "1114      20564.0     19627.0     21312.0         0.0     26720.0     25518.0   \n",
              "1115       6150.0      5816.0      6897.0         0.0     10712.0      8093.0   \n",
              "\n",
              "Date   2015-07-29  2015-07-30  2015-07-31  \n",
              "Store                                      \n",
              "1          4782.0      5020.0      5263.0  \n",
              "2          6402.0      5567.0      6064.0  \n",
              "3          7610.0      8977.0      8314.0  \n",
              "4         10514.0     10387.0     13995.0  \n",
              "5          5899.0      4943.0      4822.0  \n",
              "...           ...         ...         ...  \n",
              "1111       4907.0      5263.0      5723.0  \n",
              "1112       9179.0      9652.0      9626.0  \n",
              "1113       6640.0      7491.0      7289.0  \n",
              "1114      25840.0     24395.0     27508.0  \n",
              "1115       7661.0      8405.0      8680.0  \n",
              "\n",
              "[1115 rows x 942 columns]"
            ]
          },
          "execution_count": 72,
          "metadata": {},
          "output_type": "execute_result"
        }
      ],
      "source": [
        "a=a.pivot(index='Store', columns='Date', values='Sales')       #Pivoting to get #StoreId and #Days_no matrix\n",
        "a"
      ]
    },
    {
      "cell_type": "code",
      "execution_count": null,
      "metadata": {
        "id": "_B4aZyZT3q8y"
      },
      "outputs": [],
      "source": [
        "#a.loc[~(a==0).all(axis=1)]              #To remove rows with all 0's. Removing stores which has no sale during 942 days. Apperently no needed."
      ]
    },
    {
      "cell_type": "code",
      "execution_count": null,
      "metadata": {
        "id": "mlLhqzEC3q8z",
        "outputId": "8a1dd22a-b8b1-442d-97a1-465056914dd2"
      },
      "outputs": [
        {
          "data": {
            "text/plain": [
              "Store\n",
              "1001     3240.0\n",
              "1002     6821.0\n",
              "1003     4575.0\n",
              "1004     5640.0\n",
              "1005     5470.0\n",
              "         ...   \n",
              "1111     2738.0\n",
              "1112     8528.0\n",
              "1113     5431.0\n",
              "1114    22183.0\n",
              "1115     7824.0\n",
              "Name: 2015-06-20, Length: 115, dtype: float64"
            ]
          },
          "execution_count": 74,
          "metadata": {},
          "output_type": "execute_result"
        }
      ],
      "source": [
        "#a[:1000,900]\n",
        "#a.iloc[0:1000,:900]\n",
        "#a.iloc[0:1000,-42:]\n",
        "#a.iloc[-115:,:900]\n",
        "a.iloc[-115:,-42]"
      ]
    },
    {
      "cell_type": "code",
      "execution_count": null,
      "metadata": {
        "id": "l7DlY5sa3q80"
      },
      "outputs": [],
      "source": [
        "Xtrain=a.iloc[0:1000,:900]     #First 1000 stores with their first 900 day sales\n",
        "Ytrain=a.iloc[0:1000,-42:]     #First 1000 stores with their remaining 42 day sales\n",
        "Xtest=a.iloc[-115:,:900]       #Remaining 115 stores with their 900 day sales\n",
        "Ytest=a.iloc[-115:,-42:]       #Remaining 115 stores with their last 42 day sales"
      ]
    },
    {
      "cell_type": "code",
      "execution_count": null,
      "metadata": {
        "id": "vGFLtm2p3q81"
      },
      "outputs": [],
      "source": [
        "x0=np.ones((1000,1))                        \n",
        "x_0=np.ones((115,1))\n",
        "Xtrain=np.append(x0,Xtrain,axis=1)\n",
        "Xtest=np.append(x_0,Xtest,axis=1)"
      ]
    },
    {
      "cell_type": "code",
      "execution_count": null,
      "metadata": {
        "id": "h2JOq13D3q81",
        "outputId": "1a49f081-bac9-4353-9d3c-564a46892b9a"
      },
      "outputs": [
        {
          "name": "stdout",
          "output_type": "stream",
          "text": [
            "(1000, 901) (1000, 42)\n",
            "(115, 901) (115, 42)\n"
          ]
        }
      ],
      "source": [
        "print(Xtrain.shape ,Ytrain.shape)\n",
        "print(Xtest.shape,Ytest.shape)"
      ]
    },
    {
      "cell_type": "code",
      "execution_count": null,
      "metadata": {
        "id": "y8q67bc83q82"
      },
      "outputs": [],
      "source": [
        "Xtrain[np.isnan(Xtrain)] = 0                #To get rid of nan values. Replaced by 0s.\n",
        "Xtest[np.isnan(Xtest)] = 0"
      ]
    },
    {
      "cell_type": "code",
      "execution_count": null,
      "metadata": {
        "scrolled": true,
        "id": "_L641xXq3q83"
      },
      "outputs": [],
      "source": [
        "#np.linalg.lstsq(Xtrain,Ytrain, rcond=1)          #Checking"
      ]
    },
    {
      "cell_type": "markdown",
      "source": [
        "### *Build multiple linear regression models for column vectors of Ytrain*"
      ],
      "metadata": {
        "id": "MjbBzUQR8Rl-"
      }
    },
    {
      "cell_type": "code",
      "execution_count": null,
      "metadata": {
        "id": "hzxyD93y3q84"
      },
      "outputs": [],
      "source": [
        "def learn_linreg(Xtrain, Ytrain):              #To solve linear equations\n",
        "    X = Xtrain\n",
        "    Y = Ytrain\n",
        "    A = np.matmul(X.T, X)\n",
        "    B = np.matmul(X.T, Y)\n",
        "    Beta = np.linalg.solve(A, B)\n",
        "    return Beta, A, B"
      ]
    },
    {
      "cell_type": "code",
      "execution_count": null,
      "metadata": {
        "id": "8Oazvxvd3q85",
        "outputId": "4b459262-9df6-4cf2-fcb1-eded6143e4fe"
      },
      "outputs": [
        {
          "name": "stdout",
          "output_type": "stream",
          "text": [
            "SLE: [[-1.56562281e+02 -3.34914994e-09 -4.87462060e+02 ...  1.94127394e+02\n",
            "   1.53919012e+02  3.31121174e+02]\n",
            " [ 3.08004156e+01 -4.22068051e+01 -2.45249857e+01 ...  5.38849242e+01\n",
            "   4.94049522e+01  4.18980600e+01]\n",
            " [-7.05137095e-02 -7.90615339e-12  5.31182199e-02 ... -6.54029318e-02\n",
            "  -8.19069486e-02 -1.14832728e-01]\n",
            " ...\n",
            " [ 4.60704417e-02  1.05695863e-11  1.51375373e-01 ...  5.37204752e-02\n",
            "   3.11656623e-02 -9.30567606e-02]\n",
            " [-1.18492601e-03  2.12000676e-12 -1.55291135e-03 ... -6.57811033e-02\n",
            "  -4.03682405e-02 -6.43425434e-03]\n",
            " [ 1.52937688e-01 -2.08139622e-12  1.44172959e-01 ... -4.65380332e-02\n",
            "   1.52259699e-02  2.50391431e-03]]\n",
            "\n"
          ]
        }
      ],
      "source": [
        "Beta_learn,A,B = learn_linreg(Xtrain, Ytrain)\n",
        "print(\"SLE: {}\\n\".format(Beta_learn))"
      ]
    },
    {
      "cell_type": "markdown",
      "source": [
        "### *Verify that you have learned B0:900 and predictions for each 42 day ahead*"
      ],
      "metadata": {
        "id": "6l00bD6W8o5i"
      }
    },
    {
      "cell_type": "code",
      "execution_count": null,
      "metadata": {
        "id": "peuzt9gx3q85",
        "outputId": "8333de59-b4f2-4f5c-8b0d-3327225830a6"
      },
      "outputs": [
        {
          "name": "stdout",
          "output_type": "stream",
          "text": [
            "Learned Beta Dimensions= (901, 42)\n"
          ]
        }
      ],
      "source": [
        "print(\"Learned Beta Dimensions=\",Beta_learn.shape)"
      ]
    },
    {
      "cell_type": "code",
      "execution_count": null,
      "metadata": {
        "id": "LvLmHyiB3q86",
        "outputId": "a518a707-6098-47a5-eaf1-8afd5d1f2fa6"
      },
      "outputs": [
        {
          "name": "stdout",
          "output_type": "stream",
          "text": [
            "Predicted y with SLE:\n",
            " [[ 4.46412310e+03 -3.16163220e-08  5.92771627e+03 ...  6.78037204e+03\n",
            "   5.94819817e+03  5.15781567e+03]\n",
            " [ 6.04345512e+03  1.17319011e-07  4.45863135e+03 ...  6.96181181e+03\n",
            "   6.83209081e+03  9.66644325e+03]\n",
            " [ 3.96512565e+03  3.73892513e-08  3.98662417e+03 ...  7.65837222e+03\n",
            "   7.12375352e+03  7.72783840e+03]\n",
            " ...\n",
            " [ 4.37065735e+03 -1.40553211e-07  5.32682976e+03 ...  8.78943127e+03\n",
            "   7.64300309e+03  7.94611569e+03]\n",
            " [ 2.23922423e+04  4.13561927e-07  1.94820325e+04 ...  2.48780436e+04\n",
            "   2.67152032e+04  3.25386974e+04]\n",
            " [ 7.27121199e+03  1.27329159e-08  6.32473539e+03 ...  8.18630801e+03\n",
            "   8.03664154e+03  7.47230256e+03]]\n",
            "\n"
          ]
        }
      ],
      "source": [
        "y_pred = np.matmul(Xtest, Beta_learn)              #Predictions for remaining stores.\n",
        "print(\"Predicted y with SLE:\\n {}\\n\".format(y_pred))"
      ]
    },
    {
      "cell_type": "code",
      "execution_count": null,
      "metadata": {
        "id": "ranzg34b3q87",
        "outputId": "3f9af618-aeef-4ea7-a529-6b5d98bb103f"
      },
      "outputs": [
        {
          "name": "stdout",
          "output_type": "stream",
          "text": [
            "Predicted Y dimensions= (115, 42)\n"
          ]
        }
      ],
      "source": [
        "print(\"Predicted Y dimensions=\",y_pred.shape)"
      ]
    },
    {
      "cell_type": "code",
      "execution_count": null,
      "metadata": {
        "id": "Tuq4psKn3q88"
      },
      "outputs": [],
      "source": [
        "y_pred[np.isnan(y_pred)] = 0         #To get rid of nan values. Replaced by 0s."
      ]
    },
    {
      "cell_type": "code",
      "execution_count": null,
      "metadata": {
        "id": "L-Lt8jQH3q8-",
        "outputId": "523b042a-30b5-45ab-d341-2510ea4875bd"
      },
      "outputs": [
        {
          "data": {
            "text/plain": [
              "array([[ 8.81431561e+03, -2.31650668e-09,  8.13722451e+03, ...,\n",
              "         6.44901151e+03,  7.53859371e+03,  9.92950219e+03],\n",
              "       [ 5.60787405e+03,  9.90754238e-08,  3.43928483e+03, ...,\n",
              "         5.41888082e+03,  6.17199308e+03,  8.12327811e+03],\n",
              "       [ 2.46580260e+03, -2.04793461e-08,  3.65278458e+03, ...,\n",
              "         3.44639329e+03,  3.59923713e+03,  4.23122902e+03],\n",
              "       ...,\n",
              "       [ 4.37065735e+03, -1.40553211e-07,  5.32682976e+03, ...,\n",
              "         8.78943127e+03,  7.64300309e+03,  7.94611569e+03],\n",
              "       [ 2.23922423e+04,  4.13561927e-07,  1.94820325e+04, ...,\n",
              "         2.48780436e+04,  2.67152032e+04,  3.25386974e+04],\n",
              "       [ 7.27121199e+03,  1.27329159e-08,  6.32473539e+03, ...,\n",
              "         8.18630801e+03,  8.03664154e+03,  7.47230256e+03]])"
            ]
          },
          "execution_count": 86,
          "metadata": {},
          "output_type": "execute_result"
        }
      ],
      "source": [
        "y_pred[10:]"
      ]
    },
    {
      "cell_type": "markdown",
      "source": [
        "### *Print one value for RMSE and MAE each by aggregating the errors for all 42 days*"
      ],
      "metadata": {
        "id": "p4v0H7MG82BZ"
      }
    },
    {
      "cell_type": "code",
      "execution_count": null,
      "metadata": {
        "id": "rjCdTc2y3q8_",
        "outputId": "519640bd-196c-4448-f3de-9f99f639c027"
      },
      "outputs": [
        {
          "name": "stdout",
          "output_type": "stream",
          "text": [
            "MAE= 6938.620741741898\n",
            "RMSE= 42546.337245752824\n"
          ]
        }
      ],
      "source": [
        "res=Ytest-y_pred\n",
        "#print(\"Residuals:\" + str(np.mean(res)))\n",
        "\n",
        "def mae(Ytest,y_pred):\n",
        "    return np.mean(abs(Ytest-y_pred), axis=0)\n",
        "\n",
        "def RMSE(x, y):\n",
        "    return np.sqrt(np.mean((x-y)**2))\n",
        "\n",
        "print(\"MAE=\",mae(Ytest,y_pred).mean())\n",
        "print(\"RMSE=\",RMSE(Ytest,y_pred).mean())\n"
      ]
    },
    {
      "cell_type": "code",
      "execution_count": null,
      "metadata": {
        "id": "9oF2Tg1X3q9A",
        "outputId": "ef86ab67-30f1-477a-fe9e-02158811b1d0"
      },
      "outputs": [
        {
          "name": "stdout",
          "output_type": "stream",
          "text": [
            "MAE= 6938.620741741899\n"
          ]
        }
      ],
      "source": [
        "from sklearn import metrics as mt\n",
        "from math import sqrt\n",
        "print(\"MAE=\",mt.mean_absolute_error(Ytest,y_pred))                #To confirm\n",
        "#print(\"RMSE=\",sqrt(mt.mean_squared_error(Ytest,y_pred)))"
      ]
    },
    {
      "cell_type": "code",
      "execution_count": null,
      "metadata": {
        "id": "fhWRwxBl3q9B",
        "outputId": "dbb25001-9a84-48f9-e169-e4b9690035e2"
      },
      "outputs": [
        {
          "name": "stdout",
          "output_type": "stream",
          "text": [
            "Error for 42 days=:Date\n",
            "2015-06-20     3927.374523\n",
            "2015-06-21    -6672.417645\n",
            "2015-06-22    -6021.879352\n",
            "2015-06-23     2970.312490\n",
            "2015-06-24       95.066299\n",
            "2015-06-25     6117.306999\n",
            "2015-06-26     3059.178388\n",
            "2015-06-27    -4668.497745\n",
            "2015-06-28   -10176.925613\n",
            "2015-06-29    28326.397956\n",
            "2015-06-30    -7228.106777\n",
            "2015-07-01     1280.971852\n",
            "2015-07-02    -5608.491057\n",
            "2015-07-03    -3086.688540\n",
            "2015-07-04    -1616.982520\n",
            "2015-07-05     5159.149569\n",
            "2015-07-06    -9319.442572\n",
            "2015-07-07    -4060.057887\n",
            "2015-07-08    11692.667609\n",
            "2015-07-09     4172.346952\n",
            "2015-07-10      135.511080\n",
            "2015-07-11    -3947.035418\n",
            "2015-07-12     2300.342160\n",
            "2015-07-13    -1821.073153\n",
            "2015-07-14    -5623.017299\n",
            "2015-07-15    -6471.757935\n",
            "2015-07-16   -14307.507577\n",
            "2015-07-17    -4307.492194\n",
            "2015-07-18     -672.622612\n",
            "2015-07-19   -15706.049445\n",
            "2015-07-20     3137.357390\n",
            "2015-07-21     -184.378828\n",
            "2015-07-22     4842.765778\n",
            "2015-07-23    -2908.196570\n",
            "2015-07-24     1919.043879\n",
            "2015-07-25     3514.030880\n",
            "2015-07-26     7375.369400\n",
            "2015-07-27     4970.707107\n",
            "2015-07-28    10669.372673\n",
            "2015-07-29     7689.435846\n",
            "2015-07-30     7560.741723\n",
            "2015-07-31     8109.200154\n",
            "dtype: float64\n"
          ]
        }
      ],
      "source": [
        "print(\"Error for 42 days=:\" + str(np.mean(res)))"
      ]
    },
    {
      "cell_type": "code",
      "execution_count": null,
      "metadata": {
        "id": "Bypiluxv3q9C",
        "outputId": "ee60ce05-83dc-4818-add8-52c89be2e08f"
      },
      "outputs": [
        {
          "name": "stdout",
          "output_type": "stream",
          "text": [
            "Mean of sales horizon= 2213.331266540643\n"
          ]
        }
      ],
      "source": [
        "print(\"Mean of sales horizon=\",np.sum(Ytest.mean())/len(Ytest))"
      ]
    },
    {
      "cell_type": "code",
      "execution_count": null,
      "metadata": {
        "id": "H_hvuCAI3q9C",
        "outputId": "0e5e2908-24cc-465c-8001-d17167a90879"
      },
      "outputs": [
        {
          "name": "stdout",
          "output_type": "stream",
          "text": [
            "Reason:\n",
            "Compared to Simple Linear Regression, now we have more parameters and it increases the complexity of model which allows to capture more information on the data. However, Error is very high so there should be better approach than MLR. There are some dummy variables affecting sales like Promo and they could be identified better with logistic regression 0-1. \n"
          ]
        }
      ],
      "source": [
        "print(\"Reason:\\nCompared to Simple Linear Regression, now we have more parameters and it increases the complexity of model which allows to capture more information on the data. However, Error is very high so there should be better approach than MLR. There are some dummy variables affecting sales like Promo and they could be identified better with logistic regression 0-1. \")"
      ]
    },
    {
      "cell_type": "code",
      "execution_count": null,
      "metadata": {
        "id": "hBNVdfgv3q9D"
      },
      "outputs": [],
      "source": [
        "#References\n",
        "#https://stackoverflow.com/questions/15741759/find-maximum-value-of-a-column-and-return-the-corresponding-row-values-using-pan\n",
        "#https://stackoverflow.com/questions/63214240/pandas-groupby-when-column-is-a-certain-value\n",
        "#df['e'] = e\n",
        "#https://stackoverflow.com/questions/27018622/pandas-groupby-sort-descending-order\n",
        "#https://stackoverflow.com/questions/44908383/how-can-i-group-by-month-from-a-date-field-using-python-pandas\n",
        "#https://stackoverflow.com/questions/21068971/how-to-fill-in-rows-with-repeating-data-in-pandas\n",
        "#https://stackoverflow.com/questions/48956789/converting-nan-in-dataframe-to-zero\n",
        "#https://pandas.pydata.org/pandas-docs/stable/user_guide/reshaping.html"
      ]
    }
  ],
  "metadata": {
    "kernelspec": {
      "display_name": "Python 3",
      "language": "python",
      "name": "python3"
    },
    "language_info": {
      "codemirror_mode": {
        "name": "ipython",
        "version": 3
      },
      "file_extension": ".py",
      "mimetype": "text/x-python",
      "name": "python",
      "nbconvert_exporter": "python",
      "pygments_lexer": "ipython3",
      "version": "3.6.5"
    },
    "colab": {
      "name": "ExploratoryAnalysis_MultipleLinearRegression.ipynb",
      "provenance": [],
      "collapsed_sections": []
    }
  },
  "nbformat": 4,
  "nbformat_minor": 0
}