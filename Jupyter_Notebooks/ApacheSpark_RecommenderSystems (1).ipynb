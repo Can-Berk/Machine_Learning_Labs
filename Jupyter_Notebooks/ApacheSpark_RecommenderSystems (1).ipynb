{
  "cells": [
    {
      "cell_type": "markdown",
      "source": [
        "# **Exercise 1: Apache Spark Basics**"
      ],
      "metadata": {
        "id": "t3Sp2EkvqPc7"
      }
    },
    {
      "cell_type": "code",
      "execution_count": null,
      "metadata": {
        "id": "0wDX2YZpqLdN"
      },
      "outputs": [],
      "source": [
        "import pandas as pd\n",
        "import numpy as np\n",
        "from pyspark import SparkContext, SQLContext, SparkConf\n",
        "import pyspark.sql.functions as func\n",
        "from functools import reduce\n",
        "from pyspark.sql.functions import mean, stddev,col,collect_set\n",
        "from pyspark.sql.functions import to_date, date_format,udf\n",
        "import pyspark.sql.types as sparktypes\n",
        "from pyspark.sql.types import DateType\n",
        "from datetime import datetime , date\n",
        "from matplotlib import pyplot as plt\n",
        "%matplotlib inline\n",
        "from pyspark.sql.types import IntegerType\n",
        "from pyspark.sql.types import FloatType\n",
        "from pyspark.sql.functions import col, collect_list"
      ]
    },
    {
      "cell_type": "code",
      "execution_count": null,
      "metadata": {
        "id": "8bYUErpxqLdP"
      },
      "outputs": [],
      "source": [
        "conf = SparkConf().setAppName(\"appdda\")\n",
        "sc= SparkContext(conf=conf)"
      ]
    },
    {
      "cell_type": "markdown",
      "source": [
        "#Part A: Basic Operations on Resilient Distributed Dataset (RDD)\n",
        "\n",
        "1.   Create two RDD objects of a, b\n",
        "2.   Perform rightOuterJoin and fullOuterJoin operations between a and b\n",
        "3.   How many times \"s\" character appears?\n",
        "  *   Using map and reduce funtion\n",
        "  *   Using aggregate function"
      ],
      "metadata": {
        "id": "DF2ZRc_jqLdQ"
      }
    },
    {
      "cell_type": "markdown",
      "source": [
        "## *Create two RDD objects of a, b*"
      ],
      "metadata": {
        "id": "7W44qwqMrP5r"
      }
    },
    {
      "cell_type": "code",
      "execution_count": null,
      "metadata": {
        "id": "oY387LkWqLdR"
      },
      "outputs": [],
      "source": [
        "a = [\"spark\", \"rdd\", \"python\", \"context\", \"create\", \"class\"]\n",
        "b = [\"operation\", \"apache\", \"scala\", \"lambda\",\"parallel\",\"partition\"]"
      ]
    },
    {
      "cell_type": "code",
      "execution_count": null,
      "metadata": {
        "id": "Ly4dcwpOqLdT"
      },
      "outputs": [],
      "source": [
        "a = sc.parallelize(a)\n",
        "b = sc.parallelize(b)"
      ]
    },
    {
      "cell_type": "code",
      "execution_count": null,
      "metadata": {
        "id": "OvfSytyeqLdU",
        "outputId": "118d7fd2-6434-4b2f-f1e0-c24341c6420d"
      },
      "outputs": [
        {
          "name": "stdout",
          "output_type": "stream",
          "text": [
            "a: ['spark', 'rdd', 'python', 'context', 'create', 'class']\n",
            "b: ['operation', 'apache', 'scala', 'lambda', 'parallel', 'partition']\n"
          ]
        }
      ],
      "source": [
        "print(\"a:\", a.collect())\n",
        "print(\"b:\", b.collect())"
      ]
    },
    {
      "cell_type": "markdown",
      "source": [
        "## *Perform rightOuterJoin and fullOuterJoin operations between a and b*"
      ],
      "metadata": {
        "id": "OoPPjwVvrUEi"
      }
    },
    {
      "cell_type": "code",
      "execution_count": null,
      "metadata": {
        "id": "OShuNf6bqLdX",
        "outputId": "b0e0a37b-cc04-4fdb-cc60-67e61d44eac6"
      },
      "outputs": [
        {
          "name": "stdout",
          "output_type": "stream",
          "text": [
            "[('s', ('p', 'c')), ('o', (None, 'p')), ('l', (None, 'a')), ('a', (None, 'p')), ('p', ('y', 'a')), ('p', ('y', 'a'))]\n"
          ]
        }
      ],
      "source": [
        "r1 = a.rightOuterJoin(b).collect()       #Right outer join\n",
        "print(r1)"
      ]
    },
    {
      "cell_type": "code",
      "execution_count": null,
      "metadata": {
        "id": "lMKXMx0aqLdZ",
        "outputId": "62951a15-b2e0-41a1-de0c-1c965ab43e09"
      },
      "outputs": [
        {
          "name": "stdout",
          "output_type": "stream",
          "text": [
            "[('s', ('p', 'c')), ('c', ('o', None)), ('c', ('r', None)), ('c', ('l', None)), ('o', (None, 'p')), ('r', ('d', None)), ('l', (None, 'a')), ('a', (None, 'p')), ('p', ('y', 'a')), ('p', ('y', 'a'))]\n"
          ]
        }
      ],
      "source": [
        "f1 = a.fullOuterJoin(b).collect()        #Full outer join\n",
        "print(f1)"
      ]
    },
    {
      "cell_type": "markdown",
      "source": [
        "## *How many times \"s\" character appears? Using map and reduce functions*"
      ],
      "metadata": {
        "id": "h-CqlLQ1qLdb"
      }
    },
    {
      "cell_type": "code",
      "execution_count": null,
      "metadata": {
        "id": "suteGKRnqLdc",
        "outputId": "371ca10e-b351-4fa5-a64f-70479f7c0a76"
      },
      "outputs": [
        {
          "name": "stdout",
          "output_type": "stream",
          "text": [
            "s frequency: [('s', 4)]\n"
          ]
        }
      ],
      "source": [
        "c = a.union(b).flatMap(lambda x: x).filter(lambda x: x == \"s\").map(lambda x: (x,1)).reduceByKey(lambda x,y: x+y).collect()\n",
        "print(\"s frequency:\", c)"
      ]
    },
    {
      "cell_type": "markdown",
      "source": [
        "## *How many times \"s\" character appears? Using aggregate function*"
      ],
      "metadata": {
        "id": "0mfsZFYwqLdd"
      }
    },
    {
      "cell_type": "code",
      "execution_count": null,
      "metadata": {
        "id": "pib4wzCDqLde",
        "outputId": "692b0bcf-8154-42b1-c653-92e69f75513a"
      },
      "outputs": [
        {
          "name": "stdout",
          "output_type": "stream",
          "text": [
            "s frequency= 4\n"
          ]
        }
      ],
      "source": [
        "d = a.union(b).flatMap(lambda x: x).filter(lambda x: x == \"s\").aggregate(0,(lambda x, value: x + 1),(lambda x, y: x + y))\n",
        "print(\"s frequency=\", d)"
      ]
    },
    {
      "cell_type": "markdown",
      "source": [
        "#Part B: Basic Operations on DataFrames\n",
        "Dataset students.json\n",
        "\n",
        "\n",
        "1.   Replace the null values in column points by the mean of all points\n",
        "2.   Replace the null values in column dob and column last name by \"unknown\" and \"--\" respectively\n",
        "3.   Convert all the dates into DD-MM-YYYY format\n",
        "4.   Create new age column and calculate age of students\n",
        "5.   Update point of student to maximum (20) points, if point of student is larger than 1 standard deviation of all points\n",
        "6.   Create histogram updated points of students"
      ],
      "metadata": {
        "id": "foxf7WwJqLdf"
      }
    },
    {
      "cell_type": "code",
      "execution_count": null,
      "metadata": {
        "id": "lUl_ddhlqLdg"
      },
      "outputs": [],
      "source": [
        "SQLContext = SQLContext(sc)"
      ]
    },
    {
      "cell_type": "code",
      "execution_count": null,
      "metadata": {
        "id": "Y8VyNAZNqLdg",
        "outputId": "c946e651-5fdc-4045-8d81-81a428dd772d"
      },
      "outputs": [
        {
          "name": "stdout",
          "output_type": "stream",
          "text": [
            "+------------------+------------------+----------+---------+------+----+\n",
            "|            course|               dob|first_name|last_name|points|s_id|\n",
            "+------------------+------------------+----------+---------+------+----+\n",
            "|Humanities and Art|  October 14, 1983|      Alan|      Joe|    10|   1|\n",
            "|  Computer Science|September 26, 1980|    Martin|  Genberg|    17|   2|\n",
            "|    Graphic Design|     June 12, 1982|     Athur|   Watson|    16|   3|\n",
            "|    Graphic Design|     April 5, 1987|  Anabelle|  Sanberg|    12|   4|\n",
            "|        Psychology|  November 1, 1978|      Kira| Schommer|    11|   5|\n",
            "|          Business|  17 February 1981| Christian|   Kiriam|    10|   6|\n",
            "|  Machine Learning|    1 January 1984|   Barbara|  Ballard|    14|   7|\n",
            "|     Deep Learning|  January 13, 1978|      John|     null|    10|   8|\n",
            "|  Machine Learning|  26 December 1989|    Marcus|   Carson|    15|   9|\n",
            "|           Physics|  30 December 1987|     Marta|   Brooks|    11|  10|\n",
            "|    Data Analytics|     June 12, 1975|     Holly| Schwartz|    12|  11|\n",
            "|  Computer Science|      July 2, 1985|     April|    Black|  null|  12|\n",
            "|  Computer Science|     July 22, 1980|     Irene|  Bradley|    13|  13|\n",
            "|        Psychology|   7 February 1986|      Mark|    Weber|    12|  14|\n",
            "|       Informatics|      May 18, 1987|     Rosie|   Norman|     9|  15|\n",
            "|          Business|   August 10, 1984|    Martin|   Steele|     7|  16|\n",
            "|  Machine Learning|  16 December 1990|     Colin| Martinez|     9|  17|\n",
            "|    Data Analytics|              null|   Bridget|    Twain|     6|  18|\n",
            "|          Business|      7 March 1980|   Darlene|    Mills|    19|  19|\n",
            "|    Data Analytics|      June 2, 1985|   Zachary|     null|    10|  20|\n",
            "+------------------+------------------+----------+---------+------+----+\n",
            "\n"
          ]
        }
      ],
      "source": [
        "students = sc.textFile(\"C:/Users/user/students.json\")\n",
        "sdf = SQLContext.read.json(students)\n",
        "sdf.show()"
      ]
    },
    {
      "cell_type": "code",
      "execution_count": null,
      "metadata": {
        "id": "wU5gMfZbqLdh"
      },
      "outputs": [],
      "source": [
        "#sdf.describe().show()"
      ]
    },
    {
      "cell_type": "code",
      "execution_count": null,
      "metadata": {
        "id": "Dt1Rt5dJqLdi"
      },
      "outputs": [],
      "source": [
        "#sdf.count()"
      ]
    },
    {
      "cell_type": "markdown",
      "source": [
        "## *Replace the null values in column points by the mean of all points*"
      ],
      "metadata": {
        "id": "w-rRvnUWqLdi"
      }
    },
    {
      "cell_type": "code",
      "execution_count": null,
      "metadata": {
        "id": "qWyKtuyWqLdj",
        "outputId": "d67d761e-d10c-4add-c317-d152b2efc2ce"
      },
      "outputs": [
        {
          "name": "stdout",
          "output_type": "stream",
          "text": [
            "+------------------+\n",
            "|       avg(points)|\n",
            "+------------------+\n",
            "|11.736842105263158|\n",
            "+------------------+\n",
            "\n"
          ]
        }
      ],
      "source": [
        "mean_p=sdf.agg(func.mean('points')).show()\n",
        "mean_p"
      ]
    },
    {
      "cell_type": "code",
      "execution_count": null,
      "metadata": {
        "id": "HulkUwZeqLdk"
      },
      "outputs": [],
      "source": [
        "mean_p=11.736842105263158"
      ]
    },
    {
      "cell_type": "code",
      "execution_count": null,
      "metadata": {
        "id": "LyCxeshqqLdl",
        "outputId": "b5130c1c-fe90-4ff9-a5cc-e5c4a365cbe8"
      },
      "outputs": [
        {
          "name": "stdout",
          "output_type": "stream",
          "text": [
            "+------------------+------------------+----------+---------+------+----+\n",
            "|            course|               dob|first_name|last_name|points|s_id|\n",
            "+------------------+------------------+----------+---------+------+----+\n",
            "|Humanities and Art|  October 14, 1983|      Alan|      Joe|    10|   1|\n",
            "|  Computer Science|September 26, 1980|    Martin|  Genberg|    17|   2|\n",
            "|    Graphic Design|     June 12, 1982|     Athur|   Watson|    16|   3|\n",
            "|    Graphic Design|     April 5, 1987|  Anabelle|  Sanberg|    12|   4|\n",
            "|        Psychology|  November 1, 1978|      Kira| Schommer|    11|   5|\n",
            "|          Business|  17 February 1981| Christian|   Kiriam|    10|   6|\n",
            "|  Machine Learning|    1 January 1984|   Barbara|  Ballard|    14|   7|\n",
            "|     Deep Learning|  January 13, 1978|      John|     null|    10|   8|\n",
            "|  Machine Learning|  26 December 1989|    Marcus|   Carson|    15|   9|\n",
            "|           Physics|  30 December 1987|     Marta|   Brooks|    11|  10|\n",
            "|    Data Analytics|     June 12, 1975|     Holly| Schwartz|    12|  11|\n",
            "|  Computer Science|      July 2, 1985|     April|    Black|    12|  12|\n",
            "|  Computer Science|     July 22, 1980|     Irene|  Bradley|    13|  13|\n",
            "|        Psychology|   7 February 1986|      Mark|    Weber|    12|  14|\n",
            "|       Informatics|      May 18, 1987|     Rosie|   Norman|     9|  15|\n",
            "|          Business|   August 10, 1984|    Martin|   Steele|     7|  16|\n",
            "|  Machine Learning|  16 December 1990|     Colin| Martinez|     9|  17|\n",
            "|    Data Analytics|              null|   Bridget|    Twain|     6|  18|\n",
            "|          Business|      7 March 1980|   Darlene|    Mills|    19|  19|\n",
            "|    Data Analytics|      June 2, 1985|   Zachary|     null|    10|  20|\n",
            "+------------------+------------------+----------+---------+------+----+\n",
            "\n"
          ]
        }
      ],
      "source": [
        "sdf_replaced1=sdf.fillna({\"points\":np.round(mean_p)})\n",
        "sdf_replaced1.show()"
      ]
    },
    {
      "cell_type": "markdown",
      "source": [
        "## *Replace the null values in column dob and column last name by \"unknown\" and \"--\" respeCtively*"
      ],
      "metadata": {
        "id": "eeJy3EEGqLdm"
      }
    },
    {
      "cell_type": "code",
      "execution_count": null,
      "metadata": {
        "id": "IsHHeO-FqLdm",
        "outputId": "8570640f-e897-486c-d564-7762c61ba50d"
      },
      "outputs": [
        {
          "name": "stdout",
          "output_type": "stream",
          "text": [
            "+------------------+------------------+----------+---------+------+----+\n",
            "|            course|               dob|first_name|last_name|points|s_id|\n",
            "+------------------+------------------+----------+---------+------+----+\n",
            "|Humanities and Art|  October 14, 1983|      Alan|      Joe|    10|   1|\n",
            "|  Computer Science|September 26, 1980|    Martin|  Genberg|    17|   2|\n",
            "|    Graphic Design|     June 12, 1982|     Athur|   Watson|    16|   3|\n",
            "|    Graphic Design|     April 5, 1987|  Anabelle|  Sanberg|    12|   4|\n",
            "|        Psychology|  November 1, 1978|      Kira| Schommer|    11|   5|\n",
            "|          Business|  17 February 1981| Christian|   Kiriam|    10|   6|\n",
            "|  Machine Learning|    1 January 1984|   Barbara|  Ballard|    14|   7|\n",
            "|     Deep Learning|  January 13, 1978|      John|       --|    10|   8|\n",
            "|  Machine Learning|  26 December 1989|    Marcus|   Carson|    15|   9|\n",
            "|           Physics|  30 December 1987|     Marta|   Brooks|    11|  10|\n",
            "|    Data Analytics|     June 12, 1975|     Holly| Schwartz|    12|  11|\n",
            "|  Computer Science|      July 2, 1985|     April|    Black|    12|  12|\n",
            "|  Computer Science|     July 22, 1980|     Irene|  Bradley|    13|  13|\n",
            "|        Psychology|   7 February 1986|      Mark|    Weber|    12|  14|\n",
            "|       Informatics|      May 18, 1987|     Rosie|   Norman|     9|  15|\n",
            "|          Business|   August 10, 1984|    Martin|   Steele|     7|  16|\n",
            "|  Machine Learning|  16 December 1990|     Colin| Martinez|     9|  17|\n",
            "|    Data Analytics|           unknown|   Bridget|    Twain|     6|  18|\n",
            "|          Business|      7 March 1980|   Darlene|    Mills|    19|  19|\n",
            "|    Data Analytics|      June 2, 1985|   Zachary|       --|    10|  20|\n",
            "+------------------+------------------+----------+---------+------+----+\n",
            "\n"
          ]
        }
      ],
      "source": [
        "sdf_replaced2=sdf_replaced1.fillna({ \"dob\":'unknown', \"last_name\":'--' })\n",
        "sdf_replaced2.show()"
      ]
    },
    {
      "cell_type": "code",
      "execution_count": null,
      "metadata": {
        "id": "JU2pTfK2qLdn",
        "outputId": "01803744-291e-47e8-ff74-fcb9adc4d43d"
      },
      "outputs": [
        {
          "name": "stdout",
          "output_type": "stream",
          "text": [
            "+-------+----------+--------------+----------+---------+-----------------+-----------------+\n",
            "|summary|    course|           dob|first_name|last_name|           points|             s_id|\n",
            "+-------+----------+--------------+----------+---------+-----------------+-----------------+\n",
            "|  count|        20|            20|        20|       20|               20|               20|\n",
            "|   mean|      null|          null|      null|     null|            11.75|             10.5|\n",
            "| stddev|      null|          null|      null|     null|3.242400020777332|5.916079783099616|\n",
            "|    min|  Business|1 January 1984|      Alan|       --|                6|                1|\n",
            "|    max|Psychology|       unknown|   Zachary|    Weber|               19|               20|\n",
            "+-------+----------+--------------+----------+---------+-----------------+-----------------+\n",
            "\n"
          ]
        }
      ],
      "source": [
        "sdf_replaced2.describe().show()"
      ]
    },
    {
      "cell_type": "markdown",
      "source": [
        "## *Convert all the dates into DD-MM-YYYY format*"
      ],
      "metadata": {
        "id": "PXHqsO33qLdo"
      }
    },
    {
      "cell_type": "code",
      "execution_count": null,
      "metadata": {
        "id": "8dFs-loBqLdp"
      },
      "outputs": [],
      "source": [
        "def convert_date(dob):\n",
        "    if(len(dob.split(\" \"))>1):\n",
        "        if(dob.split(\" \")[0].isdigit()):\n",
        "            dob_update = datetime.strptime(dob,'%d %B %Y').date().strftime('%d-%m-%Y')\n",
        "            return dob_update\n",
        "        else:\n",
        "            dob_update = datetime.strptime(dob,'%B %d, %Y').date().strftime('%d-%m-%Y')\n",
        "            return dob_update\n",
        "    else:\n",
        "        return \"unknown\""
      ]
    },
    {
      "cell_type": "code",
      "execution_count": null,
      "metadata": {
        "id": "sG2_L8SgqLdp",
        "outputId": "41ed8461-7306-435a-8139-fe7dca3d13f9"
      },
      "outputs": [
        {
          "name": "stdout",
          "output_type": "stream",
          "text": [
            "+------------------+----------+----------+---------+------+----+\n",
            "|            course|       dob|first_name|last_name|points|s_id|\n",
            "+------------------+----------+----------+---------+------+----+\n",
            "|Humanities and Art|14-10-1983|      Alan|      Joe|    10|   1|\n",
            "|  Computer Science|26-09-1980|    Martin|  Genberg|    17|   2|\n",
            "|    Graphic Design|12-06-1982|     Athur|   Watson|    16|   3|\n",
            "|    Graphic Design|05-04-1987|  Anabelle|  Sanberg|    12|   4|\n",
            "|        Psychology|01-11-1978|      Kira| Schommer|    11|   5|\n",
            "|          Business|17-02-1981| Christian|   Kiriam|    10|   6|\n",
            "|  Machine Learning|01-01-1984|   Barbara|  Ballard|    14|   7|\n",
            "|     Deep Learning|13-01-1978|      John|       --|    10|   8|\n",
            "|  Machine Learning|26-12-1989|    Marcus|   Carson|    15|   9|\n",
            "|           Physics|30-12-1987|     Marta|   Brooks|    11|  10|\n",
            "|    Data Analytics|12-06-1975|     Holly| Schwartz|    12|  11|\n",
            "|  Computer Science|02-07-1985|     April|    Black|    12|  12|\n",
            "|  Computer Science|22-07-1980|     Irene|  Bradley|    13|  13|\n",
            "|        Psychology|07-02-1986|      Mark|    Weber|    12|  14|\n",
            "|       Informatics|18-05-1987|     Rosie|   Norman|     9|  15|\n",
            "|          Business|10-08-1984|    Martin|   Steele|     7|  16|\n",
            "|  Machine Learning|16-12-1990|     Colin| Martinez|     9|  17|\n",
            "|    Data Analytics|   unknown|   Bridget|    Twain|     6|  18|\n",
            "|          Business|07-03-1980|   Darlene|    Mills|    19|  19|\n",
            "|    Data Analytics|02-06-1985|   Zachary|       --|    10|  20|\n",
            "+------------------+----------+----------+---------+------+----+\n",
            "\n"
          ]
        }
      ],
      "source": [
        "convert_date_udf = udf(convert_date, sparktypes.StringType())\n",
        "sdf_replaced3 = sdf_replaced2.withColumn(\"dob\",convert_date_udf(sdf_replaced2[\"dob\"]))\n",
        "sdf_replaced3.show()"
      ]
    },
    {
      "cell_type": "markdown",
      "source": [
        "## *Create new age column and calculate age of students*"
      ],
      "metadata": {
        "id": "xVK4SvsCqLdq"
      }
    },
    {
      "cell_type": "code",
      "execution_count": null,
      "metadata": {
        "id": "MS5mAyIAqLdq"
      },
      "outputs": [],
      "source": [
        "def calc_age(dob):\n",
        "    if len(dob.split(\"-\"))>1:\n",
        "        current_day = date.today()\n",
        "        dob = datetime.strptime(dob, \"%d-%m-%Y\")\n",
        "        age = current_day.year - dob.year\n",
        "        return age\n",
        "    else:\n",
        "        return \"...\""
      ]
    },
    {
      "cell_type": "code",
      "execution_count": null,
      "metadata": {
        "id": "Umtvd_vDqLdr",
        "outputId": "0b326b7f-2879-4350-92f0-2bf5d9ed9129"
      },
      "outputs": [
        {
          "name": "stdout",
          "output_type": "stream",
          "text": [
            "+------------------+----------+----------+---------+------+----+---+\n",
            "|            course|       dob|first_name|last_name|points|s_id|age|\n",
            "+------------------+----------+----------+---------+------+----+---+\n",
            "|Humanities and Art|14-10-1983|      Alan|      Joe|    10|   1| 37|\n",
            "|  Computer Science|26-09-1980|    Martin|  Genberg|    17|   2| 40|\n",
            "|    Graphic Design|12-06-1982|     Athur|   Watson|    16|   3| 38|\n",
            "|    Graphic Design|05-04-1987|  Anabelle|  Sanberg|    12|   4| 33|\n",
            "|        Psychology|01-11-1978|      Kira| Schommer|    11|   5| 42|\n",
            "|          Business|17-02-1981| Christian|   Kiriam|    10|   6| 39|\n",
            "|  Machine Learning|01-01-1984|   Barbara|  Ballard|    14|   7| 36|\n",
            "|     Deep Learning|13-01-1978|      John|       --|    10|   8| 42|\n",
            "|  Machine Learning|26-12-1989|    Marcus|   Carson|    15|   9| 31|\n",
            "|           Physics|30-12-1987|     Marta|   Brooks|    11|  10| 33|\n",
            "|    Data Analytics|12-06-1975|     Holly| Schwartz|    12|  11| 45|\n",
            "|  Computer Science|02-07-1985|     April|    Black|    12|  12| 35|\n",
            "|  Computer Science|22-07-1980|     Irene|  Bradley|    13|  13| 40|\n",
            "|        Psychology|07-02-1986|      Mark|    Weber|    12|  14| 34|\n",
            "|       Informatics|18-05-1987|     Rosie|   Norman|     9|  15| 33|\n",
            "|          Business|10-08-1984|    Martin|   Steele|     7|  16| 36|\n",
            "|  Machine Learning|16-12-1990|     Colin| Martinez|     9|  17| 30|\n",
            "|    Data Analytics|   unknown|   Bridget|    Twain|     6|  18|...|\n",
            "|          Business|07-03-1980|   Darlene|    Mills|    19|  19| 40|\n",
            "|    Data Analytics|02-06-1985|   Zachary|       --|    10|  20| 35|\n",
            "+------------------+----------+----------+---------+------+----+---+\n",
            "\n"
          ]
        }
      ],
      "source": [
        "calc_age_udf = udf(calc_age, sparktypes.StringType())\n",
        "sdf_age = sdf_replaced3.withColumn(\"age\",calc_age_udf(sdf_replaced3[\"dob\"]))\n",
        "sdf_age.show()"
      ]
    },
    {
      "cell_type": "markdown",
      "source": [
        "## *Update point of student to maximum (20) points, if point of student is larger than 1 standard deviation of all points*"
      ],
      "metadata": {
        "id": "hvAqrSByqLdr"
      }
    },
    {
      "cell_type": "code",
      "execution_count": null,
      "metadata": {
        "id": "3WjYBLMaqLdr"
      },
      "outputs": [],
      "source": [
        "def grant_points(p):\n",
        "    if p > (points_mean + points_std):\n",
        "        return int(20)\n",
        "    else:\n",
        "        return p"
      ]
    },
    {
      "cell_type": "code",
      "execution_count": null,
      "metadata": {
        "id": "pFHJEPtzqLds",
        "outputId": "3ff6bcd3-cde7-4609-9566-f75b5f3abfd6"
      },
      "outputs": [
        {
          "data": {
            "text/plain": [
              "[Row(avg(points)=11.75)]"
            ]
          },
          "execution_count": 59,
          "metadata": {},
          "output_type": "execute_result"
        }
      ],
      "source": [
        "#sdf_age.select(mean(sdf_age[\"points\"])).collect()"
      ]
    },
    {
      "cell_type": "code",
      "execution_count": null,
      "metadata": {
        "id": "Dlu4m9xFqLds",
        "outputId": "4460894c-c53d-4f3f-f024-d094947336ed"
      },
      "outputs": [
        {
          "name": "stdout",
          "output_type": "stream",
          "text": [
            "Mean of points of students: 11.75\n",
            "Standard deviation of points of students: 3.24\n"
          ]
        }
      ],
      "source": [
        "points_mean = sdf_age.select(mean(sdf_age[\"points\"])).collect()[0][0]        #in the list ==> get it from the list\n",
        "print(\"Mean of points of students:\",round(points_mean,2))\n",
        "\n",
        "points_std = sdf_age.select(stddev(sdf_age[\"points\"])).collect()[0][0]\n",
        "print(\"Standard deviation of points of students:\",round(points_std,2))"
      ]
    },
    {
      "cell_type": "code",
      "execution_count": null,
      "metadata": {
        "id": "UOem4LVgqLdt",
        "outputId": "9e073156-e366-4ef2-e559-146c0c0e72ba"
      },
      "outputs": [
        {
          "name": "stdout",
          "output_type": "stream",
          "text": [
            "+------------------+----------+----------+---------+------+----+---+--------------+\n",
            "|            course|       dob|first_name|last_name|points|s_id|age|points_updated|\n",
            "+------------------+----------+----------+---------+------+----+---+--------------+\n",
            "|Humanities and Art|14-10-1983|      Alan|      Joe|    10|   1| 37|            10|\n",
            "|  Computer Science|26-09-1980|    Martin|  Genberg|    17|   2| 40|            20|\n",
            "|    Graphic Design|12-06-1982|     Athur|   Watson|    16|   3| 38|            20|\n",
            "|    Graphic Design|05-04-1987|  Anabelle|  Sanberg|    12|   4| 33|            12|\n",
            "|        Psychology|01-11-1978|      Kira| Schommer|    11|   5| 42|            11|\n",
            "|          Business|17-02-1981| Christian|   Kiriam|    10|   6| 39|            10|\n",
            "|  Machine Learning|01-01-1984|   Barbara|  Ballard|    14|   7| 36|            14|\n",
            "|     Deep Learning|13-01-1978|      John|       --|    10|   8| 42|            10|\n",
            "|  Machine Learning|26-12-1989|    Marcus|   Carson|    15|   9| 31|            20|\n",
            "|           Physics|30-12-1987|     Marta|   Brooks|    11|  10| 33|            11|\n",
            "|    Data Analytics|12-06-1975|     Holly| Schwartz|    12|  11| 45|            12|\n",
            "|  Computer Science|02-07-1985|     April|    Black|    12|  12| 35|            12|\n",
            "|  Computer Science|22-07-1980|     Irene|  Bradley|    13|  13| 40|            13|\n",
            "|        Psychology|07-02-1986|      Mark|    Weber|    12|  14| 34|            12|\n",
            "|       Informatics|18-05-1987|     Rosie|   Norman|     9|  15| 33|             9|\n",
            "|          Business|10-08-1984|    Martin|   Steele|     7|  16| 36|             7|\n",
            "|  Machine Learning|16-12-1990|     Colin| Martinez|     9|  17| 30|             9|\n",
            "|    Data Analytics|   unknown|   Bridget|    Twain|     6|  18|...|             6|\n",
            "|          Business|07-03-1980|   Darlene|    Mills|    19|  19| 40|            20|\n",
            "|    Data Analytics|02-06-1985|   Zachary|       --|    10|  20| 35|            10|\n",
            "+------------------+----------+----------+---------+------+----+---+--------------+\n",
            "\n"
          ]
        }
      ],
      "source": [
        "grantpoints_udf = udf(grant_points, sparktypes.StringType())\n",
        "sdf_newpoints = sdf_age.withColumn(\"points_updated\",grantpoints_udf(sdf_age[\"points\"]))\n",
        "\n",
        "sdf_newpoints.show()"
      ]
    },
    {
      "cell_type": "markdown",
      "source": [
        "## *Create histogram updated points of students*"
      ],
      "metadata": {
        "id": "RWGXtaIrqLdu"
      }
    },
    {
      "cell_type": "code",
      "execution_count": null,
      "metadata": {
        "id": "vZ4Qv43RqLdu"
      },
      "outputs": [],
      "source": [
        "df = sdf_newpoints.select(\"s_id\" , \"points_updated\").toPandas()\n",
        "df[\"points_updated\"] = pd.to_numeric(df[\"points_updated\"])"
      ]
    },
    {
      "cell_type": "code",
      "execution_count": null,
      "metadata": {
        "id": "k8SJpBDiqLdu",
        "outputId": "df612bc9-5aa1-464a-d214-ed23f1211aa2"
      },
      "outputs": [
        {
          "data": {
            "image/png": "[encoded data removed]",
            "text/plain": [
              "<Figure size 576x360 with 1 Axes>"
            ]
          },
          "metadata": {
            "needs_background": "light"
          },
          "output_type": "display_data"
        }
      ],
      "source": [
        "fig, ax = plt.subplots(figsize=(8, 5))\n",
        "plt.bar(df.s_id,df[\"points_updated\"])\n",
        "plt.xticks(df.s_id,rotation=90)\n",
        "plt.title(\"New Points of Students\")\n",
        "plt.xlabel(\"Student ID\")\n",
        "plt.ylabel(\"New Points\")\n",
        "plt.show()"
      ]
    },
    {
      "cell_type": "markdown",
      "source": [
        "# **Exercise 2: Manipulating Recommender Dataset with Apache Spark**\n",
        "\n",
        "\n",
        "1.   Separate out tagging sessions for each user (termination of session: inactive duration of 30 minuntes)\n",
        "2.   Calculate the frequency of tagging for each user session\n",
        "3.   Find a mean and standard deviation of the tagging frequency of each user\n",
        "4.   Find a mean and standard deviation of the tagging frequency for across users\n",
        "5.   Provide the list of users with a mean tagging frequency within the two standard deviation from the mean frequency of all users"
      ],
      "metadata": {
        "id": "CxeGVo81qLdv"
      }
    },
    {
      "cell_type": "code",
      "execution_count": null,
      "metadata": {
        "id": "lRXwWeb4qLdv"
      },
      "outputs": [],
      "source": [
        "conf = SparkConf().setAppName(\"appdda\")\n",
        "sc= SparkContext(conf=conf)"
      ]
    },
    {
      "cell_type": "code",
      "execution_count": null,
      "metadata": {
        "id": "JwX01q6LqLdw"
      },
      "outputs": [],
      "source": [
        "sqlContext = SQLContext(sc)"
      ]
    },
    {
      "cell_type": "code",
      "execution_count": null,
      "metadata": {
        "id": "k0LZCSbVqLdw",
        "outputId": "d7edf1c2-93c7-4415-e6d4-c9aec58f26b0"
      },
      "outputs": [
        {
          "name": "stderr",
          "output_type": "stream",
          "text": [
            "C:\\Users\\user\\Anaconda3\\lib\\site-packages\\ipykernel_launcher.py:1: ParserWarning: Falling back to the 'python' engine because the 'c' engine does not support regex separators (separators > 1 char and different from '\\s+' are interpreted as regex); you can avoid this warning by specifying engine='python'.\n",
            "  \"\"\"Entry point for launching an IPython kernel.\n"
          ]
        },
        {
          "name": "stdout",
          "output_type": "stream",
          "text": [
            "+------+-------+--------------------+----------+\n",
            "|UserID|MovieID|                 Tag| Timestamp|\n",
            "+------+-------+--------------------+----------+\n",
            "|    15|   4973|          excellent!|1215184630|\n",
            "|    20|   1747|            politics|1188263867|\n",
            "|    20|   1747|              satire|1188263867|\n",
            "|    20|   2424|     chick flick 212|1188263835|\n",
            "|    20|   2424|               hanks|1188263835|\n",
            "|    20|   2424|                ryan|1188263835|\n",
            "|    20|   2947|              action|1188263755|\n",
            "|    20|   2947|                bond|1188263756|\n",
            "|    20|   3033|               spoof|1188263880|\n",
            "|    20|   3033|           star wars|1188263880|\n",
            "|    20|   7438|              bloody|1188263801|\n",
            "|    20|   7438|             kung fu|1188263801|\n",
            "|    20|   7438|           Tarantino|1188263801|\n",
            "|    21|  55247|                   R|1205081506|\n",
            "|    21|  55253|               NC-17|1205081488|\n",
            "|    25|     50|        Kevin Spacey|1166101426|\n",
            "|    25|   6709|         Johnny Depp|1162147221|\n",
            "|    31|     65|        buddy comedy|1188263759|\n",
            "|    31|    546|strangely compelling|1188263674|\n",
            "|    31|   1091|         catastrophe|1188263741|\n",
            "+------+-------+--------------------+----------+\n",
            "only showing top 20 rows\n",
            "\n"
          ]
        }
      ],
      "source": [
        "df = pd.read_csv('C:/Users/user/ml-10M100K/tags.dat',delimiter=\"::\",names=['UserID', 'MovieID', 'Tag', 'Timestamp']).astype(str)\n",
        "tdf = sqlContext.createDataFrame(df)\n",
        "tdf.show()"
      ]
    },
    {
      "cell_type": "code",
      "execution_count": null,
      "metadata": {
        "id": "ZDft_eefqLdx"
      },
      "outputs": [],
      "source": [
        "tdf = tdf.withColumn(\"UserID\", tdf[\"UserID\"].cast(IntegerType()))         #UserID converted to integer\n",
        "tdf = tdf.withColumn('date_time', func.from_unixtime('timestamp'))        #Timestamp converted to datetime\n",
        "#tdf.show()"
      ]
    },
    {
      "cell_type": "markdown",
      "source": [
        "## *Separate out tagging sessions for each user (termination of session: inactive duration of 30 minuntes)*"
      ],
      "metadata": {
        "id": "KgE8r0-QqLdx"
      }
    },
    {
      "cell_type": "code",
      "execution_count": null,
      "metadata": {
        "id": "tJpqqWjoqLdx",
        "outputId": "4f6d9d91-cbb4-4b24-9364-3fb06b269e9c"
      },
      "outputs": [
        {
          "name": "stdout",
          "output_type": "stream",
          "text": [
            "+------+--------------------+\n",
            "|UserID|          group_tags|\n",
            "+------+--------------------+\n",
            "|    15|[2008-07-04 18:17...|\n",
            "|    20|[2007-08-28 04:17...|\n",
            "|    21|[2008-03-09 18:51...|\n",
            "|    25|[2006-12-14 15:03...|\n",
            "|    31|[2007-08-28 04:15...|\n",
            "|    32|[2006-11-28 19:35...|\n",
            "|    39|[2007-08-28 04:16...|\n",
            "|    48|[2008-07-04 04:40...|\n",
            "|    49|[2007-08-28 04:24...|\n",
            "|    75|[2006-10-30 00:20...|\n",
            "|    78|[2007-04-16 05:43...|\n",
            "|   109|[2008-05-22 08:13...|\n",
            "|   127|[2007-08-28 04:42...|\n",
            "|   133|[2007-08-28 04:43...|\n",
            "|   146|[2008-11-15 11:52...|\n",
            "|   147|[2006-10-30 08:11...|\n",
            "|   170|[2006-10-30 13:52...|\n",
            "|   175|[2007-08-30 05:37...|\n",
            "|   181|[2007-08-28 04:55...|\n",
            "|   190|[2006-06-30 23:41...|\n",
            "+------+--------------------+\n",
            "only showing top 20 rows\n",
            "\n"
          ]
        }
      ],
      "source": [
        "tagged = tdf.groupBy(['UserID']).agg(collect_list(\"date_time\").alias('group_tags')).sort(asc(\"UserID\"))\n",
        "tagged.show()"
      ]
    },
    {
      "cell_type": "code",
      "execution_count": null,
      "metadata": {
        "id": "7bhJStRgqLdy"
      },
      "outputs": [],
      "source": [
        "tagged_df=tagged.select(\"UserID\", \"group_tags\").toPandas()"
      ]
    },
    {
      "cell_type": "markdown",
      "source": [
        "## *Calculate the frequency of tagging for each user session*"
      ],
      "metadata": {
        "id": "z92WT2bbqLdy"
      }
    },
    {
      "cell_type": "code",
      "execution_count": null,
      "metadata": {
        "id": "Sknd0C8hqLdy"
      },
      "outputs": [],
      "source": [
        "freq_sessions = []\n",
        "def calc_session(tag_dates):                       #calculate sessions for each user\n",
        "    for k in tag_dates:\n",
        "        k = pd.to_datetime(k)        \n",
        "        sessions = []\n",
        "#        count = 1\n",
        "        frequency =  1        \n",
        "        for i in range(len(k) -1):            \n",
        "            if (k[i+1] - k[i]) >pd.Timedelta(\"30 min\"):\n",
        "#                count = count + 1\n",
        "                sessions.append(frequency)\n",
        "#                frequency =  0                \n",
        "            frequency = frequency + 1                \n",
        "        sessions.append(frequency)        \n",
        "        freq_sessions.append(sessions)                \n",
        "    return freq_sessions"
      ]
    },
    {
      "cell_type": "code",
      "execution_count": null,
      "metadata": {
        "id": "ycJiP8M3qLdz",
        "outputId": "6d02392c-2426-42c1-b7ae-e28ea78ea129"
      },
      "outputs": [
        {
          "name": "stdout",
          "output_type": "stream",
          "text": [
            "+------+--------------------+--------------------+\n",
            "|UserID|          group_tags|            sessions|\n",
            "+------+--------------------+--------------------+\n",
            "|    15|[2008-07-04 18:17...|                 [1]|\n",
            "|    20|[2007-08-28 04:17...|                [12]|\n",
            "|    21|[2008-03-09 18:51...|                 [2]|\n",
            "|    25|[2006-12-14 15:03...|                 [2]|\n",
            "|    31|[2007-08-28 04:15...|                 [5]|\n",
            "|    32|[2006-11-28 19:35...|                 [1]|\n",
            "|    39|[2007-08-28 04:16...|                 [5]|\n",
            "|    48|[2008-07-04 04:40...|                 [2]|\n",
            "|    49|[2007-08-28 04:24...|                [15]|\n",
            "|    75|[2006-10-30 00:20...|                 [1]|\n",
            "|    78|[2007-04-16 05:43...|                 [1]|\n",
            "|   109|[2008-05-22 08:13...|[3, 5, 11, 13, 18...|\n",
            "|   127|[2007-08-28 04:42...|                [26]|\n",
            "|   133|[2007-08-28 04:43...|                 [5]|\n",
            "|   146|[2008-11-15 11:52...|[2, 5, 8, 9, 12, ...|\n",
            "|   147|[2006-10-30 08:11...|                 [2]|\n",
            "|   170|[2006-10-30 13:52...|                 [1]|\n",
            "|   175|[2007-08-30 05:37...|              [1, 2]|\n",
            "|   181|[2007-08-28 04:55...|                 [4]|\n",
            "|   190|[2006-06-30 23:41...|[3, 6, 8, 9, 14, ...|\n",
            "+------+--------------------+--------------------+\n",
            "only showing top 20 rows\n",
            "\n"
          ]
        }
      ],
      "source": [
        "freq_sessions = calc_session(tagged_df['group_tags'])          \n",
        "tagged_df[\"sessions\"] = freq_sessions\n",
        "\n",
        "tag_session= sqlContext.createDataFrame(tagged_df)\n",
        "tag_session.show()                                      #tagging sessions for each user"
      ]
    },
    {
      "cell_type": "code",
      "execution_count": null,
      "metadata": {
        "id": "SToR7KBpqLdz",
        "outputId": "e44a8f10-fc8a-4fb9-a865-ebffe3a1095b"
      },
      "outputs": [
        {
          "name": "stdout",
          "output_type": "stream",
          "text": [
            "+------+-----+\n",
            "|UserID|count|\n",
            "+------+-----+\n",
            "|    15|    1|\n",
            "|    20|   12|\n",
            "|    21|    2|\n",
            "|    25|    2|\n",
            "|    31|    5|\n",
            "|    32|    1|\n",
            "|    39|    5|\n",
            "|    48|    2|\n",
            "|    49|   15|\n",
            "|    75|    1|\n",
            "|    78|    1|\n",
            "|   109|   25|\n",
            "|   127|   26|\n",
            "|   133|    5|\n",
            "|   146| 1648|\n",
            "|   147|    2|\n",
            "|   170|    1|\n",
            "|   175|    2|\n",
            "|   181|    4|\n",
            "|   190|   26|\n",
            "+------+-----+\n",
            "only showing top 20 rows\n",
            "\n"
          ]
        }
      ],
      "source": [
        "frequency = tdf.groupBy('UserID').count().sort(\"UserID\", ascending=True)       #Frequency of UserID\n",
        "frequency.show()"
      ]
    },
    {
      "cell_type": "code",
      "execution_count": null,
      "metadata": {
        "id": "Hjs7wvpSqLd0"
      },
      "outputs": [],
      "source": [
        "tagging_freq= tag_session.join(frequency,\"UserID\").withColumnRenamed(\"count\",\"Frequency\").sort(\"UserID\", ascending=True)\n",
        "tagging_freq.show()         #Tagging and frequency for each user"
      ]
    },
    {
      "cell_type": "markdown",
      "source": [
        "## *Find a mean and standard deviation of the tagging frequency of each user*"
      ],
      "metadata": {
        "id": "QJqSnSXeqLd0"
      }
    },
    {
      "cell_type": "code",
      "execution_count": null,
      "metadata": {
        "id": "wyjf9t3tqLd0"
      },
      "outputs": [],
      "source": [
        "session_mean = udf(lambda sessions: np.mean(sessions).tolist(),FloatType())\n",
        "session_std = udf(lambda sessions: np.std(sessions).tolist(),FloatType())"
      ]
    },
    {
      "cell_type": "code",
      "execution_count": null,
      "metadata": {
        "id": "kGvcZLnfqLd1",
        "outputId": "a2002051-f6e4-4e51-f13b-3c792d9b8743"
      },
      "outputs": [
        {
          "name": "stdout",
          "output_type": "stream",
          "text": [
            "+------+--------------------+--------------------+---------+---------+---------+\n",
            "|UserID|          group_tags|            sessions|Frequency|     mean|   stddev|\n",
            "+------+--------------------+--------------------+---------+---------+---------+\n",
            "|    15|[2008-07-04 18:17...|                 [1]|        1|      1.0|      0.0|\n",
            "|    20|[2007-08-28 04:17...|                [12]|       12|     12.0|      0.0|\n",
            "|    21|[2008-03-09 18:51...|                 [2]|        2|      2.0|      0.0|\n",
            "|    25|[2006-12-14 15:03...|                 [2]|        2|      2.0|      0.0|\n",
            "|    31|[2007-08-28 04:15...|                 [5]|        5|      5.0|      0.0|\n",
            "|    32|[2006-11-28 19:35...|                 [1]|        1|      1.0|      0.0|\n",
            "|    39|[2007-08-28 04:16...|                 [5]|        5|      5.0|      0.0|\n",
            "|    48|[2008-07-04 04:40...|                 [2]|        2|      2.0|      0.0|\n",
            "|    49|[2007-08-28 04:24...|                [15]|       15|     15.0|      0.0|\n",
            "|    75|[2006-10-30 00:20...|                 [1]|        1|      1.0|      0.0|\n",
            "|    78|[2007-04-16 05:43...|                 [1]|        1|      1.0|      0.0|\n",
            "|   109|[2008-05-22 08:13...|[3, 2, 6, 2, 5, 2...|       25|2.7777777|1.6178021|\n",
            "|   127|[2007-08-28 04:42...|                [26]|       26|     26.0|      0.0|\n",
            "|   133|[2007-08-28 04:43...|                 [5]|        5|      5.0|      0.0|\n",
            "|   146|[2008-11-15 11:52...|[2, 3, 3, 1, 3, 1...|     1648|2.3375885|1.2946447|\n",
            "|   147|[2006-10-30 08:11...|                 [2]|        2|      2.0|      0.0|\n",
            "|   170|[2006-10-30 13:52...|                 [1]|        1|      1.0|      0.0|\n",
            "|   175|[2007-08-30 05:37...|              [1, 1]|        2|      1.0|      0.0|\n",
            "|   181|[2007-08-28 04:55...|                 [4]|        4|      4.0|      0.0|\n",
            "|   190|[2006-06-30 23:41...|[3, 3, 2, 1, 5, 6...|       26|     3.25|1.5612495|\n",
            "+------+--------------------+--------------------+---------+---------+---------+\n",
            "only showing top 20 rows\n",
            "\n"
          ]
        }
      ],
      "source": [
        "tag_mstd= tagging_freq.withColumn('mean', session_mean('sessions')).withColumn('stddev', session_std('sessions'))\n",
        "tag_mstd.show()"
      ]
    },
    {
      "cell_type": "markdown",
      "source": [
        "## *Find a mean and standard deviation of the tagging frequency for across users*"
      ],
      "metadata": {
        "id": "g2pdfsEjqLd2"
      }
    },
    {
      "cell_type": "code",
      "execution_count": null,
      "metadata": {
        "id": "dilwKT3IqLd2",
        "outputId": "232e400b-cefd-4417-f5ed-a4a49598d4b2"
      },
      "outputs": [
        {
          "name": "stdout",
          "output_type": "stream",
          "text": [
            "Row(mean=23.841356946869542, std=179.68054035590325)\n"
          ]
        }
      ],
      "source": [
        "across_users = tag_mstd.select(mean(col('Frequency')).alias('mean'),stddev(col('Frequency')).alias('std')).collect()\n",
        "print(across_users[0])"
      ]
    },
    {
      "cell_type": "markdown",
      "source": [
        "## *Provide the list of users with a mean tagging frequency within the two standard deviation from the mean frequency of all users*"
      ],
      "metadata": {
        "id": "Uh6rttZpqLd3"
      }
    },
    {
      "cell_type": "code",
      "execution_count": null,
      "metadata": {
        "scrolled": true,
        "id": "QgT7pK2WqLd3",
        "outputId": "66e3bdbc-8586-4d4d-be5f-175c45288bc0"
      },
      "outputs": [
        {
          "name": "stdout",
          "output_type": "stream",
          "text": [
            "min= -335.51972376493694 max= 383.20243765867605\n",
            "+------+--------------------+--------------------+---------+---------+---------+\n",
            "|UserID|          group_tags|            sessions|Frequency|     mean|   stddev|\n",
            "+------+--------------------+--------------------+---------+---------+---------+\n",
            "|    15|[2008-07-04 18:17...|                 [1]|        1|      1.0|      0.0|\n",
            "|    20|[2007-08-28 04:17...|                [12]|       12|     12.0|      0.0|\n",
            "|    21|[2008-03-09 18:51...|                 [2]|        2|      2.0|      0.0|\n",
            "|    25|[2006-12-14 15:03...|                 [2]|        2|      2.0|      0.0|\n",
            "|    31|[2007-08-28 04:15...|                 [5]|        5|      5.0|      0.0|\n",
            "|    32|[2006-11-28 19:35...|                 [1]|        1|      1.0|      0.0|\n",
            "|    39|[2007-08-28 04:16...|                 [5]|        5|      5.0|      0.0|\n",
            "|    48|[2008-07-04 04:40...|                 [2]|        2|      2.0|      0.0|\n",
            "|    49|[2007-08-28 04:24...|                [15]|       15|     15.0|      0.0|\n",
            "|    75|[2006-10-30 00:20...|                 [1]|        1|      1.0|      0.0|\n",
            "|    78|[2007-04-16 05:43...|                 [1]|        1|      1.0|      0.0|\n",
            "|   109|[2008-05-22 08:13...|[3, 2, 6, 2, 5, 2...|       25|2.7777777|1.6178021|\n",
            "|   127|[2007-08-28 04:42...|                [26]|       26|     26.0|      0.0|\n",
            "|   133|[2007-08-28 04:43...|                 [5]|        5|      5.0|      0.0|\n",
            "|   146|[2008-11-15 11:52...|[2, 3, 3, 1, 3, 1...|     1648|2.3375885|1.2946447|\n",
            "|   147|[2006-10-30 08:11...|                 [2]|        2|      2.0|      0.0|\n",
            "|   170|[2006-10-30 13:52...|                 [1]|        1|      1.0|      0.0|\n",
            "|   175|[2007-08-30 05:37...|              [1, 1]|        2|      1.0|      0.0|\n",
            "|   181|[2007-08-28 04:55...|                 [4]|        4|      4.0|      0.0|\n",
            "|   190|[2006-06-30 23:41...|[3, 3, 2, 1, 5, 6...|       26|     3.25|1.5612495|\n",
            "+------+--------------------+--------------------+---------+---------+---------+\n",
            "only showing top 20 rows\n",
            "\n"
          ]
        }
      ],
      "source": [
        "mean_all = across_users[0]['mean']\n",
        "std_all = across_users[0]['std']\n",
        "minimum = mean_all-(2*std_all)\n",
        "maximum = mean_all+(2*std_all)\n",
        "print(\"min=\", minimum, \"max=\", maximum)\n",
        "\n",
        "tag_mstd.filter(col(\"mean\").between(minimum,maximum)).show()"
      ]
    }
  ],
  "metadata": {
    "kernelspec": {
      "display_name": "Python 3",
      "language": "python",
      "name": "python3"
    },
    "language_info": {
      "codemirror_mode": {
        "name": "ipython",
        "version": 3
      },
      "file_extension": ".py",
      "mimetype": "text/x-python",
      "name": "python",
      "nbconvert_exporter": "python",
      "pygments_lexer": "ipython3",
      "version": "3.6.5"
    },
    "colab": {
      "name": "ApacheSpark_RecommenderSystems.ipynb",
      "provenance": [],
      "collapsed_sections": []
    }
  },
  "nbformat": 4,
  "nbformat_minor": 0
}