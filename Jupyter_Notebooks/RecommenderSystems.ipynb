{
  "cells": [
    {
      "cell_type": "markdown",
      "metadata": {
        "id": "iYC0E7RSRmGM"
      },
      "source": [
        "# **Exercise 1: Exploring Movie Recommendation Dataset**\n",
        "Movielens 100k dataset, Rating prediction dataset (rating scale 1-5)."
      ]
    },
    {
      "cell_type": "code",
      "execution_count": null,
      "metadata": {
        "id": "FbA6p84RRmGN"
      },
      "outputs": [],
      "source": [
        "import numpy as np\n",
        "import pandas as pd\n",
        "import matplotlib.pyplot as plt\n",
        "from mpl_toolkits.mplot3d import Axes3D\n",
        "from matplotlib import cm\n",
        "import seaborn as sns\n",
        "from numpy.random import seed, rand, randn\n",
        "import math\n",
        "seed(seed=3116)\n",
        "import time\n",
        "from sklearn.decomposition import NMF"
      ]
    },
    {
      "cell_type": "code",
      "execution_count": null,
      "metadata": {
        "id": "tjbxAIcpRmGP"
      },
      "outputs": [],
      "source": [
        "movie_data = pd.read_csv(\"https://raw.githubusercontent.com/Can-Berk/Machine_Learning_Labs/main/Datasets/ml-100k/u.data\",header=None,delimiter=\"\\t\")\n",
        "movie_data.columns = [\"user_id\", \"movie_id\", \"rating\", \"timestamp\"]"
      ]
    },
    {
      "cell_type": "code",
      "execution_count": null,
      "metadata": {
        "scrolled": false,
        "id": "wIFb7xBwRmGQ",
        "outputId": "3c795a66-d8d2-4d26-ddd4-9edb184be6b0"
      },
      "outputs": [
        {
          "data": {
            "text/html": [
              "<div>\n",
              "<style scoped>\n",
              "    .dataframe tbody tr th:only-of-type {\n",
              "        vertical-align: middle;\n",
              "    }\n",
              "\n",
              "    .dataframe tbody tr th {\n",
              "        vertical-align: top;\n",
              "    }\n",
              "\n",
              "    .dataframe thead th {\n",
              "        text-align: right;\n",
              "    }\n",
              "</style>\n",
              "<table border=\"1\" class=\"dataframe\">\n",
              "  <thead>\n",
              "    <tr style=\"text-align: right;\">\n",
              "      <th></th>\n",
              "      <th>user_id</th>\n",
              "      <th>movie_id</th>\n",
              "      <th>rating</th>\n",
              "      <th>timestamp</th>\n",
              "    </tr>\n",
              "  </thead>\n",
              "  <tbody>\n",
              "    <tr>\n",
              "      <th>0</th>\n",
              "      <td>196</td>\n",
              "      <td>242</td>\n",
              "      <td>3</td>\n",
              "      <td>881250949</td>\n",
              "    </tr>\n",
              "    <tr>\n",
              "      <th>1</th>\n",
              "      <td>186</td>\n",
              "      <td>302</td>\n",
              "      <td>3</td>\n",
              "      <td>891717742</td>\n",
              "    </tr>\n",
              "    <tr>\n",
              "      <th>2</th>\n",
              "      <td>22</td>\n",
              "      <td>377</td>\n",
              "      <td>1</td>\n",
              "      <td>878887116</td>\n",
              "    </tr>\n",
              "    <tr>\n",
              "      <th>3</th>\n",
              "      <td>244</td>\n",
              "      <td>51</td>\n",
              "      <td>2</td>\n",
              "      <td>880606923</td>\n",
              "    </tr>\n",
              "    <tr>\n",
              "      <th>4</th>\n",
              "      <td>166</td>\n",
              "      <td>346</td>\n",
              "      <td>1</td>\n",
              "      <td>886397596</td>\n",
              "    </tr>\n",
              "  </tbody>\n",
              "</table>\n",
              "</div>"
            ],
            "text/plain": [
              "   user_id  movie_id  rating  timestamp\n",
              "0      196       242       3  881250949\n",
              "1      186       302       3  891717742\n",
              "2       22       377       1  878887116\n",
              "3      244        51       2  880606923\n",
              "4      166       346       1  886397596"
            ]
          },
          "execution_count": 3,
          "metadata": {},
          "output_type": "execute_result"
        }
      ],
      "source": [
        "movie_data.head()"
      ]
    },
    {
      "cell_type": "markdown",
      "metadata": {
        "id": "Y2bOM3gMRmGR"
      },
      "source": [
        "## *1.) Variety of across users*"
      ]
    },
    {
      "cell_type": "code",
      "execution_count": null,
      "metadata": {
        "id": "cDbbM5DcRmGS",
        "outputId": "d0dd807a-97bd-4520-9181-26e7cc7d59a0"
      },
      "outputs": [
        {
          "data": {
            "text/html": [
              "<div>\n",
              "<style scoped>\n",
              "    .dataframe tbody tr th:only-of-type {\n",
              "        vertical-align: middle;\n",
              "    }\n",
              "\n",
              "    .dataframe tbody tr th {\n",
              "        vertical-align: top;\n",
              "    }\n",
              "\n",
              "    .dataframe thead th {\n",
              "        text-align: right;\n",
              "    }\n",
              "</style>\n",
              "<table border=\"1\" class=\"dataframe\">\n",
              "  <thead>\n",
              "    <tr style=\"text-align: right;\">\n",
              "      <th></th>\n",
              "      <th>0</th>\n",
              "    </tr>\n",
              "  </thead>\n",
              "  <tbody>\n",
              "    <tr>\n",
              "      <th>0</th>\n",
              "      <td>943 users</td>\n",
              "    </tr>\n",
              "    <tr>\n",
              "      <th>1</th>\n",
              "      <td>1682 items</td>\n",
              "    </tr>\n",
              "    <tr>\n",
              "      <th>2</th>\n",
              "      <td>100000 ratings</td>\n",
              "    </tr>\n",
              "  </tbody>\n",
              "</table>\n",
              "</div>"
            ],
            "text/plain": [
              "                0\n",
              "0       943 users\n",
              "1      1682 items\n",
              "2  100000 ratings"
            ]
          },
          "execution_count": 4,
          "metadata": {},
          "output_type": "execute_result"
        }
      ],
      "source": [
        "inf = pd.read_table(\"https://raw.githubusercontent.com/Can-Berk/Machine_Learning_Labs/main/Datasets/ml-100k/u.info\", header=None)\n",
        "inf.head()"
      ]
    },
    {
      "cell_type": "code",
      "execution_count": null,
      "metadata": {
        "id": "mfbuh4HSRmGT"
      },
      "outputs": [],
      "source": [
        "user_rating_times = movie_data[[\"user_id\",\"movie_id\"]].groupby([\"user_id\"]).count()\n",
        "user_rating_times.columns = [\"rating_count\"]"
      ]
    },
    {
      "cell_type": "code",
      "execution_count": null,
      "metadata": {
        "id": "Wg9r2Dt5RmGU",
        "outputId": "f817aef2-6242-4e29-9a61-f833f0a5cb8d"
      },
      "outputs": [
        {
          "data": {
            "text/html": [
              "<div>\n",
              "<style scoped>\n",
              "    .dataframe tbody tr th:only-of-type {\n",
              "        vertical-align: middle;\n",
              "    }\n",
              "\n",
              "    .dataframe tbody tr th {\n",
              "        vertical-align: top;\n",
              "    }\n",
              "\n",
              "    .dataframe thead th {\n",
              "        text-align: right;\n",
              "    }\n",
              "</style>\n",
              "<table border=\"1\" class=\"dataframe\">\n",
              "  <thead>\n",
              "    <tr style=\"text-align: right;\">\n",
              "      <th></th>\n",
              "      <th>rating_count</th>\n",
              "    </tr>\n",
              "    <tr>\n",
              "      <th>user_id</th>\n",
              "      <th></th>\n",
              "    </tr>\n",
              "  </thead>\n",
              "  <tbody>\n",
              "    <tr>\n",
              "      <th>405</th>\n",
              "      <td>737</td>\n",
              "    </tr>\n",
              "    <tr>\n",
              "      <th>655</th>\n",
              "      <td>685</td>\n",
              "    </tr>\n",
              "    <tr>\n",
              "      <th>13</th>\n",
              "      <td>636</td>\n",
              "    </tr>\n",
              "    <tr>\n",
              "      <th>450</th>\n",
              "      <td>540</td>\n",
              "    </tr>\n",
              "    <tr>\n",
              "      <th>276</th>\n",
              "      <td>518</td>\n",
              "    </tr>\n",
              "  </tbody>\n",
              "</table>\n",
              "</div>"
            ],
            "text/plain": [
              "         rating_count\n",
              "user_id              \n",
              "405               737\n",
              "655               685\n",
              "13                636\n",
              "450               540\n",
              "276               518"
            ]
          },
          "execution_count": 6,
          "metadata": {},
          "output_type": "execute_result"
        }
      ],
      "source": [
        "user_rating_times.sort_values([\"rating_count\"], ascending=False).head(5)    #most active users (in terms of rating)"
      ]
    },
    {
      "cell_type": "code",
      "execution_count": null,
      "metadata": {
        "id": "sZ6Sv5h5RmGV",
        "outputId": "33749aa6-330b-4daa-9bdd-ceac81582636"
      },
      "outputs": [
        {
          "data": {
            "text/plain": [
              "Text(0, 0.5, 'Count')"
            ]
          },
          "execution_count": 7,
          "metadata": {},
          "output_type": "execute_result"
        },
        {
          "data": {
            "image/png": "[encoded data removed]",
            "text/plain": [
              "<Figure size 432x288 with 1 Axes>"
            ]
          },
          "metadata": {
            "needs_background": "light"
          },
          "output_type": "display_data"
        }
      ],
      "source": [
        "plt.hist(user_rating_times.rating_count)\n",
        "plt.grid()\n",
        "plt.xlabel(\"Rating count per user\")\n",
        "plt.ylabel(\"Count\")"
      ]
    },
    {
      "cell_type": "markdown",
      "metadata": {
        "id": "6iawCiJGRmGV"
      },
      "source": [
        "##### Explanation: Histogram shows that many users participated to rate, however, most of the votes are coming from ~220 of 943 users. Among them around 80 users voted more than 500 times which is significantly higher than rest of the users."
      ]
    },
    {
      "cell_type": "markdown",
      "metadata": {
        "id": "6wuS7jnCRmGW"
      },
      "source": [
        "## *2.) Variety of ratings across items*"
      ]
    },
    {
      "cell_type": "code",
      "execution_count": null,
      "metadata": {
        "id": "A0FpI8JqRmGW",
        "outputId": "de114928-6c6f-41f2-fb8e-0328991c09e9"
      },
      "outputs": [
        {
          "data": {
            "text/html": [
              "<div>\n",
              "<style scoped>\n",
              "    .dataframe tbody tr th:only-of-type {\n",
              "        vertical-align: middle;\n",
              "    }\n",
              "\n",
              "    .dataframe tbody tr th {\n",
              "        vertical-align: top;\n",
              "    }\n",
              "\n",
              "    .dataframe thead th {\n",
              "        text-align: right;\n",
              "    }\n",
              "</style>\n",
              "<table border=\"1\" class=\"dataframe\">\n",
              "  <thead>\n",
              "    <tr style=\"text-align: right;\">\n",
              "      <th></th>\n",
              "      <th>movie_id</th>\n",
              "      <th>title</th>\n",
              "      <th>release_date</th>\n",
              "      <th>video_release_date</th>\n",
              "      <th>IMDb URL</th>\n",
              "      <th>unknown</th>\n",
              "      <th>Action</th>\n",
              "      <th>Adventure</th>\n",
              "      <th>Animation</th>\n",
              "      <th>Children</th>\n",
              "      <th>...</th>\n",
              "      <th>Fantasy</th>\n",
              "      <th>Film-Noir</th>\n",
              "      <th>Horror</th>\n",
              "      <th>Musical</th>\n",
              "      <th>Mystery</th>\n",
              "      <th>Romance</th>\n",
              "      <th>Sci-Fi</th>\n",
              "      <th>Thriller</th>\n",
              "      <th>War</th>\n",
              "      <th>Western</th>\n",
              "    </tr>\n",
              "  </thead>\n",
              "  <tbody>\n",
              "    <tr>\n",
              "      <th>0</th>\n",
              "      <td>1</td>\n",
              "      <td>Toy Story (1995)</td>\n",
              "      <td>01-Jan-1995</td>\n",
              "      <td>NaN</td>\n",
              "      <td>http://us.imdb.com/M/title-exact?Toy%20Story%2...</td>\n",
              "      <td>0</td>\n",
              "      <td>0</td>\n",
              "      <td>0</td>\n",
              "      <td>1</td>\n",
              "      <td>1</td>\n",
              "      <td>...</td>\n",
              "      <td>0</td>\n",
              "      <td>0</td>\n",
              "      <td>0</td>\n",
              "      <td>0</td>\n",
              "      <td>0</td>\n",
              "      <td>0</td>\n",
              "      <td>0</td>\n",
              "      <td>0</td>\n",
              "      <td>0</td>\n",
              "      <td>0</td>\n",
              "    </tr>\n",
              "    <tr>\n",
              "      <th>1</th>\n",
              "      <td>2</td>\n",
              "      <td>GoldenEye (1995)</td>\n",
              "      <td>01-Jan-1995</td>\n",
              "      <td>NaN</td>\n",
              "      <td>http://us.imdb.com/M/title-exact?GoldenEye%20(...</td>\n",
              "      <td>0</td>\n",
              "      <td>1</td>\n",
              "      <td>1</td>\n",
              "      <td>0</td>\n",
              "      <td>0</td>\n",
              "      <td>...</td>\n",
              "      <td>0</td>\n",
              "      <td>0</td>\n",
              "      <td>0</td>\n",
              "      <td>0</td>\n",
              "      <td>0</td>\n",
              "      <td>0</td>\n",
              "      <td>0</td>\n",
              "      <td>1</td>\n",
              "      <td>0</td>\n",
              "      <td>0</td>\n",
              "    </tr>\n",
              "    <tr>\n",
              "      <th>2</th>\n",
              "      <td>3</td>\n",
              "      <td>Four Rooms (1995)</td>\n",
              "      <td>01-Jan-1995</td>\n",
              "      <td>NaN</td>\n",
              "      <td>http://us.imdb.com/M/title-exact?Four%20Rooms%...</td>\n",
              "      <td>0</td>\n",
              "      <td>0</td>\n",
              "      <td>0</td>\n",
              "      <td>0</td>\n",
              "      <td>0</td>\n",
              "      <td>...</td>\n",
              "      <td>0</td>\n",
              "      <td>0</td>\n",
              "      <td>0</td>\n",
              "      <td>0</td>\n",
              "      <td>0</td>\n",
              "      <td>0</td>\n",
              "      <td>0</td>\n",
              "      <td>1</td>\n",
              "      <td>0</td>\n",
              "      <td>0</td>\n",
              "    </tr>\n",
              "    <tr>\n",
              "      <th>3</th>\n",
              "      <td>4</td>\n",
              "      <td>Get Shorty (1995)</td>\n",
              "      <td>01-Jan-1995</td>\n",
              "      <td>NaN</td>\n",
              "      <td>http://us.imdb.com/M/title-exact?Get%20Shorty%...</td>\n",
              "      <td>0</td>\n",
              "      <td>1</td>\n",
              "      <td>0</td>\n",
              "      <td>0</td>\n",
              "      <td>0</td>\n",
              "      <td>...</td>\n",
              "      <td>0</td>\n",
              "      <td>0</td>\n",
              "      <td>0</td>\n",
              "      <td>0</td>\n",
              "      <td>0</td>\n",
              "      <td>0</td>\n",
              "      <td>0</td>\n",
              "      <td>0</td>\n",
              "      <td>0</td>\n",
              "      <td>0</td>\n",
              "    </tr>\n",
              "    <tr>\n",
              "      <th>4</th>\n",
              "      <td>5</td>\n",
              "      <td>Copycat (1995)</td>\n",
              "      <td>01-Jan-1995</td>\n",
              "      <td>NaN</td>\n",
              "      <td>http://us.imdb.com/M/title-exact?Copycat%20(1995)</td>\n",
              "      <td>0</td>\n",
              "      <td>0</td>\n",
              "      <td>0</td>\n",
              "      <td>0</td>\n",
              "      <td>0</td>\n",
              "      <td>...</td>\n",
              "      <td>0</td>\n",
              "      <td>0</td>\n",
              "      <td>0</td>\n",
              "      <td>0</td>\n",
              "      <td>0</td>\n",
              "      <td>0</td>\n",
              "      <td>0</td>\n",
              "      <td>1</td>\n",
              "      <td>0</td>\n",
              "      <td>0</td>\n",
              "    </tr>\n",
              "  </tbody>\n",
              "</table>\n",
              "<p>5 rows × 24 columns</p>\n",
              "</div>"
            ],
            "text/plain": [
              "   movie_id              title release_date  video_release_date  \\\n",
              "0         1   Toy Story (1995)  01-Jan-1995                 NaN   \n",
              "1         2   GoldenEye (1995)  01-Jan-1995                 NaN   \n",
              "2         3  Four Rooms (1995)  01-Jan-1995                 NaN   \n",
              "3         4  Get Shorty (1995)  01-Jan-1995                 NaN   \n",
              "4         5     Copycat (1995)  01-Jan-1995                 NaN   \n",
              "\n",
              "                                            IMDb URL  unknown  Action  \\\n",
              "0  http://us.imdb.com/M/title-exact?Toy%20Story%2...        0       0   \n",
              "1  http://us.imdb.com/M/title-exact?GoldenEye%20(...        0       1   \n",
              "2  http://us.imdb.com/M/title-exact?Four%20Rooms%...        0       0   \n",
              "3  http://us.imdb.com/M/title-exact?Get%20Shorty%...        0       1   \n",
              "4  http://us.imdb.com/M/title-exact?Copycat%20(1995)        0       0   \n",
              "\n",
              "   Adventure  Animation  Children  ...  Fantasy  Film-Noir  Horror  Musical  \\\n",
              "0          0          1         1  ...        0          0       0        0   \n",
              "1          1          0         0  ...        0          0       0        0   \n",
              "2          0          0         0  ...        0          0       0        0   \n",
              "3          0          0         0  ...        0          0       0        0   \n",
              "4          0          0         0  ...        0          0       0        0   \n",
              "\n",
              "   Mystery  Romance  Sci-Fi  Thriller  War  Western  \n",
              "0        0        0       0         0    0        0  \n",
              "1        0        0       0         1    0        0  \n",
              "2        0        0       0         1    0        0  \n",
              "3        0        0       0         0    0        0  \n",
              "4        0        0       0         1    0        0  \n",
              "\n",
              "[5 rows x 24 columns]"
            ]
          },
          "execution_count": 8,
          "metadata": {},
          "output_type": "execute_result"
        }
      ],
      "source": [
        "item_cols = ['movie_id', 'title', 'release_date' , 'video_release_date', 'IMDb URL',           #item data\n",
        "           'unknown', 'Action', 'Adventure', 'Animation', 'Children', 'Comedy', 'Crime',\n",
        "           'Documentary', 'Drama','Fantasy','Film-Noir','Horror','Musical', \n",
        "           'Mystery','Romance','Sci-Fi','Thriller','War','Western']\n",
        "movie_item = pd.read_csv(\"https://raw.githubusercontent.com/Can-Berk/Machine_Learning_Labs/main/Datasets/ml-100k/u.item\", sep='|', names=item_cols, encoding='latin-1')\n",
        "movie_item.head()"
      ]
    },
    {
      "cell_type": "code",
      "execution_count": null,
      "metadata": {
        "id": "tg5UhDIsRmGW"
      },
      "outputs": [],
      "source": [
        "data_item = pd.merge(movie_data, movie_item, on=\"movie_id\")"
      ]
    },
    {
      "cell_type": "code",
      "execution_count": null,
      "metadata": {
        "id": "JQnnPnP-RmGX"
      },
      "outputs": [],
      "source": [
        "movie_rating_avg = data_item[[\"title\", \"rating\"]].groupby([\"title\"]).agg([\"mean\", \"count\"])\n",
        "movie_rating_avg.columns = [\"avg_rating\",\"times\"]"
      ]
    },
    {
      "cell_type": "code",
      "execution_count": null,
      "metadata": {
        "id": "24KaEPb7RmGX",
        "outputId": "9e4d74e3-4b9e-4e57-be80-74f29982f330"
      },
      "outputs": [
        {
          "data": {
            "text/html": [
              "<div>\n",
              "<style scoped>\n",
              "    .dataframe tbody tr th:only-of-type {\n",
              "        vertical-align: middle;\n",
              "    }\n",
              "\n",
              "    .dataframe tbody tr th {\n",
              "        vertical-align: top;\n",
              "    }\n",
              "\n",
              "    .dataframe thead th {\n",
              "        text-align: right;\n",
              "    }\n",
              "</style>\n",
              "<table border=\"1\" class=\"dataframe\">\n",
              "  <thead>\n",
              "    <tr style=\"text-align: right;\">\n",
              "      <th></th>\n",
              "      <th>avg_rating</th>\n",
              "      <th>times</th>\n",
              "    </tr>\n",
              "    <tr>\n",
              "      <th>title</th>\n",
              "      <th></th>\n",
              "      <th></th>\n",
              "    </tr>\n",
              "  </thead>\n",
              "  <tbody>\n",
              "    <tr>\n",
              "      <th>They Made Me a Criminal (1939)</th>\n",
              "      <td>5.0</td>\n",
              "      <td>1</td>\n",
              "    </tr>\n",
              "    <tr>\n",
              "      <th>Marlene Dietrich: Shadow and Light (1996)</th>\n",
              "      <td>5.0</td>\n",
              "      <td>1</td>\n",
              "    </tr>\n",
              "    <tr>\n",
              "      <th>Saint of Fort Washington, The (1993)</th>\n",
              "      <td>5.0</td>\n",
              "      <td>2</td>\n",
              "    </tr>\n",
              "    <tr>\n",
              "      <th>Someone Else's America (1995)</th>\n",
              "      <td>5.0</td>\n",
              "      <td>1</td>\n",
              "    </tr>\n",
              "    <tr>\n",
              "      <th>Star Kid (1997)</th>\n",
              "      <td>5.0</td>\n",
              "      <td>3</td>\n",
              "    </tr>\n",
              "    <tr>\n",
              "      <th>...</th>\n",
              "      <td>...</td>\n",
              "      <td>...</td>\n",
              "    </tr>\n",
              "    <tr>\n",
              "      <th>Eye of Vichy, The (Oeil de Vichy, L') (1993)</th>\n",
              "      <td>1.0</td>\n",
              "      <td>1</td>\n",
              "    </tr>\n",
              "    <tr>\n",
              "      <th>King of New York (1990)</th>\n",
              "      <td>1.0</td>\n",
              "      <td>1</td>\n",
              "    </tr>\n",
              "    <tr>\n",
              "      <th>Touki Bouki (Journey of the Hyena) (1973)</th>\n",
              "      <td>1.0</td>\n",
              "      <td>1</td>\n",
              "    </tr>\n",
              "    <tr>\n",
              "      <th>Bloody Child, The (1996)</th>\n",
              "      <td>1.0</td>\n",
              "      <td>1</td>\n",
              "    </tr>\n",
              "    <tr>\n",
              "      <th>Crude Oasis, The (1995)</th>\n",
              "      <td>1.0</td>\n",
              "      <td>1</td>\n",
              "    </tr>\n",
              "  </tbody>\n",
              "</table>\n",
              "<p>1664 rows × 2 columns</p>\n",
              "</div>"
            ],
            "text/plain": [
              "                                              avg_rating  times\n",
              "title                                                          \n",
              "They Made Me a Criminal (1939)                       5.0      1\n",
              "Marlene Dietrich: Shadow and Light (1996)            5.0      1\n",
              "Saint of Fort Washington, The (1993)                 5.0      2\n",
              "Someone Else's America (1995)                        5.0      1\n",
              "Star Kid (1997)                                      5.0      3\n",
              "...                                                  ...    ...\n",
              "Eye of Vichy, The (Oeil de Vichy, L') (1993)         1.0      1\n",
              "King of New York (1990)                              1.0      1\n",
              "Touki Bouki (Journey of the Hyena) (1973)            1.0      1\n",
              "Bloody Child, The (1996)                             1.0      1\n",
              "Crude Oasis, The (1995)                              1.0      1\n",
              "\n",
              "[1664 rows x 2 columns]"
            ]
          },
          "execution_count": 11,
          "metadata": {},
          "output_type": "execute_result"
        }
      ],
      "source": [
        "movie_rating_avg.sort_values(['avg_rating'], ascending=False)"
      ]
    },
    {
      "cell_type": "code",
      "execution_count": null,
      "metadata": {
        "id": "w9uWlRdPRmGX",
        "outputId": "832d33d2-b012-4136-c703-28bdae274487"
      },
      "outputs": [
        {
          "name": "stdout",
          "output_type": "stream",
          "text": [
            "average rating of user 3.5882\n"
          ]
        }
      ],
      "source": [
        "rating_avg = movie_data[[\"user_id\",\"rating\"]].groupby([\"user_id\"]).mean()\n",
        "rating_avg.columns = [\"rating_count\"]\n",
        "print(\"average rating of user\",round(np.average(rating_avg),4))"
      ]
    },
    {
      "cell_type": "code",
      "execution_count": null,
      "metadata": {
        "id": "Zfpc0cEdRmGY",
        "outputId": "949a7a7c-387b-4bf5-f453-a897b70dad22"
      },
      "outputs": [
        {
          "data": {
            "text/plain": [
              "Text(0, 0.5, 'Count')"
            ]
          },
          "execution_count": 13,
          "metadata": {},
          "output_type": "execute_result"
        },
        {
          "data": {
            "image/png": "[encoded data removed]",
            "text/plain": [
              "<Figure size 432x288 with 1 Axes>"
            ]
          },
          "metadata": {
            "needs_background": "light"
          },
          "output_type": "display_data"
        }
      ],
      "source": [
        "plt.hist(rating_avg.rating_count)\n",
        "plt.grid()\n",
        "plt.xlabel(\"Rating mean of users\")\n",
        "plt.ylabel(\"Count\")"
      ]
    },
    {
      "cell_type": "markdown",
      "metadata": {
        "id": "bepzSDqHRmGY"
      },
      "source": [
        "##### Explanation: Average rating of movies are shown in the table with the given number of votes. Ratings vary from 1-bad to 5-perfect. We see most of the extreme points are based on few votes, while average rating of all users is 3.5882. Therefore, it would be better to filter movies for at least 10 number of votes. In the table, we can see \"Star Kid\" movie can be considered more reliable option. "
      ]
    },
    {
      "cell_type": "markdown",
      "metadata": {
        "id": "790wUaFORmGZ"
      },
      "source": [
        "## *3.) Genres that are more highly rated than others*"
      ]
    },
    {
      "cell_type": "code",
      "execution_count": null,
      "metadata": {
        "id": "2y-ARvzPRmGZ",
        "outputId": "bf81831f-c59f-4819-d300-b9f7ec635077"
      },
      "outputs": [
        {
          "data": {
            "text/plain": [
              "Index(['user_id', 'movie_id', 'rating', 'timestamp', 'title', 'release_date',\n",
              "       'video_release_date', 'IMDb URL', 'unknown', 'Action', 'Adventure',\n",
              "       'Animation', 'Children', 'Comedy', 'Crime', 'Documentary', 'Drama',\n",
              "       'Fantasy', 'Film-Noir', 'Horror', 'Musical', 'Mystery', 'Romance',\n",
              "       'Sci-Fi', 'Thriller', 'War', 'Western'],\n",
              "      dtype='object')"
            ]
          },
          "execution_count": 14,
          "metadata": {},
          "output_type": "execute_result"
        }
      ],
      "source": [
        "data_item.columns"
      ]
    },
    {
      "cell_type": "code",
      "execution_count": null,
      "metadata": {
        "id": "wjcn3-IdRmGa"
      },
      "outputs": [],
      "source": [
        "df = data_item.drop([\"user_id\",\"movie_id\",\"rating\",\"timestamp\",\"title\",\"release_date\",\"video_release_date\",\"IMDb URL\"],axis=1)"
      ]
    },
    {
      "cell_type": "code",
      "execution_count": null,
      "metadata": {
        "id": "5Pjo2FIQRmGa",
        "outputId": "57d14638-660e-4c16-b56b-bd4882976235"
      },
      "outputs": [
        {
          "data": {
            "text/html": [
              "<div>\n",
              "<style scoped>\n",
              "    .dataframe tbody tr th:only-of-type {\n",
              "        vertical-align: middle;\n",
              "    }\n",
              "\n",
              "    .dataframe tbody tr th {\n",
              "        vertical-align: top;\n",
              "    }\n",
              "\n",
              "    .dataframe thead th {\n",
              "        text-align: right;\n",
              "    }\n",
              "</style>\n",
              "<table border=\"1\" class=\"dataframe\">\n",
              "  <thead>\n",
              "    <tr style=\"text-align: right;\">\n",
              "      <th></th>\n",
              "      <th>unknown</th>\n",
              "      <th>Action</th>\n",
              "      <th>Adventure</th>\n",
              "      <th>Animation</th>\n",
              "      <th>Children</th>\n",
              "      <th>Comedy</th>\n",
              "      <th>Crime</th>\n",
              "      <th>Documentary</th>\n",
              "      <th>Drama</th>\n",
              "      <th>Fantasy</th>\n",
              "      <th>Film-Noir</th>\n",
              "      <th>Horror</th>\n",
              "      <th>Musical</th>\n",
              "      <th>Mystery</th>\n",
              "      <th>Romance</th>\n",
              "      <th>Sci-Fi</th>\n",
              "      <th>Thriller</th>\n",
              "      <th>War</th>\n",
              "      <th>Western</th>\n",
              "    </tr>\n",
              "  </thead>\n",
              "  <tbody>\n",
              "    <tr>\n",
              "      <th>0</th>\n",
              "      <td>0</td>\n",
              "      <td>0</td>\n",
              "      <td>0</td>\n",
              "      <td>0</td>\n",
              "      <td>0</td>\n",
              "      <td>1</td>\n",
              "      <td>0</td>\n",
              "      <td>0</td>\n",
              "      <td>0</td>\n",
              "      <td>0</td>\n",
              "      <td>0</td>\n",
              "      <td>0</td>\n",
              "      <td>0</td>\n",
              "      <td>0</td>\n",
              "      <td>0</td>\n",
              "      <td>0</td>\n",
              "      <td>0</td>\n",
              "      <td>0</td>\n",
              "      <td>0</td>\n",
              "    </tr>\n",
              "    <tr>\n",
              "      <th>1</th>\n",
              "      <td>0</td>\n",
              "      <td>0</td>\n",
              "      <td>0</td>\n",
              "      <td>0</td>\n",
              "      <td>0</td>\n",
              "      <td>1</td>\n",
              "      <td>0</td>\n",
              "      <td>0</td>\n",
              "      <td>0</td>\n",
              "      <td>0</td>\n",
              "      <td>0</td>\n",
              "      <td>0</td>\n",
              "      <td>0</td>\n",
              "      <td>0</td>\n",
              "      <td>0</td>\n",
              "      <td>0</td>\n",
              "      <td>0</td>\n",
              "      <td>0</td>\n",
              "      <td>0</td>\n",
              "    </tr>\n",
              "    <tr>\n",
              "      <th>2</th>\n",
              "      <td>0</td>\n",
              "      <td>0</td>\n",
              "      <td>0</td>\n",
              "      <td>0</td>\n",
              "      <td>0</td>\n",
              "      <td>1</td>\n",
              "      <td>0</td>\n",
              "      <td>0</td>\n",
              "      <td>0</td>\n",
              "      <td>0</td>\n",
              "      <td>0</td>\n",
              "      <td>0</td>\n",
              "      <td>0</td>\n",
              "      <td>0</td>\n",
              "      <td>0</td>\n",
              "      <td>0</td>\n",
              "      <td>0</td>\n",
              "      <td>0</td>\n",
              "      <td>0</td>\n",
              "    </tr>\n",
              "    <tr>\n",
              "      <th>3</th>\n",
              "      <td>0</td>\n",
              "      <td>0</td>\n",
              "      <td>0</td>\n",
              "      <td>0</td>\n",
              "      <td>0</td>\n",
              "      <td>1</td>\n",
              "      <td>0</td>\n",
              "      <td>0</td>\n",
              "      <td>0</td>\n",
              "      <td>0</td>\n",
              "      <td>0</td>\n",
              "      <td>0</td>\n",
              "      <td>0</td>\n",
              "      <td>0</td>\n",
              "      <td>0</td>\n",
              "      <td>0</td>\n",
              "      <td>0</td>\n",
              "      <td>0</td>\n",
              "      <td>0</td>\n",
              "    </tr>\n",
              "    <tr>\n",
              "      <th>4</th>\n",
              "      <td>0</td>\n",
              "      <td>0</td>\n",
              "      <td>0</td>\n",
              "      <td>0</td>\n",
              "      <td>0</td>\n",
              "      <td>1</td>\n",
              "      <td>0</td>\n",
              "      <td>0</td>\n",
              "      <td>0</td>\n",
              "      <td>0</td>\n",
              "      <td>0</td>\n",
              "      <td>0</td>\n",
              "      <td>0</td>\n",
              "      <td>0</td>\n",
              "      <td>0</td>\n",
              "      <td>0</td>\n",
              "      <td>0</td>\n",
              "      <td>0</td>\n",
              "      <td>0</td>\n",
              "    </tr>\n",
              "    <tr>\n",
              "      <th>...</th>\n",
              "      <td>...</td>\n",
              "      <td>...</td>\n",
              "      <td>...</td>\n",
              "      <td>...</td>\n",
              "      <td>...</td>\n",
              "      <td>...</td>\n",
              "      <td>...</td>\n",
              "      <td>...</td>\n",
              "      <td>...</td>\n",
              "      <td>...</td>\n",
              "      <td>...</td>\n",
              "      <td>...</td>\n",
              "      <td>...</td>\n",
              "      <td>...</td>\n",
              "      <td>...</td>\n",
              "      <td>...</td>\n",
              "      <td>...</td>\n",
              "      <td>...</td>\n",
              "      <td>...</td>\n",
              "    </tr>\n",
              "    <tr>\n",
              "      <th>99995</th>\n",
              "      <td>0</td>\n",
              "      <td>0</td>\n",
              "      <td>0</td>\n",
              "      <td>0</td>\n",
              "      <td>0</td>\n",
              "      <td>0</td>\n",
              "      <td>0</td>\n",
              "      <td>0</td>\n",
              "      <td>1</td>\n",
              "      <td>0</td>\n",
              "      <td>0</td>\n",
              "      <td>0</td>\n",
              "      <td>0</td>\n",
              "      <td>0</td>\n",
              "      <td>0</td>\n",
              "      <td>0</td>\n",
              "      <td>0</td>\n",
              "      <td>0</td>\n",
              "      <td>0</td>\n",
              "    </tr>\n",
              "    <tr>\n",
              "      <th>99996</th>\n",
              "      <td>0</td>\n",
              "      <td>0</td>\n",
              "      <td>0</td>\n",
              "      <td>0</td>\n",
              "      <td>0</td>\n",
              "      <td>0</td>\n",
              "      <td>0</td>\n",
              "      <td>0</td>\n",
              "      <td>1</td>\n",
              "      <td>0</td>\n",
              "      <td>0</td>\n",
              "      <td>0</td>\n",
              "      <td>0</td>\n",
              "      <td>0</td>\n",
              "      <td>0</td>\n",
              "      <td>0</td>\n",
              "      <td>0</td>\n",
              "      <td>0</td>\n",
              "      <td>0</td>\n",
              "    </tr>\n",
              "    <tr>\n",
              "      <th>99997</th>\n",
              "      <td>0</td>\n",
              "      <td>0</td>\n",
              "      <td>0</td>\n",
              "      <td>0</td>\n",
              "      <td>0</td>\n",
              "      <td>0</td>\n",
              "      <td>0</td>\n",
              "      <td>0</td>\n",
              "      <td>1</td>\n",
              "      <td>0</td>\n",
              "      <td>0</td>\n",
              "      <td>0</td>\n",
              "      <td>0</td>\n",
              "      <td>0</td>\n",
              "      <td>0</td>\n",
              "      <td>0</td>\n",
              "      <td>0</td>\n",
              "      <td>0</td>\n",
              "      <td>0</td>\n",
              "    </tr>\n",
              "    <tr>\n",
              "      <th>99998</th>\n",
              "      <td>0</td>\n",
              "      <td>0</td>\n",
              "      <td>0</td>\n",
              "      <td>0</td>\n",
              "      <td>0</td>\n",
              "      <td>0</td>\n",
              "      <td>0</td>\n",
              "      <td>0</td>\n",
              "      <td>1</td>\n",
              "      <td>0</td>\n",
              "      <td>0</td>\n",
              "      <td>0</td>\n",
              "      <td>0</td>\n",
              "      <td>0</td>\n",
              "      <td>0</td>\n",
              "      <td>0</td>\n",
              "      <td>0</td>\n",
              "      <td>0</td>\n",
              "      <td>0</td>\n",
              "    </tr>\n",
              "    <tr>\n",
              "      <th>99999</th>\n",
              "      <td>0</td>\n",
              "      <td>0</td>\n",
              "      <td>0</td>\n",
              "      <td>0</td>\n",
              "      <td>0</td>\n",
              "      <td>0</td>\n",
              "      <td>0</td>\n",
              "      <td>1</td>\n",
              "      <td>0</td>\n",
              "      <td>0</td>\n",
              "      <td>0</td>\n",
              "      <td>0</td>\n",
              "      <td>0</td>\n",
              "      <td>0</td>\n",
              "      <td>0</td>\n",
              "      <td>0</td>\n",
              "      <td>0</td>\n",
              "      <td>0</td>\n",
              "      <td>0</td>\n",
              "    </tr>\n",
              "  </tbody>\n",
              "</table>\n",
              "<p>100000 rows × 19 columns</p>\n",
              "</div>"
            ],
            "text/plain": [
              "       unknown  Action  Adventure  Animation  Children  Comedy  Crime  \\\n",
              "0            0       0          0          0         0       1      0   \n",
              "1            0       0          0          0         0       1      0   \n",
              "2            0       0          0          0         0       1      0   \n",
              "3            0       0          0          0         0       1      0   \n",
              "4            0       0          0          0         0       1      0   \n",
              "...        ...     ...        ...        ...       ...     ...    ...   \n",
              "99995        0       0          0          0         0       0      0   \n",
              "99996        0       0          0          0         0       0      0   \n",
              "99997        0       0          0          0         0       0      0   \n",
              "99998        0       0          0          0         0       0      0   \n",
              "99999        0       0          0          0         0       0      0   \n",
              "\n",
              "       Documentary  Drama  Fantasy  Film-Noir  Horror  Musical  Mystery  \\\n",
              "0                0      0        0          0       0        0        0   \n",
              "1                0      0        0          0       0        0        0   \n",
              "2                0      0        0          0       0        0        0   \n",
              "3                0      0        0          0       0        0        0   \n",
              "4                0      0        0          0       0        0        0   \n",
              "...            ...    ...      ...        ...     ...      ...      ...   \n",
              "99995            0      1        0          0       0        0        0   \n",
              "99996            0      1        0          0       0        0        0   \n",
              "99997            0      1        0          0       0        0        0   \n",
              "99998            0      1        0          0       0        0        0   \n",
              "99999            1      0        0          0       0        0        0   \n",
              "\n",
              "       Romance  Sci-Fi  Thriller  War  Western  \n",
              "0            0       0         0    0        0  \n",
              "1            0       0         0    0        0  \n",
              "2            0       0         0    0        0  \n",
              "3            0       0         0    0        0  \n",
              "4            0       0         0    0        0  \n",
              "...        ...     ...       ...  ...      ...  \n",
              "99995        0       0         0    0        0  \n",
              "99996        0       0         0    0        0  \n",
              "99997        0       0         0    0        0  \n",
              "99998        0       0         0    0        0  \n",
              "99999        0       0         0    0        0  \n",
              "\n",
              "[100000 rows x 19 columns]"
            ]
          },
          "execution_count": 16,
          "metadata": {},
          "output_type": "execute_result"
        }
      ],
      "source": [
        "df"
      ]
    },
    {
      "cell_type": "code",
      "execution_count": null,
      "metadata": {
        "id": "Lmq_1qzLRmGa",
        "outputId": "02f0f8ef-8f39-4c54-d5ee-e46d8769d3ec"
      },
      "outputs": [
        {
          "name": "stdout",
          "output_type": "stream",
          "text": [
            "Drama          39895\n",
            "Comedy         29832\n",
            "Action         25589\n",
            "Thriller       21872\n",
            "Romance        19461\n",
            "Adventure      13753\n",
            "Sci-Fi         12730\n",
            "War             9398\n",
            "Crime           8055\n",
            "Children        7182\n",
            "Horror          5317\n",
            "Mystery         5245\n",
            "Musical         4954\n",
            "Animation       3605\n",
            "Western         1854\n",
            "Film-Noir       1733\n",
            "Fantasy         1352\n",
            "Documentary      758\n",
            "unknown           10\n",
            "dtype: int64\n"
          ]
        }
      ],
      "source": [
        "genre_rated_times = df.sum().sort_values(ascending=False)\n",
        "print(genre_rated_times)"
      ]
    },
    {
      "cell_type": "code",
      "execution_count": null,
      "metadata": {
        "id": "9zY8VBMkRmGb",
        "outputId": "9a983662-bfdf-4f4b-d44a-b032bbd97dff"
      },
      "outputs": [
        {
          "data": {
            "image/png": "[encoded data removed]",
            "text/plain": [
              "<Figure size 1800x936 with 1 Axes>"
            ]
          },
          "metadata": {
            "needs_background": "light"
          },
          "output_type": "display_data"
        }
      ],
      "source": [
        "plt.figure(figsize=(25,13))\n",
        "plt.plot(genre_rated_times)\n",
        "plt.ylabel(\"Number of times rated\")\n",
        "plt.yticks(fontsize=16)\n",
        "plt.xlabel(\"Genres\")\n",
        "plt.xticks(rotation='vertical',fontsize=16)\n",
        "plt.show()"
      ]
    },
    {
      "cell_type": "markdown",
      "metadata": {
        "id": "hNqxKaBDRmGc"
      },
      "source": [
        "##### Explanation: Looking at the graph, Drama is the most rated genre in the dataset. Followed by comedy and action. Documentery is the least rated genre, while there are not many unknown genre in the dataset."
      ]
    },
    {
      "cell_type": "markdown",
      "metadata": {
        "id": "Uixx0Za8RmGd"
      },
      "source": [
        "## 4.) Preferred genres based on ratings of age groups within bins (0-17, 18-23, ... 60+)"
      ]
    },
    {
      "cell_type": "code",
      "execution_count": null,
      "metadata": {
        "id": "F-S4nmRmRmGd",
        "outputId": "b4d9e12e-af1a-4d9b-d6fa-f792cea2ea80"
      },
      "outputs": [
        {
          "data": {
            "text/html": [
              "<div>\n",
              "<style scoped>\n",
              "    .dataframe tbody tr th:only-of-type {\n",
              "        vertical-align: middle;\n",
              "    }\n",
              "\n",
              "    .dataframe tbody tr th {\n",
              "        vertical-align: top;\n",
              "    }\n",
              "\n",
              "    .dataframe thead th {\n",
              "        text-align: right;\n",
              "    }\n",
              "</style>\n",
              "<table border=\"1\" class=\"dataframe\">\n",
              "  <thead>\n",
              "    <tr style=\"text-align: right;\">\n",
              "      <th></th>\n",
              "      <th>user_id</th>\n",
              "      <th>age</th>\n",
              "      <th>gender</th>\n",
              "      <th>occupation</th>\n",
              "      <th>zip_code</th>\n",
              "    </tr>\n",
              "  </thead>\n",
              "  <tbody>\n",
              "    <tr>\n",
              "      <th>0</th>\n",
              "      <td>1</td>\n",
              "      <td>24</td>\n",
              "      <td>M</td>\n",
              "      <td>technician</td>\n",
              "      <td>85711</td>\n",
              "    </tr>\n",
              "    <tr>\n",
              "      <th>1</th>\n",
              "      <td>2</td>\n",
              "      <td>53</td>\n",
              "      <td>F</td>\n",
              "      <td>other</td>\n",
              "      <td>94043</td>\n",
              "    </tr>\n",
              "    <tr>\n",
              "      <th>2</th>\n",
              "      <td>3</td>\n",
              "      <td>23</td>\n",
              "      <td>M</td>\n",
              "      <td>writer</td>\n",
              "      <td>32067</td>\n",
              "    </tr>\n",
              "    <tr>\n",
              "      <th>3</th>\n",
              "      <td>4</td>\n",
              "      <td>24</td>\n",
              "      <td>M</td>\n",
              "      <td>technician</td>\n",
              "      <td>43537</td>\n",
              "    </tr>\n",
              "    <tr>\n",
              "      <th>4</th>\n",
              "      <td>5</td>\n",
              "      <td>33</td>\n",
              "      <td>F</td>\n",
              "      <td>other</td>\n",
              "      <td>15213</td>\n",
              "    </tr>\n",
              "  </tbody>\n",
              "</table>\n",
              "</div>"
            ],
            "text/plain": [
              "   user_id  age gender  occupation zip_code\n",
              "0        1   24      M  technician    85711\n",
              "1        2   53      F       other    94043\n",
              "2        3   23      M      writer    32067\n",
              "3        4   24      M  technician    43537\n",
              "4        5   33      F       other    15213"
            ]
          },
          "execution_count": 19,
          "metadata": {},
          "output_type": "execute_result"
        }
      ],
      "source": [
        "user = pd.read_table(\"https://raw.githubusercontent.com/Can-Berk/Machine_Learning_Labs/main/Datasets/ml-100k/u.user\", engine=\"python\",sep=\"|\", decimal=\".\", header=None)\n",
        "user.columns = [\"user_id\", \"age\", \"gender\", \"occupation\", \"zip_code\"]\n",
        "user.head()"
      ]
    },
    {
      "cell_type": "code",
      "execution_count": null,
      "metadata": {
        "id": "AKWUk9m7RmGd"
      },
      "outputs": [],
      "source": [
        "def age_interval(x):\n",
        "    if x<18:\n",
        "        b='0-18'\n",
        "    elif x>=18 and x<24:\n",
        "        b='18-24'\n",
        "    elif x>=24 and x<34:\n",
        "        b='24-34'\n",
        "    elif x>=34 and x<44:\n",
        "        b='34-44'\n",
        "    elif x>=44 and x<54:\n",
        "        b='44-54'\n",
        "    elif x>=54 and x<60:\n",
        "        b='54-60'\n",
        "    else:\n",
        "        b='60+'\n",
        "    return b"
      ]
    },
    {
      "cell_type": "code",
      "execution_count": null,
      "metadata": {
        "id": "GKwtzgHaRmGe",
        "outputId": "7b3572c8-189e-480e-a8a8-5a58c06cdb04"
      },
      "outputs": [
        {
          "data": {
            "text/html": [
              "<div>\n",
              "<style scoped>\n",
              "    .dataframe tbody tr th:only-of-type {\n",
              "        vertical-align: middle;\n",
              "    }\n",
              "\n",
              "    .dataframe tbody tr th {\n",
              "        vertical-align: top;\n",
              "    }\n",
              "\n",
              "    .dataframe thead th {\n",
              "        text-align: right;\n",
              "    }\n",
              "</style>\n",
              "<table border=\"1\" class=\"dataframe\">\n",
              "  <thead>\n",
              "    <tr style=\"text-align: right;\">\n",
              "      <th></th>\n",
              "      <th>user_id</th>\n",
              "      <th>age</th>\n",
              "      <th>gender</th>\n",
              "      <th>occupation</th>\n",
              "      <th>zip_code</th>\n",
              "      <th>age_bins</th>\n",
              "    </tr>\n",
              "  </thead>\n",
              "  <tbody>\n",
              "    <tr>\n",
              "      <th>0</th>\n",
              "      <td>1</td>\n",
              "      <td>24</td>\n",
              "      <td>M</td>\n",
              "      <td>technician</td>\n",
              "      <td>85711</td>\n",
              "      <td>24-34</td>\n",
              "    </tr>\n",
              "    <tr>\n",
              "      <th>1</th>\n",
              "      <td>2</td>\n",
              "      <td>53</td>\n",
              "      <td>F</td>\n",
              "      <td>other</td>\n",
              "      <td>94043</td>\n",
              "      <td>44-54</td>\n",
              "    </tr>\n",
              "    <tr>\n",
              "      <th>2</th>\n",
              "      <td>3</td>\n",
              "      <td>23</td>\n",
              "      <td>M</td>\n",
              "      <td>writer</td>\n",
              "      <td>32067</td>\n",
              "      <td>18-24</td>\n",
              "    </tr>\n",
              "    <tr>\n",
              "      <th>3</th>\n",
              "      <td>4</td>\n",
              "      <td>24</td>\n",
              "      <td>M</td>\n",
              "      <td>technician</td>\n",
              "      <td>43537</td>\n",
              "      <td>24-34</td>\n",
              "    </tr>\n",
              "    <tr>\n",
              "      <th>4</th>\n",
              "      <td>5</td>\n",
              "      <td>33</td>\n",
              "      <td>F</td>\n",
              "      <td>other</td>\n",
              "      <td>15213</td>\n",
              "      <td>24-34</td>\n",
              "    </tr>\n",
              "  </tbody>\n",
              "</table>\n",
              "</div>"
            ],
            "text/plain": [
              "   user_id  age gender  occupation zip_code age_bins\n",
              "0        1   24      M  technician    85711    24-34\n",
              "1        2   53      F       other    94043    44-54\n",
              "2        3   23      M      writer    32067    18-24\n",
              "3        4   24      M  technician    43537    24-34\n",
              "4        5   33      F       other    15213    24-34"
            ]
          },
          "execution_count": 21,
          "metadata": {},
          "output_type": "execute_result"
        }
      ],
      "source": [
        "age_intervals=user['age'].apply(age_interval)\n",
        "user['age_bins'] = age_intervals.values\n",
        "user.head()"
      ]
    },
    {
      "cell_type": "code",
      "execution_count": null,
      "metadata": {
        "id": "MmzyQEmZRmGe"
      },
      "outputs": [],
      "source": [
        "data_item = pd.merge(movie_data, movie_item, on=\"movie_id\")\n",
        "data_item_user = pd.merge(data_item, user, on=\"user_id\")"
      ]
    },
    {
      "cell_type": "code",
      "execution_count": null,
      "metadata": {
        "id": "cSw1a5SJRmGe"
      },
      "outputs": [],
      "source": [
        "data_item_user = data_item_user.drop([\"user_id\",\"movie_id\",\"timestamp\",\"title\",\"release_date\",\"video_release_date\",\"IMDb URL\",\"gender\",\"occupation\",\"zip_code\",\"age\"],axis=1)"
      ]
    },
    {
      "cell_type": "code",
      "execution_count": null,
      "metadata": {
        "id": "29wqipNuRmGe",
        "outputId": "bd943aa1-4f2a-413e-c227-ec061b606632"
      },
      "outputs": [
        {
          "data": {
            "text/html": [
              "<div>\n",
              "<style scoped>\n",
              "    .dataframe tbody tr th:only-of-type {\n",
              "        vertical-align: middle;\n",
              "    }\n",
              "\n",
              "    .dataframe tbody tr th {\n",
              "        vertical-align: top;\n",
              "    }\n",
              "\n",
              "    .dataframe thead th {\n",
              "        text-align: right;\n",
              "    }\n",
              "</style>\n",
              "<table border=\"1\" class=\"dataframe\">\n",
              "  <thead>\n",
              "    <tr style=\"text-align: right;\">\n",
              "      <th></th>\n",
              "      <th>rating</th>\n",
              "      <th>unknown</th>\n",
              "      <th>Action</th>\n",
              "      <th>Adventure</th>\n",
              "      <th>Animation</th>\n",
              "      <th>Children</th>\n",
              "      <th>Comedy</th>\n",
              "      <th>Crime</th>\n",
              "      <th>Documentary</th>\n",
              "      <th>Drama</th>\n",
              "      <th>...</th>\n",
              "      <th>Film-Noir</th>\n",
              "      <th>Horror</th>\n",
              "      <th>Musical</th>\n",
              "      <th>Mystery</th>\n",
              "      <th>Romance</th>\n",
              "      <th>Sci-Fi</th>\n",
              "      <th>Thriller</th>\n",
              "      <th>War</th>\n",
              "      <th>Western</th>\n",
              "      <th>age_bins</th>\n",
              "    </tr>\n",
              "  </thead>\n",
              "  <tbody>\n",
              "    <tr>\n",
              "      <th>0</th>\n",
              "      <td>3</td>\n",
              "      <td>0</td>\n",
              "      <td>0</td>\n",
              "      <td>0</td>\n",
              "      <td>0</td>\n",
              "      <td>0</td>\n",
              "      <td>1</td>\n",
              "      <td>0</td>\n",
              "      <td>0</td>\n",
              "      <td>0</td>\n",
              "      <td>...</td>\n",
              "      <td>0</td>\n",
              "      <td>0</td>\n",
              "      <td>0</td>\n",
              "      <td>0</td>\n",
              "      <td>0</td>\n",
              "      <td>0</td>\n",
              "      <td>0</td>\n",
              "      <td>0</td>\n",
              "      <td>0</td>\n",
              "      <td>44-54</td>\n",
              "    </tr>\n",
              "    <tr>\n",
              "      <th>1</th>\n",
              "      <td>2</td>\n",
              "      <td>0</td>\n",
              "      <td>1</td>\n",
              "      <td>1</td>\n",
              "      <td>0</td>\n",
              "      <td>0</td>\n",
              "      <td>1</td>\n",
              "      <td>0</td>\n",
              "      <td>0</td>\n",
              "      <td>0</td>\n",
              "      <td>...</td>\n",
              "      <td>0</td>\n",
              "      <td>0</td>\n",
              "      <td>0</td>\n",
              "      <td>0</td>\n",
              "      <td>0</td>\n",
              "      <td>1</td>\n",
              "      <td>0</td>\n",
              "      <td>0</td>\n",
              "      <td>0</td>\n",
              "      <td>44-54</td>\n",
              "    </tr>\n",
              "    <tr>\n",
              "      <th>2</th>\n",
              "      <td>4</td>\n",
              "      <td>0</td>\n",
              "      <td>0</td>\n",
              "      <td>0</td>\n",
              "      <td>0</td>\n",
              "      <td>0</td>\n",
              "      <td>1</td>\n",
              "      <td>0</td>\n",
              "      <td>0</td>\n",
              "      <td>0</td>\n",
              "      <td>...</td>\n",
              "      <td>0</td>\n",
              "      <td>0</td>\n",
              "      <td>0</td>\n",
              "      <td>0</td>\n",
              "      <td>1</td>\n",
              "      <td>0</td>\n",
              "      <td>0</td>\n",
              "      <td>0</td>\n",
              "      <td>0</td>\n",
              "      <td>44-54</td>\n",
              "    </tr>\n",
              "    <tr>\n",
              "      <th>3</th>\n",
              "      <td>4</td>\n",
              "      <td>0</td>\n",
              "      <td>0</td>\n",
              "      <td>0</td>\n",
              "      <td>0</td>\n",
              "      <td>0</td>\n",
              "      <td>1</td>\n",
              "      <td>0</td>\n",
              "      <td>0</td>\n",
              "      <td>0</td>\n",
              "      <td>...</td>\n",
              "      <td>0</td>\n",
              "      <td>0</td>\n",
              "      <td>0</td>\n",
              "      <td>0</td>\n",
              "      <td>0</td>\n",
              "      <td>0</td>\n",
              "      <td>0</td>\n",
              "      <td>0</td>\n",
              "      <td>0</td>\n",
              "      <td>44-54</td>\n",
              "    </tr>\n",
              "    <tr>\n",
              "      <th>4</th>\n",
              "      <td>4</td>\n",
              "      <td>0</td>\n",
              "      <td>0</td>\n",
              "      <td>0</td>\n",
              "      <td>0</td>\n",
              "      <td>0</td>\n",
              "      <td>1</td>\n",
              "      <td>0</td>\n",
              "      <td>0</td>\n",
              "      <td>1</td>\n",
              "      <td>...</td>\n",
              "      <td>0</td>\n",
              "      <td>0</td>\n",
              "      <td>0</td>\n",
              "      <td>0</td>\n",
              "      <td>0</td>\n",
              "      <td>0</td>\n",
              "      <td>0</td>\n",
              "      <td>0</td>\n",
              "      <td>0</td>\n",
              "      <td>44-54</td>\n",
              "    </tr>\n",
              "    <tr>\n",
              "      <th>...</th>\n",
              "      <td>...</td>\n",
              "      <td>...</td>\n",
              "      <td>...</td>\n",
              "      <td>...</td>\n",
              "      <td>...</td>\n",
              "      <td>...</td>\n",
              "      <td>...</td>\n",
              "      <td>...</td>\n",
              "      <td>...</td>\n",
              "      <td>...</td>\n",
              "      <td>...</td>\n",
              "      <td>...</td>\n",
              "      <td>...</td>\n",
              "      <td>...</td>\n",
              "      <td>...</td>\n",
              "      <td>...</td>\n",
              "      <td>...</td>\n",
              "      <td>...</td>\n",
              "      <td>...</td>\n",
              "      <td>...</td>\n",
              "      <td>...</td>\n",
              "    </tr>\n",
              "    <tr>\n",
              "      <th>99995</th>\n",
              "      <td>5</td>\n",
              "      <td>0</td>\n",
              "      <td>1</td>\n",
              "      <td>0</td>\n",
              "      <td>0</td>\n",
              "      <td>0</td>\n",
              "      <td>0</td>\n",
              "      <td>0</td>\n",
              "      <td>0</td>\n",
              "      <td>1</td>\n",
              "      <td>...</td>\n",
              "      <td>0</td>\n",
              "      <td>0</td>\n",
              "      <td>0</td>\n",
              "      <td>0</td>\n",
              "      <td>1</td>\n",
              "      <td>0</td>\n",
              "      <td>0</td>\n",
              "      <td>0</td>\n",
              "      <td>0</td>\n",
              "      <td>44-54</td>\n",
              "    </tr>\n",
              "    <tr>\n",
              "      <th>99996</th>\n",
              "      <td>4</td>\n",
              "      <td>0</td>\n",
              "      <td>1</td>\n",
              "      <td>0</td>\n",
              "      <td>0</td>\n",
              "      <td>0</td>\n",
              "      <td>0</td>\n",
              "      <td>0</td>\n",
              "      <td>0</td>\n",
              "      <td>1</td>\n",
              "      <td>...</td>\n",
              "      <td>0</td>\n",
              "      <td>0</td>\n",
              "      <td>0</td>\n",
              "      <td>0</td>\n",
              "      <td>0</td>\n",
              "      <td>0</td>\n",
              "      <td>0</td>\n",
              "      <td>1</td>\n",
              "      <td>0</td>\n",
              "      <td>44-54</td>\n",
              "    </tr>\n",
              "    <tr>\n",
              "      <th>99997</th>\n",
              "      <td>3</td>\n",
              "      <td>0</td>\n",
              "      <td>0</td>\n",
              "      <td>0</td>\n",
              "      <td>0</td>\n",
              "      <td>0</td>\n",
              "      <td>0</td>\n",
              "      <td>1</td>\n",
              "      <td>0</td>\n",
              "      <td>1</td>\n",
              "      <td>...</td>\n",
              "      <td>0</td>\n",
              "      <td>0</td>\n",
              "      <td>0</td>\n",
              "      <td>0</td>\n",
              "      <td>0</td>\n",
              "      <td>0</td>\n",
              "      <td>1</td>\n",
              "      <td>0</td>\n",
              "      <td>0</td>\n",
              "      <td>44-54</td>\n",
              "    </tr>\n",
              "    <tr>\n",
              "      <th>99998</th>\n",
              "      <td>2</td>\n",
              "      <td>0</td>\n",
              "      <td>1</td>\n",
              "      <td>1</td>\n",
              "      <td>0</td>\n",
              "      <td>0</td>\n",
              "      <td>0</td>\n",
              "      <td>0</td>\n",
              "      <td>0</td>\n",
              "      <td>0</td>\n",
              "      <td>...</td>\n",
              "      <td>0</td>\n",
              "      <td>0</td>\n",
              "      <td>0</td>\n",
              "      <td>0</td>\n",
              "      <td>0</td>\n",
              "      <td>1</td>\n",
              "      <td>1</td>\n",
              "      <td>0</td>\n",
              "      <td>0</td>\n",
              "      <td>44-54</td>\n",
              "    </tr>\n",
              "    <tr>\n",
              "      <th>99999</th>\n",
              "      <td>4</td>\n",
              "      <td>0</td>\n",
              "      <td>0</td>\n",
              "      <td>0</td>\n",
              "      <td>0</td>\n",
              "      <td>0</td>\n",
              "      <td>1</td>\n",
              "      <td>0</td>\n",
              "      <td>0</td>\n",
              "      <td>0</td>\n",
              "      <td>...</td>\n",
              "      <td>0</td>\n",
              "      <td>0</td>\n",
              "      <td>0</td>\n",
              "      <td>1</td>\n",
              "      <td>0</td>\n",
              "      <td>0</td>\n",
              "      <td>0</td>\n",
              "      <td>0</td>\n",
              "      <td>0</td>\n",
              "      <td>44-54</td>\n",
              "    </tr>\n",
              "  </tbody>\n",
              "</table>\n",
              "<p>100000 rows × 21 columns</p>\n",
              "</div>"
            ],
            "text/plain": [
              "       rating  unknown  Action  Adventure  Animation  Children  Comedy  Crime  \\\n",
              "0           3        0       0          0          0         0       1      0   \n",
              "1           2        0       1          1          0         0       1      0   \n",
              "2           4        0       0          0          0         0       1      0   \n",
              "3           4        0       0          0          0         0       1      0   \n",
              "4           4        0       0          0          0         0       1      0   \n",
              "...       ...      ...     ...        ...        ...       ...     ...    ...   \n",
              "99995       5        0       1          0          0         0       0      0   \n",
              "99996       4        0       1          0          0         0       0      0   \n",
              "99997       3        0       0          0          0         0       0      1   \n",
              "99998       2        0       1          1          0         0       0      0   \n",
              "99999       4        0       0          0          0         0       1      0   \n",
              "\n",
              "       Documentary  Drama  ...  Film-Noir  Horror  Musical  Mystery  Romance  \\\n",
              "0                0      0  ...          0       0        0        0        0   \n",
              "1                0      0  ...          0       0        0        0        0   \n",
              "2                0      0  ...          0       0        0        0        1   \n",
              "3                0      0  ...          0       0        0        0        0   \n",
              "4                0      1  ...          0       0        0        0        0   \n",
              "...            ...    ...  ...        ...     ...      ...      ...      ...   \n",
              "99995            0      1  ...          0       0        0        0        1   \n",
              "99996            0      1  ...          0       0        0        0        0   \n",
              "99997            0      1  ...          0       0        0        0        0   \n",
              "99998            0      0  ...          0       0        0        0        0   \n",
              "99999            0      0  ...          0       0        0        1        0   \n",
              "\n",
              "       Sci-Fi  Thriller  War  Western  age_bins  \n",
              "0           0         0    0        0     44-54  \n",
              "1           1         0    0        0     44-54  \n",
              "2           0         0    0        0     44-54  \n",
              "3           0         0    0        0     44-54  \n",
              "4           0         0    0        0     44-54  \n",
              "...       ...       ...  ...      ...       ...  \n",
              "99995       0         0    0        0     44-54  \n",
              "99996       0         0    1        0     44-54  \n",
              "99997       0         1    0        0     44-54  \n",
              "99998       1         1    0        0     44-54  \n",
              "99999       0         0    0        0     44-54  \n",
              "\n",
              "[100000 rows x 21 columns]"
            ]
          },
          "execution_count": 24,
          "metadata": {},
          "output_type": "execute_result"
        }
      ],
      "source": [
        "data_item_user"
      ]
    },
    {
      "cell_type": "code",
      "execution_count": null,
      "metadata": {
        "id": "Ag0_RcrHRmGe",
        "outputId": "66d01975-3c86-4866-9736-9090d19f8d73"
      },
      "outputs": [
        {
          "data": {
            "text/html": [
              "<div>\n",
              "<style scoped>\n",
              "    .dataframe tbody tr th:only-of-type {\n",
              "        vertical-align: middle;\n",
              "    }\n",
              "\n",
              "    .dataframe tbody tr th {\n",
              "        vertical-align: top;\n",
              "    }\n",
              "\n",
              "    .dataframe thead th {\n",
              "        text-align: right;\n",
              "    }\n",
              "</style>\n",
              "<table border=\"1\" class=\"dataframe\">\n",
              "  <thead>\n",
              "    <tr style=\"text-align: right;\">\n",
              "      <th></th>\n",
              "      <th>age_bins</th>\n",
              "      <th>rating</th>\n",
              "      <th>unknown</th>\n",
              "      <th>Action</th>\n",
              "      <th>Adventure</th>\n",
              "      <th>Animation</th>\n",
              "      <th>Children</th>\n",
              "      <th>Comedy</th>\n",
              "      <th>Crime</th>\n",
              "      <th>Documentary</th>\n",
              "      <th>...</th>\n",
              "      <th>Fantasy</th>\n",
              "      <th>Film-Noir</th>\n",
              "      <th>Horror</th>\n",
              "      <th>Musical</th>\n",
              "      <th>Mystery</th>\n",
              "      <th>Romance</th>\n",
              "      <th>Sci-Fi</th>\n",
              "      <th>Thriller</th>\n",
              "      <th>War</th>\n",
              "      <th>Western</th>\n",
              "    </tr>\n",
              "  </thead>\n",
              "  <tbody>\n",
              "    <tr>\n",
              "      <th>0</th>\n",
              "      <td>0-18</td>\n",
              "      <td>8528</td>\n",
              "      <td>0</td>\n",
              "      <td>733</td>\n",
              "      <td>380</td>\n",
              "      <td>113</td>\n",
              "      <td>267</td>\n",
              "      <td>784</td>\n",
              "      <td>207</td>\n",
              "      <td>13</td>\n",
              "      <td>...</td>\n",
              "      <td>39</td>\n",
              "      <td>34</td>\n",
              "      <td>156</td>\n",
              "      <td>125</td>\n",
              "      <td>138</td>\n",
              "      <td>445</td>\n",
              "      <td>329</td>\n",
              "      <td>618</td>\n",
              "      <td>198</td>\n",
              "      <td>26</td>\n",
              "    </tr>\n",
              "    <tr>\n",
              "      <th>1</th>\n",
              "      <td>18-24</td>\n",
              "      <td>67436</td>\n",
              "      <td>2</td>\n",
              "      <td>5602</td>\n",
              "      <td>2807</td>\n",
              "      <td>757</td>\n",
              "      <td>1468</td>\n",
              "      <td>5998</td>\n",
              "      <td>1752</td>\n",
              "      <td>121</td>\n",
              "      <td>...</td>\n",
              "      <td>284</td>\n",
              "      <td>239</td>\n",
              "      <td>1252</td>\n",
              "      <td>868</td>\n",
              "      <td>951</td>\n",
              "      <td>3585</td>\n",
              "      <td>2558</td>\n",
              "      <td>4772</td>\n",
              "      <td>1503</td>\n",
              "      <td>347</td>\n",
              "    </tr>\n",
              "    <tr>\n",
              "      <th>2</th>\n",
              "      <td>24-34</td>\n",
              "      <td>135479</td>\n",
              "      <td>6</td>\n",
              "      <td>10241</td>\n",
              "      <td>5543</td>\n",
              "      <td>1564</td>\n",
              "      <td>2797</td>\n",
              "      <td>11914</td>\n",
              "      <td>3039</td>\n",
              "      <td>279</td>\n",
              "      <td>...</td>\n",
              "      <td>529</td>\n",
              "      <td>594</td>\n",
              "      <td>2173</td>\n",
              "      <td>1996</td>\n",
              "      <td>1833</td>\n",
              "      <td>7588</td>\n",
              "      <td>5380</td>\n",
              "      <td>8424</td>\n",
              "      <td>3598</td>\n",
              "      <td>689</td>\n",
              "    </tr>\n",
              "    <tr>\n",
              "      <th>3</th>\n",
              "      <td>34-44</td>\n",
              "      <td>66988</td>\n",
              "      <td>2</td>\n",
              "      <td>4679</td>\n",
              "      <td>2694</td>\n",
              "      <td>696</td>\n",
              "      <td>1487</td>\n",
              "      <td>5513</td>\n",
              "      <td>1387</td>\n",
              "      <td>133</td>\n",
              "      <td>...</td>\n",
              "      <td>267</td>\n",
              "      <td>371</td>\n",
              "      <td>944</td>\n",
              "      <td>997</td>\n",
              "      <td>968</td>\n",
              "      <td>3640</td>\n",
              "      <td>2385</td>\n",
              "      <td>3856</td>\n",
              "      <td>1890</td>\n",
              "      <td>388</td>\n",
              "    </tr>\n",
              "    <tr>\n",
              "      <th>4</th>\n",
              "      <td>44-54</td>\n",
              "      <td>53226</td>\n",
              "      <td>0</td>\n",
              "      <td>3194</td>\n",
              "      <td>1708</td>\n",
              "      <td>364</td>\n",
              "      <td>853</td>\n",
              "      <td>4054</td>\n",
              "      <td>1178</td>\n",
              "      <td>154</td>\n",
              "      <td>...</td>\n",
              "      <td>172</td>\n",
              "      <td>331</td>\n",
              "      <td>558</td>\n",
              "      <td>672</td>\n",
              "      <td>949</td>\n",
              "      <td>3035</td>\n",
              "      <td>1571</td>\n",
              "      <td>3023</td>\n",
              "      <td>1578</td>\n",
              "      <td>274</td>\n",
              "    </tr>\n",
              "  </tbody>\n",
              "</table>\n",
              "<p>5 rows × 21 columns</p>\n",
              "</div>"
            ],
            "text/plain": [
              "  age_bins  rating  unknown  Action  Adventure  Animation  Children  Comedy  \\\n",
              "0     0-18    8528        0     733        380        113       267     784   \n",
              "1    18-24   67436        2    5602       2807        757      1468    5998   \n",
              "2    24-34  135479        6   10241       5543       1564      2797   11914   \n",
              "3    34-44   66988        2    4679       2694        696      1487    5513   \n",
              "4    44-54   53226        0    3194       1708        364       853    4054   \n",
              "\n",
              "   Crime  Documentary  ...  Fantasy  Film-Noir  Horror  Musical  Mystery  \\\n",
              "0    207           13  ...       39         34     156      125      138   \n",
              "1   1752          121  ...      284        239    1252      868      951   \n",
              "2   3039          279  ...      529        594    2173     1996     1833   \n",
              "3   1387          133  ...      267        371     944      997      968   \n",
              "4   1178          154  ...      172        331     558      672      949   \n",
              "\n",
              "   Romance  Sci-Fi  Thriller   War  Western  \n",
              "0      445     329       618   198       26  \n",
              "1     3585    2558      4772  1503      347  \n",
              "2     7588    5380      8424  3598      689  \n",
              "3     3640    2385      3856  1890      388  \n",
              "4     3035    1571      3023  1578      274  \n",
              "\n",
              "[5 rows x 21 columns]"
            ]
          },
          "execution_count": 25,
          "metadata": {},
          "output_type": "execute_result"
        }
      ],
      "source": [
        "age=data_item_user.groupby(\"age_bins\").sum()\n",
        "age.reset_index(inplace=True)\n",
        "age.head()"
      ]
    },
    {
      "cell_type": "code",
      "execution_count": null,
      "metadata": {
        "id": "nc79mrtyRmGf"
      },
      "outputs": [],
      "source": [
        "age['Max'] = age[['unknown', 'Action', 'Adventure', 'Animation', 'Children', 'Comedy', 'Crime',\n",
        "           'Documentary', 'Drama','Fantasy','Film-Noir','Horror','Musical', \n",
        "           'Mystery','Romance','Sci-Fi','Thriller','War','Western']].idxmax(axis=1)"
      ]
    },
    {
      "cell_type": "code",
      "execution_count": null,
      "metadata": {
        "id": "XkLrmiK_RmGf",
        "outputId": "c9822acd-ca77-462c-df47-b9f1f5edf288"
      },
      "outputs": [
        {
          "data": {
            "text/html": [
              "<div>\n",
              "<style scoped>\n",
              "    .dataframe tbody tr th:only-of-type {\n",
              "        vertical-align: middle;\n",
              "    }\n",
              "\n",
              "    .dataframe tbody tr th {\n",
              "        vertical-align: top;\n",
              "    }\n",
              "\n",
              "    .dataframe thead th {\n",
              "        text-align: right;\n",
              "    }\n",
              "</style>\n",
              "<table border=\"1\" class=\"dataframe\">\n",
              "  <thead>\n",
              "    <tr style=\"text-align: right;\">\n",
              "      <th></th>\n",
              "      <th>age_bins</th>\n",
              "      <th>Max</th>\n",
              "      <th>Drama</th>\n",
              "    </tr>\n",
              "  </thead>\n",
              "  <tbody>\n",
              "    <tr>\n",
              "      <th>0</th>\n",
              "      <td>0-18</td>\n",
              "      <td>Drama</td>\n",
              "      <td>831</td>\n",
              "    </tr>\n",
              "    <tr>\n",
              "      <th>1</th>\n",
              "      <td>18-24</td>\n",
              "      <td>Drama</td>\n",
              "      <td>7015</td>\n",
              "    </tr>\n",
              "    <tr>\n",
              "      <th>2</th>\n",
              "      <td>24-34</td>\n",
              "      <td>Drama</td>\n",
              "      <td>14942</td>\n",
              "    </tr>\n",
              "    <tr>\n",
              "      <th>3</th>\n",
              "      <td>34-44</td>\n",
              "      <td>Drama</td>\n",
              "      <td>7565</td>\n",
              "    </tr>\n",
              "    <tr>\n",
              "      <th>4</th>\n",
              "      <td>44-54</td>\n",
              "      <td>Drama</td>\n",
              "      <td>6785</td>\n",
              "    </tr>\n",
              "    <tr>\n",
              "      <th>5</th>\n",
              "      <td>54-60</td>\n",
              "      <td>Drama</td>\n",
              "      <td>1381</td>\n",
              "    </tr>\n",
              "    <tr>\n",
              "      <th>6</th>\n",
              "      <td>60+</td>\n",
              "      <td>Drama</td>\n",
              "      <td>1376</td>\n",
              "    </tr>\n",
              "  </tbody>\n",
              "</table>\n",
              "</div>"
            ],
            "text/plain": [
              "  age_bins    Max  Drama\n",
              "0     0-18  Drama    831\n",
              "1    18-24  Drama   7015\n",
              "2    24-34  Drama  14942\n",
              "3    34-44  Drama   7565\n",
              "4    44-54  Drama   6785\n",
              "5    54-60  Drama   1381\n",
              "6      60+  Drama   1376"
            ]
          },
          "execution_count": 27,
          "metadata": {},
          "output_type": "execute_result"
        }
      ],
      "source": [
        "age[['age_bins','Max','Drama']]"
      ]
    },
    {
      "cell_type": "markdown",
      "metadata": {
        "id": "7mG574zNRmGg"
      },
      "source": [
        "##### Explanation: Drama is the most popular genre in the all given age intervals."
      ]
    },
    {
      "cell_type": "markdown",
      "metadata": {
        "id": "bXemf9X2RmGg"
      },
      "source": [
        "# **Exercise 2: Implement a Matrix Factorization (MF) technique for recommender systems**\n",
        "By implementing Stochastic Gradient Descent (SGD) learning algorithms"
      ]
    },
    {
      "cell_type": "markdown",
      "source": [
        "### *Normalize the data*"
      ],
      "metadata": {
        "id": "FPcD8yl5nxzH"
      }
    },
    {
      "cell_type": "code",
      "execution_count": null,
      "metadata": {
        "id": "aKrCb2MxRmGg"
      },
      "outputs": [],
      "source": [
        "def normalize(data):           #normalize data func.\n",
        "    return (data-min(data))/(max(data)-min(data))"
      ]
    },
    {
      "cell_type": "code",
      "execution_count": null,
      "metadata": {
        "id": "zewDmiW3RmGh",
        "outputId": "5e7cdf70-7513-4574-fec7-10d7fe556beb"
      },
      "outputs": [
        {
          "data": {
            "text/html": [
              "<div>\n",
              "<style scoped>\n",
              "    .dataframe tbody tr th:only-of-type {\n",
              "        vertical-align: middle;\n",
              "    }\n",
              "\n",
              "    .dataframe tbody tr th {\n",
              "        vertical-align: top;\n",
              "    }\n",
              "\n",
              "    .dataframe thead th {\n",
              "        text-align: right;\n",
              "    }\n",
              "</style>\n",
              "<table border=\"1\" class=\"dataframe\">\n",
              "  <thead>\n",
              "    <tr style=\"text-align: right;\">\n",
              "      <th></th>\n",
              "      <th>user_id</th>\n",
              "      <th>movie_id</th>\n",
              "      <th>rating</th>\n",
              "    </tr>\n",
              "  </thead>\n",
              "  <tbody>\n",
              "    <tr>\n",
              "      <th>0</th>\n",
              "      <td>196</td>\n",
              "      <td>242</td>\n",
              "      <td>0.50</td>\n",
              "    </tr>\n",
              "    <tr>\n",
              "      <th>1</th>\n",
              "      <td>186</td>\n",
              "      <td>302</td>\n",
              "      <td>0.50</td>\n",
              "    </tr>\n",
              "    <tr>\n",
              "      <th>2</th>\n",
              "      <td>22</td>\n",
              "      <td>377</td>\n",
              "      <td>0.00</td>\n",
              "    </tr>\n",
              "    <tr>\n",
              "      <th>3</th>\n",
              "      <td>244</td>\n",
              "      <td>51</td>\n",
              "      <td>0.25</td>\n",
              "    </tr>\n",
              "    <tr>\n",
              "      <th>4</th>\n",
              "      <td>166</td>\n",
              "      <td>346</td>\n",
              "      <td>0.00</td>\n",
              "    </tr>\n",
              "  </tbody>\n",
              "</table>\n",
              "</div>"
            ],
            "text/plain": [
              "   user_id  movie_id  rating\n",
              "0      196       242    0.50\n",
              "1      186       302    0.50\n",
              "2       22       377    0.00\n",
              "3      244        51    0.25\n",
              "4      166       346    0.00"
            ]
          },
          "execution_count": 29,
          "metadata": {},
          "output_type": "execute_result"
        }
      ],
      "source": [
        "rating_normalized = movie_data[[\"rating\"]].apply(normalize)      #normalize rating column between 0 and 1\n",
        "movie_data[\"rating\"]=rating_normalized\n",
        "movie_data=movie_data.iloc[:,:3]\n",
        "movie_data.head()"
      ]
    },
    {
      "cell_type": "code",
      "execution_count": null,
      "metadata": {
        "id": "iPGivPkbRmGh"
      },
      "outputs": [],
      "source": [
        "movie_data = movie_data.sample(frac=1,random_state=3116)"
      ]
    },
    {
      "cell_type": "markdown",
      "source": [
        "### *Split dataset into train (80%), val (10%), test (10%)*"
      ],
      "metadata": {
        "id": "F8sQiokXn-Vz"
      }
    },
    {
      "cell_type": "code",
      "execution_count": null,
      "metadata": {
        "id": "7lsbKOh_RmGh"
      },
      "outputs": [],
      "source": [
        "def train(data,fraction1,fraction2):                 #normalized dataset split into train (80%), val (10%), test (10%)\n",
        "    n = len(data)\n",
        "    c=math.ceil((fraction1)*n)\n",
        "    d=math.ceil((fraction2)*n)\n",
        "    train = data.iloc[:c,:].reset_index(drop=True)\n",
        "    return train                                    #Train data\n",
        "\n",
        "def val(data,fraction1,fraction2):                  #Validation data\n",
        "    n = len(data)\n",
        "    c=math.ceil((fraction1)*n)\n",
        "    d=math.ceil((fraction2)*n)\n",
        "    val = data.iloc[c:d,:].reset_index(drop=True)\n",
        "    return val\n",
        "\n",
        "def test(data,fraction1,fraction2):                 #Test data\n",
        "    n = len(data)\n",
        "    c=math.ceil((fraction1)*n)\n",
        "    d=math.ceil((fraction2)*n)\n",
        "    test = data.iloc[d:n,:].reset_index(drop=True)\n",
        "    return test"
      ]
    },
    {
      "cell_type": "code",
      "execution_count": null,
      "metadata": {
        "id": "NbHuAHBZRmGh",
        "outputId": "7a8035f2-d185-403b-ae05-8b57f83f2082"
      },
      "outputs": [
        {
          "name": "stdout",
          "output_type": "stream",
          "text": [
            "Train data len: 80000\n",
            "Val data len: 10000\n",
            "Test data len: 10000\n"
          ]
        }
      ],
      "source": [
        "train_mov = train(movie_data,0.8,0.9)\n",
        "val_mov = val(movie_data,0.8,0.9)\n",
        "test_mov = test(movie_data,0.8,0.9)\n",
        "print(\"Train data len:\",len(train_mov))\n",
        "print(\"Val data len:\",len(val_mov))\n",
        "print(\"Test data len:\",len(test_mov))"
      ]
    },
    {
      "cell_type": "code",
      "execution_count": null,
      "metadata": {
        "id": "QTc_U_toRmGi"
      },
      "outputs": [],
      "source": [
        "def init_matrix(R,k):                #Rating matrix and latent dimensions to initialize latent matrices P and Q\n",
        "    P = np.random.random(R.shape[0]*k).reshape(R.shape[0],k)    #random initialization to P and Q between 0 and 1\n",
        "    Q = np.random.random(R.shape[1]*k).reshape(k,R.shape[1])    \n",
        "    return P,Q"
      ]
    },
    {
      "cell_type": "code",
      "execution_count": null,
      "metadata": {
        "id": "mog8gCnjRmGi",
        "outputId": "d6d5e2d8-e2fd-45aa-a619-aabba4729527"
      },
      "outputs": [
        {
          "data": {
            "text/html": [
              "<div>\n",
              "<style scoped>\n",
              "    .dataframe tbody tr th:only-of-type {\n",
              "        vertical-align: middle;\n",
              "    }\n",
              "\n",
              "    .dataframe tbody tr th {\n",
              "        vertical-align: top;\n",
              "    }\n",
              "\n",
              "    .dataframe thead th {\n",
              "        text-align: right;\n",
              "    }\n",
              "</style>\n",
              "<table border=\"1\" class=\"dataframe\">\n",
              "  <thead>\n",
              "    <tr style=\"text-align: right;\">\n",
              "      <th></th>\n",
              "      <th>0</th>\n",
              "    </tr>\n",
              "  </thead>\n",
              "  <tbody>\n",
              "    <tr>\n",
              "      <th>0</th>\n",
              "      <td>943 users</td>\n",
              "    </tr>\n",
              "    <tr>\n",
              "      <th>1</th>\n",
              "      <td>1682 items</td>\n",
              "    </tr>\n",
              "    <tr>\n",
              "      <th>2</th>\n",
              "      <td>100000 ratings</td>\n",
              "    </tr>\n",
              "  </tbody>\n",
              "</table>\n",
              "</div>"
            ],
            "text/plain": [
              "                0\n",
              "0       943 users\n",
              "1      1682 items\n",
              "2  100000 ratings"
            ]
          },
          "execution_count": 34,
          "metadata": {},
          "output_type": "execute_result"
        }
      ],
      "source": [
        "inf = pd.read_table(\"https://raw.githubusercontent.com/Can-Berk/Machine_Learning_Labs/main/Datasets/ml-100k/u.info\", header=None)\n",
        "inf.head()"
      ]
    },
    {
      "cell_type": "code",
      "execution_count": null,
      "metadata": {
        "id": "6J0mLEHCRmGi"
      },
      "outputs": [],
      "source": [
        "def get_matrix(data):           #get matrix from dataframes\n",
        "    a=np.array(data)\n",
        "    row, idx_row = np.unique(a[:,0], return_inverse=True)\n",
        "    col, idx_col = np.unique(a[:,1], return_inverse=True)\n",
        "    M = np.zeros((943,1682), dtype = 'int64')   #user ratings for items 0s\n",
        "    M[idx_row, idx_col] = a[:,2]\n",
        "    return M"
      ]
    },
    {
      "cell_type": "code",
      "execution_count": null,
      "metadata": {
        "id": "LfYyQJ5SRmGi"
      },
      "outputs": [],
      "source": [
        "def mf_sgd(data, K, alpha, lamb, eps, epochs):       #Matrix factorization func. using SGD\n",
        "    R = get_matrix(data)             #Rating matrix from data\n",
        "    list_error = []\n",
        "    P,Q = init_matrix(R,K)           #latent matrices P and Q\n",
        "    row = np.arange(R.shape[0])\n",
        "    col = np.arange(R.shape[1])\n",
        "    np.random.shuffle(row)       #shuffle row and columns\n",
        "    np.random.shuffle(col)\n",
        "    \n",
        "    for i in range(epochs):\n",
        "        err = 0\n",
        "        for i in row:\n",
        "            for j in col:\n",
        "                if(R[i,j]) > 0:        #in case there is already rating\n",
        "                    e = R[i,j] - np.matmul(P[i,:], Q[:,j])   #sga\n",
        "                    for k in range(K):\n",
        "                        P[i,k] = P[i,k] + alpha*((2*e)*Q[k,j] - 2*lamb*P[i,k])   #update P, Q matrices\n",
        "                        Q[k,j] = Q[k,j] + alpha*((2*e)*P[i,k] - 2*lamb*Q[k,j])\n",
        "        for i in row:\n",
        "            for j in col:\n",
        "                if(R[i,j]) > 0:\n",
        "                    err = err + (R[i,j] - np.matmul(P[i,:],Q[:,j]))**2   #calc error\n",
        "        if err < eps:         #if error is low enough\n",
        "            factorized_matrix = np.matmul(P,Q)     #get prediction matrix from P, Q matrices\n",
        "            return list_error, factorized_matrix\n",
        "        else:                       #if error is not low enough continue learning\n",
        "            list_error += [err]\n",
        "    factorized_matrix = np.matmul(P,Q)\n",
        "    return list_error, factorized_matrix"
      ]
    },
    {
      "cell_type": "code",
      "execution_count": null,
      "metadata": {
        "id": "F5K-m0lxRmGj"
      },
      "outputs": [],
      "source": [
        "def get_RMSE(data,Prediction,N):\n",
        "    result_sse=0\n",
        "    for i in range(data.shape[0]):\n",
        "        for j in range(data.shape[1]):\n",
        "            if(data[i,j]) > 0:\n",
        "                result_sse = result_sse + ((4*data[i,j]+1) -((4*Prediction[i,j])+1))**2    #sse of normalized ratings\n",
        "    result_rmse = np.sqrt(result_sse/N)     #calc. ratings rmse\n",
        "    return result_rmse"
      ]
    },
    {
      "cell_type": "markdown",
      "source": [
        "### *Optimize the hyper-parameters*"
      ],
      "metadata": {
        "id": "WVNAQjfsoMWt"
      }
    },
    {
      "cell_type": "code",
      "execution_count": null,
      "metadata": {
        "id": "Pmou8LnMRmGj"
      },
      "outputs": [],
      "source": [
        "K=[3,5,10]                                       #grid search for hyperparameters\n",
        "alpha=[0.01, 0.001]\n",
        "lamb=[0.1, 0.01]\n",
        "eps=0.001\n",
        "epochs=10\n",
        "k_fold=3\n",
        "hyperparameter_list = pd.DataFrame(columns=[\"Latent_Dimensions\", \"Learning_Rate\", \"Regularization\", \"RMSE\"])    #init. hyperparameter table"
      ]
    },
    {
      "cell_type": "code",
      "execution_count": null,
      "metadata": {
        "id": "NmqXmr_BRmGj",
        "outputId": "7a708ee9-33e6-461a-8d60-c3be032b3be3"
      },
      "outputs": [
        {
          "name": "stdout",
          "output_type": "stream",
          "text": [
            "val_rmse: 0 = 0.3609\n",
            "val_rmse: 1 = 0.3527\n",
            "val_rmse: 2 = 0.3679\n",
            "Hyperparameters set: k= 3 Learning_Rate= 0.01 Regularization= 0.1 RMSE= 0.3605\n",
            "val_rmse: 0 = 0.34\n",
            "val_rmse: 1 = 0.3059\n",
            "val_rmse: 2 = 0.3557\n",
            "Hyperparameters set: k= 3 Learning_Rate= 0.01 Regularization= 0.01 RMSE= 0.3339\n",
            "val_rmse: 0 = 0.6456\n",
            "val_rmse: 1 = 0.625\n",
            "val_rmse: 2 = 0.6652\n",
            "Hyperparameters set: k= 3 Learning_Rate= 0.001 Regularization= 0.1 RMSE= 0.6452\n",
            "val_rmse: 0 = 0.6409\n",
            "val_rmse: 1 = 0.636\n",
            "val_rmse: 2 = 0.6393\n",
            "Hyperparameters set: k= 3 Learning_Rate= 0.001 Regularization= 0.01 RMSE= 0.6387\n",
            "val_rmse: 0 = 0.3363\n",
            "val_rmse: 1 = 0.3135\n",
            "val_rmse: 2 = 0.3386\n",
            "Hyperparameters set: k= 5 Learning_Rate= 0.01 Regularization= 0.1 RMSE= 0.3295\n",
            "val_rmse: 0 = 0.38\n",
            "val_rmse: 1 = 0.3387\n",
            "val_rmse: 2 = 0.3602\n",
            "Hyperparameters set: k= 5 Learning_Rate= 0.01 Regularization= 0.01 RMSE= 0.3596\n",
            "val_rmse: 0 = 0.6533\n",
            "val_rmse: 1 = 0.5913\n",
            "val_rmse: 2 = 0.6236\n",
            "Hyperparameters set: k= 5 Learning_Rate= 0.001 Regularization= 0.1 RMSE= 0.6227\n",
            "val_rmse: 0 = 0.6656\n",
            "val_rmse: 1 = 0.6174\n",
            "val_rmse: 2 = 0.6527\n",
            "Hyperparameters set: k= 5 Learning_Rate= 0.001 Regularization= 0.01 RMSE= 0.6452\n",
            "val_rmse: 0 = 0.6032\n",
            "val_rmse: 1 = 0.5963\n",
            "val_rmse: 2 = 0.6847\n",
            "Hyperparameters set: k= 10 Learning_Rate= 0.01 Regularization= 0.1 RMSE= 0.6281\n",
            "val_rmse: 0 = 0.8128\n",
            "val_rmse: 1 = 0.7087\n",
            "val_rmse: 2 = 0.7393\n",
            "Hyperparameters set: k= 10 Learning_Rate= 0.01 Regularization= 0.01 RMSE= 0.7536\n",
            "val_rmse: 0 = 1.3808\n",
            "val_rmse: 1 = 1.182\n",
            "val_rmse: 2 = 1.3064\n",
            "Hyperparameters set: k= 10 Learning_Rate= 0.001 Regularization= 0.1 RMSE= 1.2897\n",
            "val_rmse: 0 = 1.3793\n",
            "val_rmse: 1 = 1.2809\n",
            "val_rmse: 2 = 1.4251\n",
            "Hyperparameters set: k= 10 Learning_Rate= 0.001 Regularization= 0.01 RMSE= 1.3618\n"
          ]
        }
      ],
      "source": [
        "for k in K:\n",
        "    for a in alpha:\n",
        "        for l in lamb:\n",
        "            final_rmse = 0\n",
        "            for f in range(k_fold):\n",
        "                fold_len=int(np.ceil((train_mov.shape[0])/k_fold))      #fold length\n",
        "                start_idx=f*fold_len                     #index starting point\n",
        "                index = train_mov.index\n",
        "                val_idx = index[start_idx:(start_idx+fold_len)]    #index of given fold\n",
        "                val_fold = train_mov.iloc[val_idx.values,:]\n",
        "                train_fold = train_mov.drop(val_fold.index)\n",
        "                error_res, train_fold_prediction=mf_sgd(train_fold,k,a,l,eps,epochs)  #matrix factorization func.\n",
        "                orig_matrix = get_matrix(val_fold)\n",
        "                val_rmse = get_RMSE(orig_matrix,train_fold_prediction,val_fold.shape[0])   #fold rmse\n",
        "                print(\"val_rmse:\", f, \"=\", round(val_rmse,4))\n",
        "                final_rmse = final_rmse + (val_rmse/k_fold)        #final rmse as average of fold rmse results\n",
        "            print(\"Hyperparameters set: k=\", k, \"Learning_Rate=\", a, \"Regularization=\", l, \"RMSE=\", round(final_rmse,4))\n",
        "            hyperparameter_list = hyperparameter_list.append({\"Latent_Dimensions\": k, \"Learning_Rate\": a, \"Regularization\":l,\"RMSE\": round(final_rmse,4)}, ignore_index=True)    #hyperparameter list filled"
      ]
    },
    {
      "cell_type": "code",
      "execution_count": null,
      "metadata": {
        "id": "7uYtu6aBRmGk",
        "outputId": "04c2f5c9-4c96-419b-9b41-8f9912b349b9"
      },
      "outputs": [
        {
          "data": {
            "text/html": [
              "<div>\n",
              "<style scoped>\n",
              "    .dataframe tbody tr th:only-of-type {\n",
              "        vertical-align: middle;\n",
              "    }\n",
              "\n",
              "    .dataframe tbody tr th {\n",
              "        vertical-align: top;\n",
              "    }\n",
              "\n",
              "    .dataframe thead th {\n",
              "        text-align: right;\n",
              "    }\n",
              "</style>\n",
              "<table border=\"1\" class=\"dataframe\">\n",
              "  <thead>\n",
              "    <tr style=\"text-align: right;\">\n",
              "      <th></th>\n",
              "      <th>Latent_Dimensions</th>\n",
              "      <th>Learning_Rate</th>\n",
              "      <th>Regularization</th>\n",
              "      <th>RMSE</th>\n",
              "    </tr>\n",
              "  </thead>\n",
              "  <tbody>\n",
              "    <tr>\n",
              "      <th>0</th>\n",
              "      <td>3.0</td>\n",
              "      <td>0.010</td>\n",
              "      <td>0.10</td>\n",
              "      <td>0.3605</td>\n",
              "    </tr>\n",
              "    <tr>\n",
              "      <th>1</th>\n",
              "      <td>3.0</td>\n",
              "      <td>0.010</td>\n",
              "      <td>0.01</td>\n",
              "      <td>0.3339</td>\n",
              "    </tr>\n",
              "    <tr>\n",
              "      <th>2</th>\n",
              "      <td>3.0</td>\n",
              "      <td>0.001</td>\n",
              "      <td>0.10</td>\n",
              "      <td>0.6452</td>\n",
              "    </tr>\n",
              "    <tr>\n",
              "      <th>3</th>\n",
              "      <td>3.0</td>\n",
              "      <td>0.001</td>\n",
              "      <td>0.01</td>\n",
              "      <td>0.6387</td>\n",
              "    </tr>\n",
              "    <tr>\n",
              "      <th>4</th>\n",
              "      <td>5.0</td>\n",
              "      <td>0.010</td>\n",
              "      <td>0.10</td>\n",
              "      <td>0.3295</td>\n",
              "    </tr>\n",
              "    <tr>\n",
              "      <th>5</th>\n",
              "      <td>5.0</td>\n",
              "      <td>0.010</td>\n",
              "      <td>0.01</td>\n",
              "      <td>0.3596</td>\n",
              "    </tr>\n",
              "    <tr>\n",
              "      <th>6</th>\n",
              "      <td>5.0</td>\n",
              "      <td>0.001</td>\n",
              "      <td>0.10</td>\n",
              "      <td>0.6227</td>\n",
              "    </tr>\n",
              "    <tr>\n",
              "      <th>7</th>\n",
              "      <td>5.0</td>\n",
              "      <td>0.001</td>\n",
              "      <td>0.01</td>\n",
              "      <td>0.6452</td>\n",
              "    </tr>\n",
              "    <tr>\n",
              "      <th>8</th>\n",
              "      <td>10.0</td>\n",
              "      <td>0.010</td>\n",
              "      <td>0.10</td>\n",
              "      <td>0.6281</td>\n",
              "    </tr>\n",
              "    <tr>\n",
              "      <th>9</th>\n",
              "      <td>10.0</td>\n",
              "      <td>0.010</td>\n",
              "      <td>0.01</td>\n",
              "      <td>0.7536</td>\n",
              "    </tr>\n",
              "    <tr>\n",
              "      <th>10</th>\n",
              "      <td>10.0</td>\n",
              "      <td>0.001</td>\n",
              "      <td>0.10</td>\n",
              "      <td>1.2897</td>\n",
              "    </tr>\n",
              "    <tr>\n",
              "      <th>11</th>\n",
              "      <td>10.0</td>\n",
              "      <td>0.001</td>\n",
              "      <td>0.01</td>\n",
              "      <td>1.3618</td>\n",
              "    </tr>\n",
              "  </tbody>\n",
              "</table>\n",
              "</div>"
            ],
            "text/plain": [
              "    Latent_Dimensions  Learning_Rate  Regularization    RMSE\n",
              "0                 3.0          0.010            0.10  0.3605\n",
              "1                 3.0          0.010            0.01  0.3339\n",
              "2                 3.0          0.001            0.10  0.6452\n",
              "3                 3.0          0.001            0.01  0.6387\n",
              "4                 5.0          0.010            0.10  0.3295\n",
              "5                 5.0          0.010            0.01  0.3596\n",
              "6                 5.0          0.001            0.10  0.6227\n",
              "7                 5.0          0.001            0.01  0.6452\n",
              "8                10.0          0.010            0.10  0.6281\n",
              "9                10.0          0.010            0.01  0.7536\n",
              "10               10.0          0.001            0.10  1.2897\n",
              "11               10.0          0.001            0.01  1.3618"
            ]
          },
          "execution_count": 40,
          "metadata": {},
          "output_type": "execute_result"
        }
      ],
      "source": [
        "hyperparameter_list"
      ]
    },
    {
      "cell_type": "code",
      "execution_count": null,
      "metadata": {
        "id": "JoKCHoowRmGm",
        "outputId": "bbd33ff1-ecd1-4e82-e911-63139768044b"
      },
      "outputs": [
        {
          "name": "stdout",
          "output_type": "stream",
          "text": [
            "Best hyperparameters: Latent_Dimensions    5.0000\n",
            "Learning_Rate        0.0100\n",
            "Regularization       0.1000\n",
            "RMSE                 0.3295\n",
            "Name: 4, dtype: float64\n"
          ]
        }
      ],
      "source": [
        "params_best=hyperparameter_list.iloc[np.argmin(hyperparameter_list.RMSE),:]         #find best hyperparameters according to lowest rmse\n",
        "print(\"Best hyperparameters:\", params_best)"
      ]
    },
    {
      "cell_type": "markdown",
      "source": [
        "### *Compute the test RMSE*"
      ],
      "metadata": {
        "id": "ipNyEoeUoTTw"
      }
    },
    {
      "cell_type": "code",
      "execution_count": null,
      "metadata": {
        "id": "FDSMdJs9RmGm",
        "outputId": "d78d088b-61fc-4112-e638-86cbd4dc530f"
      },
      "outputs": [
        {
          "name": "stdout",
          "output_type": "stream",
          "text": [
            "Test data RMSE using best hyperparameters : 0.3651\n"
          ]
        }
      ],
      "source": [
        "min_error, best_matrix=mf_sgd(train_mov, int(params_best[0]),params_best[1], params_best[2], eps, epochs)    #train matrix factorization sgd with best hyperparameters\n",
        "orig_matrix = get_matrix(test_mov)\n",
        "test_rmse = get_RMSE(orig_matrix,best_matrix,test_mov.shape[0])                    #test it\n",
        "print(\"Test data RMSE using best hyperparameters :\",round(test_rmse,4))"
      ]
    },
    {
      "cell_type": "markdown",
      "metadata": {
        "id": "qcZR9tR8RmGn"
      },
      "source": [
        "# **Exercise 3: Recommender Systems using matrix factorization sckitlearn**\n",
        "Learn a matrix factorization model using coordinate descent method\\\n",
        "Optimize the hyper parameters and perform a 3-fold cross validation"
      ]
    },
    {
      "cell_type": "code",
      "execution_count": null,
      "metadata": {
        "id": "D_9d8cOkRmGn"
      },
      "outputs": [],
      "source": [
        "K=[3,5,10]                         #grid search for hyperparameters\n",
        "lamb=[0.1, 0.01, 0.001]\n",
        "l1 = 0.1    #combination of L1 (more) and L2\n",
        "eps=0.001\n",
        "epochs=100\n",
        "k_fold=3\n",
        "hyperparameter_list_skl = pd.DataFrame(columns=[\"Latent_Dimensions\", \"Regularization\", \"RMSE\"])"
      ]
    },
    {
      "cell_type": "code",
      "execution_count": null,
      "metadata": {
        "id": "OGsRH5XSRmGo",
        "outputId": "f91240db-68a4-4750-a316-09155c7e191a"
      },
      "outputs": [
        {
          "name": "stdout",
          "output_type": "stream",
          "text": [
            "val_rmse: 0 = 1.7569\n",
            "val_rmse: 1 = 1.7223\n",
            "val_rmse: 2 = 1.7669\n",
            "Hyperparameters set: k= 3 l1_ratio= 0.1 Regularization= 0.1 RMSE= 1.7487\n",
            "val_rmse: 0 = 1.7545\n",
            "val_rmse: 1 = 1.7218\n",
            "val_rmse: 2 = 1.7664\n",
            "Hyperparameters set: k= 3 l1_ratio= 0.1 Regularization= 0.01 RMSE= 1.7476\n",
            "val_rmse: 0 = 1.7544\n",
            "val_rmse: 1 = 1.7224\n",
            "val_rmse: 2 = 1.7664\n",
            "Hyperparameters set: k= 3 l1_ratio= 0.1 Regularization= 0.001 RMSE= 1.7477\n",
            "val_rmse: 0 = 1.7537\n",
            "val_rmse: 1 = 1.7194\n",
            "val_rmse: 2 = 1.7631\n",
            "Hyperparameters set: k= 5 l1_ratio= 0.1 Regularization= 0.1 RMSE= 1.7454\n",
            "val_rmse: 0 = 1.7528\n",
            "val_rmse: 1 = 1.7188\n",
            "val_rmse: 2 = 1.7625\n",
            "Hyperparameters set: k= 5 l1_ratio= 0.1 Regularization= 0.01 RMSE= 1.7447\n",
            "val_rmse: 0 = 1.7535\n",
            "val_rmse: 1 = 1.7185\n",
            "val_rmse: 2 = 1.7647\n",
            "Hyperparameters set: k= 5 l1_ratio= 0.1 Regularization= 0.001 RMSE= 1.7456\n",
            "val_rmse: 0 = 1.7508\n",
            "val_rmse: 1 = 1.7213\n",
            "val_rmse: 2 = 1.7608\n",
            "Hyperparameters set: k= 10 l1_ratio= 0.1 Regularization= 0.1 RMSE= 1.7443\n",
            "val_rmse: 0 = 1.7504\n",
            "val_rmse: 1 = 1.7222\n",
            "val_rmse: 2 = 1.7631\n",
            "Hyperparameters set: k= 10 l1_ratio= 0.1 Regularization= 0.01 RMSE= 1.7452\n",
            "val_rmse: 0 = 1.7502\n",
            "val_rmse: 1 = 1.7229\n",
            "val_rmse: 2 = 1.7622\n",
            "Hyperparameters set: k= 10 l1_ratio= 0.1 Regularization= 0.001 RMSE= 1.7451\n"
          ]
        }
      ],
      "source": [
        "for k in K:\n",
        "    for lam in lamb:\n",
        "        final_rmse = 0\n",
        "        for f in range(k_fold):\n",
        "            fold_len=int(np.ceil((train_mov.shape[0])/k_fold))\n",
        "            start_idx=f*fold_len\n",
        "            index = train_mov.index\n",
        "            val_idx = index[start_idx:(start_idx+fold_len)]\n",
        "            val_fold = train_mov.iloc[val_idx.values,:]\n",
        "            train_fold = train_mov.drop(val_fold.index)\n",
        "            nmf = NMF(solver=\"cd\", n_components=k, tol=eps, max_iter=epochs, alpha=lam, l1_ratio=l1, init=\"random\", shuffle=True)  #NMF model through sklearn and l1=0.01\n",
        "            R = get_matrix(train_fold)\n",
        "            W = nmf.fit_transform(R)    #fit NMF\n",
        "            H = nmf.components_\n",
        "            factorized_matrix = np.matmul(W,H)\n",
        "            orig_matrix = get_matrix(val_fold)\n",
        "            val_rmse = get_RMSE(orig_matrix,factorized_matrix,val_fold.shape[0])\n",
        "            print(\"val_rmse:\", f, \"=\", round(val_rmse,4))\n",
        "            final_rmse = final_rmse + (val_rmse/k_fold)\n",
        "        print(\"Hyperparameters set: k=\", k, \"l1_ratio=\", l1, \"Regularization=\",lam, \"RMSE=\",round(final_rmse,4))\n",
        "        hyperparameter_list_skl = hyperparameter_list_skl.append({\"Latent_Dimensions\": k, \"Regularization\":lam, \"RMSE\": final_rmse}, ignore_index=True)"
      ]
    },
    {
      "cell_type": "code",
      "execution_count": null,
      "metadata": {
        "id": "N51HgWwaRmGo",
        "outputId": "8f8292b8-445b-40b4-8df2-f425bb92f5f2"
      },
      "outputs": [
        {
          "data": {
            "text/html": [
              "<div>\n",
              "<style scoped>\n",
              "    .dataframe tbody tr th:only-of-type {\n",
              "        vertical-align: middle;\n",
              "    }\n",
              "\n",
              "    .dataframe tbody tr th {\n",
              "        vertical-align: top;\n",
              "    }\n",
              "\n",
              "    .dataframe thead th {\n",
              "        text-align: right;\n",
              "    }\n",
              "</style>\n",
              "<table border=\"1\" class=\"dataframe\">\n",
              "  <thead>\n",
              "    <tr style=\"text-align: right;\">\n",
              "      <th></th>\n",
              "      <th>Latent_Dimensions</th>\n",
              "      <th>Regularization</th>\n",
              "      <th>RMSE</th>\n",
              "    </tr>\n",
              "  </thead>\n",
              "  <tbody>\n",
              "    <tr>\n",
              "      <th>0</th>\n",
              "      <td>3.0</td>\n",
              "      <td>0.100</td>\n",
              "      <td>1.748701</td>\n",
              "    </tr>\n",
              "    <tr>\n",
              "      <th>1</th>\n",
              "      <td>3.0</td>\n",
              "      <td>0.010</td>\n",
              "      <td>1.747561</td>\n",
              "    </tr>\n",
              "    <tr>\n",
              "      <th>2</th>\n",
              "      <td>3.0</td>\n",
              "      <td>0.001</td>\n",
              "      <td>1.747739</td>\n",
              "    </tr>\n",
              "    <tr>\n",
              "      <th>3</th>\n",
              "      <td>5.0</td>\n",
              "      <td>0.100</td>\n",
              "      <td>1.745356</td>\n",
              "    </tr>\n",
              "    <tr>\n",
              "      <th>4</th>\n",
              "      <td>5.0</td>\n",
              "      <td>0.010</td>\n",
              "      <td>1.744712</td>\n",
              "    </tr>\n",
              "    <tr>\n",
              "      <th>5</th>\n",
              "      <td>5.0</td>\n",
              "      <td>0.001</td>\n",
              "      <td>1.745601</td>\n",
              "    </tr>\n",
              "    <tr>\n",
              "      <th>6</th>\n",
              "      <td>10.0</td>\n",
              "      <td>0.100</td>\n",
              "      <td>1.744313</td>\n",
              "    </tr>\n",
              "    <tr>\n",
              "      <th>7</th>\n",
              "      <td>10.0</td>\n",
              "      <td>0.010</td>\n",
              "      <td>1.745236</td>\n",
              "    </tr>\n",
              "    <tr>\n",
              "      <th>8</th>\n",
              "      <td>10.0</td>\n",
              "      <td>0.001</td>\n",
              "      <td>1.745078</td>\n",
              "    </tr>\n",
              "  </tbody>\n",
              "</table>\n",
              "</div>"
            ],
            "text/plain": [
              "   Latent_Dimensions  Regularization      RMSE\n",
              "0                3.0           0.100  1.748701\n",
              "1                3.0           0.010  1.747561\n",
              "2                3.0           0.001  1.747739\n",
              "3                5.0           0.100  1.745356\n",
              "4                5.0           0.010  1.744712\n",
              "5                5.0           0.001  1.745601\n",
              "6               10.0           0.100  1.744313\n",
              "7               10.0           0.010  1.745236\n",
              "8               10.0           0.001  1.745078"
            ]
          },
          "execution_count": 45,
          "metadata": {},
          "output_type": "execute_result"
        }
      ],
      "source": [
        "hyperparameter_list_skl"
      ]
    },
    {
      "cell_type": "code",
      "execution_count": null,
      "metadata": {
        "id": "pmosSROURmGp",
        "outputId": "4aa47ca9-db73-4d29-eb6a-b4c89d8f1adb"
      },
      "outputs": [
        {
          "data": {
            "text/plain": [
              "Text(0.5, 0, 'RMSE')"
            ]
          },
          "execution_count": 46,
          "metadata": {},
          "output_type": "execute_result"
        },
        {
          "data": {
            "image/png": "[encoded data removed]",
            "text/plain": [
              "<Figure size 936x864 with 2 Axes>"
            ]
          },
          "metadata": {
            "needs_background": "light"
          },
          "output_type": "display_data"
        }
      ],
      "source": [
        "fig, ax = plt.subplots(figsize=(13, 12))      #Coordinate Descent NMF hyperparameters 3D plot\n",
        "ax = fig.add_subplot(111, projection=\"3d\")\n",
        "ax.scatter(hyperparameter_list_skl.Latent_Dimensions, hyperparameter_list_skl.Regularization, hyperparameter_list_skl.RMSE, label='CD NMF')\n",
        "plt.title(\"CD NMF Model - 3-Fold CV Grid Search RMSE\", fontsize=16)\n",
        "ax.set_xlabel(\"Latent Dims\")\n",
        "ax.set_ylabel(\"Regularization\")\n",
        "ax.set_zlabel(\"RMSE\")"
      ]
    },
    {
      "cell_type": "code",
      "execution_count": null,
      "metadata": {
        "id": "igHxEoaERmGp",
        "outputId": "07b2454a-81bd-41ab-f52c-0222e2c63225"
      },
      "outputs": [
        {
          "name": "stdout",
          "output_type": "stream",
          "text": [
            "Best hyperparameters for Coordinate descent using scikitlearn Latent_Dimensions    10.000000\n",
            "Regularization        0.100000\n",
            "RMSE                  1.744313\n",
            "Name: 6, dtype: float64\n"
          ]
        }
      ],
      "source": [
        "skl_params_best=hyperparameter_list_skl.iloc[np.argmin(hyperparameter_list_skl.RMSE),:]    #find best hyperparameters according to lowest rmse\n",
        "print(\"Best hyperparameters for Coordinate descent using scikitlearn\", skl_params_best)"
      ]
    },
    {
      "cell_type": "code",
      "execution_count": null,
      "metadata": {
        "id": "qcQeeIxZRmGp",
        "outputId": "840ec0cc-97fc-404a-c980-f08e97b2aada"
      },
      "outputs": [
        {
          "name": "stdout",
          "output_type": "stream",
          "text": [
            "Coordinate descent with scikitlearn -->  Test data RMSE using best hyperparameters : 1.7912\n"
          ]
        }
      ],
      "source": [
        "nmf = NMF(solver=\"cd\", n_components=int(skl_params_best[0]), tol=eps, max_iter=epochs, alpha=skl_params_best[2], l1_ratio=skl_params_best[1],init=\"random\", shuffle=True)    #train matrix factorization sgd with best hyperparameters\n",
        "R = get_matrix(train_mov)\n",
        "P = nmf.fit_transform(R);\n",
        "Q = nmf.components_;\n",
        "factorized_matrix = np.matmul(P,Q)\n",
        "orig_matrix = get_matrix(test_mov)\n",
        "test_rmse = get_RMSE(orig_matrix,factorized_matrix,test_mov.shape[0])                                #test it\n",
        "print(\"Coordinate descent with scikitlearn -->  Test data RMSE using best hyperparameters :\",round(test_rmse,4))"
      ]
    },
    {
      "cell_type": "markdown",
      "metadata": {
        "id": "vhxge12sRmGq"
      },
      "source": [
        "##### Explanation: Using best hyperparameters for sgd matrix factorization RMSE of 3-fold CV is 0.3295. On test data RMSE is 0.3651. In exercise 3, using built in scikitlearn NMF function to make matrix factorization using Coordinate Descent, it fitted train folds and got matrix W, H to make prediction on ratings. However, its RMSE on test data is 1.7912 which is higher than implemented model. It might be due to CD is not as well suitable as sgd in matrix factorization."
      ]
    },
    {
      "cell_type": "markdown",
      "metadata": {
        "id": "aiifM30CRmGq"
      },
      "source": [
        "# References\n",
        "###https://grouplens.org/datasets/movielens/100k/\n",
        "###https://stackoverflow.com/questions/29919306/find-the-column-name-which-has-the-maximum-value-for-each-row\n",
        "###https://medium.com/analytics-vidhya/matrix-factorization-as-a-recommender-system-727ee64683f0\n",
        "###https://scikit-learn.org/stable/modules/generated/sklearn.decomposition.NMF.html"
      ]
    }
  ],
  "metadata": {
    "kernelspec": {
      "display_name": "Python 3",
      "language": "python",
      "name": "python3"
    },
    "language_info": {
      "codemirror_mode": {
        "name": "ipython",
        "version": 3
      },
      "file_extension": ".py",
      "mimetype": "text/x-python",
      "name": "python",
      "nbconvert_exporter": "python",
      "pygments_lexer": "ipython3",
      "version": "3.6.5"
    },
    "colab": {
      "name": "RecommenderSystems.ipynb",
      "provenance": [],
      "collapsed_sections": []
    }
  },
  "nbformat": 4,
  "nbformat_minor": 0
}