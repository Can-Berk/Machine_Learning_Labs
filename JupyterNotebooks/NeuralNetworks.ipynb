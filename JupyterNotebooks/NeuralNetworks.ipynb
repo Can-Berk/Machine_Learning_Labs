{
  "cells": [
    {
      "cell_type": "markdown",
      "metadata": {
        "id": "0ROxiAcLfXWD"
      },
      "source": [
        "#  **Exercise 1: Optical Character Recognition via Neural Networks**\n",
        "Develop a Neural Network model that can classify human-written digits into\n",
        "either of the first 10 using hyperparameter optimization and k-cross fold validation through Sklearn library."
      ]
    },
    {
      "cell_type": "code",
      "execution_count": null,
      "metadata": {
        "id": "0JaI63gifXWF"
      },
      "outputs": [],
      "source": [
        "from sklearn.datasets import load_digits\n",
        "import numpy as np\n",
        "import pandas as pd\n",
        "import matplotlib.pyplot as plt \n",
        "%matplotlib inline\n",
        "from sklearn.model_selection import KFold\n",
        "from sklearn.neural_network import MLPClassifier\n",
        "from sklearn.model_selection import RandomizedSearchCV\n",
        "from sklearn.model_selection import train_test_split, cross_val_score\n",
        "from sklearn.metrics import accuracy_score\n",
        "import warnings\n",
        "warnings.filterwarnings(\"ignore\")\n",
        "from numpy.random import seed\n",
        "seed(seed=3116)"
      ]
    },
    {
      "cell_type": "markdown",
      "source": [
        "### *Load the MNIST digits dataset*"
      ],
      "metadata": {
        "id": "Q5qKMRgvh8zY"
      }
    },
    {
      "cell_type": "code",
      "execution_count": null,
      "metadata": {
        "id": "ZRF03wTHfXWI"
      },
      "outputs": [],
      "source": [
        "from sklearn.datasets import fetch_openml\n",
        "mnist = fetch_openml('mnist_784')\n",
        "X_data = mnist.data\n",
        "y_data = mnist.target"
      ]
    },
    {
      "cell_type": "code",
      "execution_count": null,
      "metadata": {
        "id": "vN45LltOfXWJ",
        "outputId": "81d8ecaf-a427-4f45-9c9c-b26d4c39ec47"
      },
      "outputs": [
        {
          "name": "stdout",
          "output_type": "stream",
          "text": [
            "x (70000, 784)\n",
            "y (70000,)\n"
          ]
        }
      ],
      "source": [
        "print(\"x\", np.shape(X_data))\n",
        "print(\"y\" ,np.shape(y_data))"
      ]
    },
    {
      "cell_type": "code",
      "execution_count": null,
      "metadata": {
        "id": "xk5XH0_7fXWL"
      },
      "outputs": [],
      "source": [
        "X_data=X_data[:5000]            #Working with partial data because it is too heavy for my laptop\n",
        "y_data=y_data[:5000]"
      ]
    },
    {
      "cell_type": "code",
      "execution_count": null,
      "metadata": {
        "id": "f-vrsIXBfXWM"
      },
      "outputs": [],
      "source": [
        "X, X_test, Y, y_test = train_test_split(X_data, y_data, test_size=0.2, random_state=1)"
      ]
    },
    {
      "cell_type": "code",
      "execution_count": null,
      "metadata": {
        "id": "ySTi-I5ifXWN",
        "outputId": "36957cf7-cac9-4719-94b8-0ba324445b92"
      },
      "outputs": [
        {
          "name": "stdout",
          "output_type": "stream",
          "text": [
            "Shape X: (4000, 784)\n",
            "Test data dimensions: (1000, 784)\n"
          ]
        }
      ],
      "source": [
        "print(\"Shape X:\", np.shape(X))    #80%\n",
        "print(\"Test data dimensions:\", np.shape(X_test))   #20% test"
      ]
    },
    {
      "cell_type": "markdown",
      "source": [
        "### *K-cross fold validation*"
      ],
      "metadata": {
        "id": "0ALQxnSwiP5r"
      }
    },
    {
      "cell_type": "code",
      "execution_count": null,
      "metadata": {
        "id": "OEYwOCEdfXWO"
      },
      "outputs": [],
      "source": [
        "kf = KFold(n_splits=4)    #4 splits to have 60% train 20% val and 20% test data\n",
        "kf.get_n_splits(X)\n",
        "\n",
        "for train_index, test_index in kf.split(X):\n",
        "    X_train, X_val = X_data[train_index], X_data[test_index]\n",
        "    y_train, y_val = y_data[train_index], y_data[test_index]"
      ]
    },
    {
      "cell_type": "code",
      "execution_count": null,
      "metadata": {
        "id": "gFOx6cErfXWQ",
        "outputId": "2af750e6-85f0-46a1-a5f8-0506c37f143c"
      },
      "outputs": [
        {
          "name": "stdout",
          "output_type": "stream",
          "text": [
            "Train data dimensions: (3000, 784)\n",
            "Test data dimensions: (1000, 784)\n"
          ]
        }
      ],
      "source": [
        "print(\"Train data dimensions:\", np.shape(X_train))  #60% train\n",
        "print(\"Validation dimensions:\", np.shape(X_val))    #20% val"
      ]
    },
    {
      "cell_type": "markdown",
      "source": [
        "### *MLPClassifier with Random Search procedure and then train the model* "
      ],
      "metadata": {
        "id": "woGRdSLnieqe"
      }
    },
    {
      "cell_type": "code",
      "execution_count": null,
      "metadata": {
        "id": "Kik_VJJQfXWS"
      },
      "outputs": [],
      "source": [
        "hyperparameter_spec = {'activation': ['identity', 'logistic','tanh', 'relu'],'solver': [ 'lbfgs','sgd','adam'],'alpha': [0.01,0.001,0.0001],'batch_size':['auto',200],'learning_rate': ['constant','adaptive','invscaling'],'max_iter':[100,150,200],}"
      ]
    },
    {
      "cell_type": "code",
      "execution_count": null,
      "metadata": {
        "id": "5C1FduPffXWT",
        "outputId": "b0eb8afa-efff-4d14-ad37-1578285f261e"
      },
      "outputs": [
        {
          "data": {
            "text/plain": [
              "RandomizedSearchCV(cv=4, error_score='raise-deprecating',\n",
              "          estimator=MLPClassifier(activation='relu', alpha=0.0001, batch_size='auto', beta_1=0.9,\n",
              "       beta_2=0.999, early_stopping=False, epsilon=1e-08,\n",
              "       hidden_layer_sizes=(100,), learning_rate='constant',\n",
              "       learning_rate_init=0.001, max_iter=200, momentum=0.9,\n",
              "       n_iter_no_change=10, nesterovs_momentum=True, power_t=0.5,\n",
              "       random_state=None, shuffle=True, solver='adam', tol=0.0001,\n",
              "       validation_fraction=0.1, verbose=False, warm_start=False),\n",
              "          fit_params=None, iid='warn', n_iter=10, n_jobs=None,\n",
              "          param_distributions={'activation': ['identity', 'logistic', 'tanh', 'relu'], 'solver': ['lbfgs', 'sgd', 'adam'], 'alpha': [0.01, 0.001, 0.0001], 'batch_size': ['auto', 200], 'learning_rate': ['constant', 'adaptive', 'invscaling'], 'max_iter': [100, 150, 200]},\n",
              "          pre_dispatch='2*n_jobs', random_state=None, refit=True,\n",
              "          return_train_score='warn', scoring=None, verbose=0)"
            ]
          },
          "execution_count": 17,
          "metadata": {},
          "output_type": "execute_result"
        }
      ],
      "source": [
        "mlp = MLPClassifier()\n",
        "clf = RandomizedSearchCV(mlp, hyperparameter_spec, cv=4)\n",
        "clf.fit(X_train, y_train)"
      ]
    },
    {
      "cell_type": "markdown",
      "source": [
        "### *Best hyperparameters*"
      ],
      "metadata": {
        "id": "rH2sYmufi6aF"
      }
    },
    {
      "cell_type": "code",
      "execution_count": null,
      "metadata": {
        "id": "r-ZV-7PRfXWT",
        "outputId": "34fe95d7-0c6e-4d53-bef8-37cafd5c0ee0"
      },
      "outputs": [
        {
          "name": "stdout",
          "output_type": "stream",
          "text": [
            "   mean_fit_time  std_fit_time  mean_score_time  std_score_time param_solver  \\\n",
            "0       3.746235      0.101013         0.004737        0.000826          sgd   \n",
            "1       0.426361      0.016697         0.003990        0.000001          sgd   \n",
            "2       3.441300      0.019499         0.004247        0.000833          sgd   \n",
            "3       1.504478      0.435252         0.003740        0.000432        lbfgs   \n",
            "4       5.640171      0.214972         0.004495        0.000505          sgd   \n",
            "5       1.560322      0.203042         0.004488        0.000498         adam   \n",
            "6       2.578357      0.044921         0.005236        0.000826          sgd   \n",
            "7       7.498201      0.188289         0.004489        0.001115          sgd   \n",
            "8       4.346628      0.130448         0.005236        0.000827         adam   \n",
            "9       4.195533      0.700935         0.004986        0.000704         adam   \n",
            "\n",
            "  param_max_iter param_learning_rate param_batch_size param_alpha  \\\n",
            "0            100          invscaling             auto      0.0001   \n",
            "1            200            constant             auto       0.001   \n",
            "2            100            adaptive              200        0.01   \n",
            "3            100          invscaling             auto        0.01   \n",
            "4            150            adaptive              200      0.0001   \n",
            "5            150          invscaling              200       0.001   \n",
            "6            100            adaptive             auto        0.01   \n",
            "7            200            adaptive             auto        0.01   \n",
            "8            100            constant             auto        0.01   \n",
            "9            200            adaptive             auto       0.001   \n",
            "\n",
            "  param_activation  ... split3_test_score  mean_test_score  std_test_score  \\\n",
            "0         identity  ...          0.832215         0.780000        0.044141   \n",
            "1         identity  ...          0.087248         0.103000        0.010013   \n",
            "2             relu  ...          0.781208         0.747000        0.032611   \n",
            "3             relu  ...          0.892617         0.865667        0.026630   \n",
            "4             tanh  ...          0.883221         0.869000        0.016763   \n",
            "5         identity  ...          0.869799         0.860000        0.018283   \n",
            "6         identity  ...          0.613423         0.447667        0.113483   \n",
            "7             tanh  ...          0.891275         0.879333        0.016116   \n",
            "8         logistic  ...          0.902013         0.900333        0.010558   \n",
            "9             tanh  ...          0.891275         0.885667        0.022825   \n",
            "\n",
            "   rank_test_score  split0_train_score  split1_train_score  \\\n",
            "0                7            0.858352            0.903957   \n",
            "1               10            0.109577            0.112939   \n",
            "2                8            0.853452            0.859048   \n",
            "3                5            1.000000            1.000000   \n",
            "4                4            0.967038            0.969764   \n",
            "5                6            0.984855            0.990663   \n",
            "6                9            0.347884            0.461538   \n",
            "7                3            0.974610            0.975545   \n",
            "8                1            0.995100            0.995998   \n",
            "9                2            0.970601            0.983993   \n",
            "\n",
            "   split2_train_score  split3_train_score  mean_train_score  std_train_score  \n",
            "0            0.846735            0.900222          0.877316         0.025146  \n",
            "1            0.102177            0.086918          0.102903         0.010016  \n",
            "2            0.768547            0.858093          0.834785         0.038301  \n",
            "3            0.998223            1.000000          0.999556         0.000769  \n",
            "4            0.964904            0.971175          0.968220         0.002424  \n",
            "5            0.988005            0.984922          0.987111         0.002413  \n",
            "6            0.539760            0.666962          0.504036         0.116201  \n",
            "7            0.971124            0.971175          0.973114         0.001992  \n",
            "8            0.994669            0.994235          0.995001         0.000652  \n",
            "9            0.976011            0.958315          0.972230         0.009340  \n",
            "\n",
            "[10 rows x 24 columns]\n"
          ]
        }
      ],
      "source": [
        "clf_cv_results = pd.DataFrame(clf.cv_results_)\n",
        "print(clf_cv_results)"
      ]
    },
    {
      "cell_type": "code",
      "execution_count": null,
      "metadata": {
        "id": "5WQGntMUfXWU",
        "outputId": "69b75e2a-8a8e-4300-bdee-6ae7714ad2a7"
      },
      "outputs": [
        {
          "name": "stdout",
          "output_type": "stream",
          "text": [
            "{'solver': 'adam', 'max_iter': 100, 'learning_rate': 'constant', 'batch_size': 'auto', 'alpha': 0.01, 'activation': 'logistic'}\n"
          ]
        }
      ],
      "source": [
        "a = clf.best_params_\n",
        "print(a)"
      ]
    },
    {
      "cell_type": "code",
      "execution_count": null,
      "metadata": {
        "id": "B_dgeHPGfXWV",
        "outputId": "56fb7530-fd03-426a-8bbb-6ecda22ba263"
      },
      "outputs": [
        {
          "name": "stdout",
          "output_type": "stream",
          "text": [
            "One with best R2 score: 0.9003 {'solver': 'adam', 'max_iter': 100, 'learning_rate': 'constant', 'batch_size': 'auto', 'alpha': 0.01, 'activation': 'logistic'}\n"
          ]
        }
      ],
      "source": [
        "print(\"One with best R2 score:\", round(np.max(clf_cv_results.mean_test_score), 4), clf.best_params_)"
      ]
    },
    {
      "cell_type": "code",
      "execution_count": null,
      "metadata": {
        "id": "anLSlyQQfXWW"
      },
      "outputs": [],
      "source": [
        "clf_best = MLPClassifier(solver=\"adam\", max_iter=100, learning_rate=\"constant\", batch_size= \"auto\", alpha=0.01, activation=\"logistic\")\n",
        "clf_best_model_cv = cross_val_score(clf_best, X_train, y_train, cv=4)"
      ]
    },
    {
      "cell_type": "code",
      "execution_count": null,
      "metadata": {
        "id": "DMPHuvo6fXWW",
        "outputId": "31925df9-dc6b-4d1e-8bcb-dbe78c964db7"
      },
      "outputs": [
        {
          "name": "stdout",
          "output_type": "stream",
          "text": [
            "CV results on best parameters: [0.88609272 0.87749667 0.92389853 0.90067114]\n",
            "CV results mean on best parameters: 0.897\n"
          ]
        }
      ],
      "source": [
        "print(\"CV results on best parameters:\", clf_best_model_cv)\n",
        "print(\"CV results mean on best parameters:\", round(np.mean(clf_best_model_cv),4))"
      ]
    },
    {
      "cell_type": "markdown",
      "source": [
        "### *Test accuracy*"
      ],
      "metadata": {
        "id": "SbH_NwjTjCfL"
      }
    },
    {
      "cell_type": "code",
      "execution_count": null,
      "metadata": {
        "id": "U6gPKbHYfXWX",
        "outputId": "7737a1a6-2011-47c2-d6a4-de3a902e52c8"
      },
      "outputs": [
        {
          "name": "stdout",
          "output_type": "stream",
          "text": [
            "The accuracy of the best model is : 0.961\n"
          ]
        }
      ],
      "source": [
        "y_pred = clf.predict(X_test)\n",
        "print('The accuracy of the best model is :',accuracy_score(y_test, y_pred))"
      ]
    }
  ],
  "metadata": {
    "kernelspec": {
      "display_name": "Python 3",
      "language": "python",
      "name": "python3"
    },
    "language_info": {
      "codemirror_mode": {
        "name": "ipython",
        "version": 3
      },
      "file_extension": ".py",
      "mimetype": "text/x-python",
      "name": "python",
      "nbconvert_exporter": "python",
      "pygments_lexer": "ipython3",
      "version": "3.6.5"
    },
    "colab": {
      "name": "NeuralNetworks.ipynb",
      "provenance": [],
      "collapsed_sections": []
    }
  },
  "nbformat": 4,
  "nbformat_minor": 0
}